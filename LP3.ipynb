{
 "cells": [
  {
   "cell_type": "markdown",
   "metadata": {},
   "source": [
    "## Time Series Analysis on Sale- Regression Model"
   ]
  },
  {
   "cell_type": "markdown",
   "metadata": {},
   "source": [
    "# Business understanding "
   ]
  },
  {
   "cell_type": "markdown",
   "metadata": {},
   "source": [
    "# Hypothesis\n",
    "### Null Hypothesis: Promotions have no significant effect on product sales.\n",
    "### Alternate Hypothesis:  Promotions positively impact product sales, leading to increased sales during promotional periods.\n"
   ]
  },
  {
   "cell_type": "markdown",
   "metadata": {},
   "source": [
    "# 5 Analytic Question\n",
    " 1)\tWhat is the effect of seasonal variations (e.g., Monthly, or quarterly patterns) on total sales?\n",
    " 2)\tWhat store is the highest performer in terms of sales?\n",
    " 3)\tWhat are the best-selling products per location?\n",
    " 4)\tDoes store size affect total sales?\n",
    " 5)\tWhich days have the most sales?\n",
    "\n",
    "\n"
   ]
  },
  {
   "cell_type": "markdown",
   "metadata": {},
   "source": [
    "### Python Libraries\n",
    "### This section is to import all necessary libraries that will be used in the notebook"
   ]
  },
  {
   "cell_type": "code",
   "execution_count": 127,
   "metadata": {},
   "outputs": [
    {
     "name": "stdout",
     "output_type": "stream",
     "text": [
      "Requirement already satisfied: pyodbc in c:\\users\\benedicta mankata\\appdata\\local\\programs\\python\\python311\\lib\\site-packages (4.0.39)\n",
      "Note: you may need to restart the kernel to use updated packages.\n"
     ]
    },
    {
     "name": "stderr",
     "output_type": "stream",
     "text": [
      "\n",
      "[notice] A new release of pip is available: 23.1.2 -> 23.2.1\n",
      "[notice] To update, run: python.exe -m pip install --upgrade pip\n"
     ]
    },
    {
     "name": "stdout",
     "output_type": "stream",
     "text": [
      "Requirement already satisfied: python-dotenv in c:\\users\\benedicta mankata\\appdata\\local\\programs\\python\\python311\\lib\\site-packages (1.0.0)\n",
      "Note: you may need to restart the kernel to use updated packages.\n"
     ]
    },
    {
     "name": "stderr",
     "output_type": "stream",
     "text": [
      "\n",
      "[notice] A new release of pip is available: 23.1.2 -> 23.2.1\n",
      "[notice] To update, run: python.exe -m pip install --upgrade pip\n"
     ]
    },
    {
     "name": "stdout",
     "output_type": "stream",
     "text": [
      "Requirement already satisfied: openpyxl in c:\\users\\benedicta mankata\\appdata\\local\\programs\\python\\python311\\lib\\site-packages (3.1.2)\n",
      "Requirement already satisfied: et-xmlfile in c:\\users\\benedicta mankata\\appdata\\local\\programs\\python\\python311\\lib\\site-packages (from openpyxl) (1.1.0)\n",
      "Note: you may need to restart the kernel to use updated packages.\n"
     ]
    },
    {
     "name": "stderr",
     "output_type": "stream",
     "text": [
      "\n",
      "[notice] A new release of pip is available: 23.1.2 -> 23.2.1\n",
      "[notice] To update, run: python.exe -m pip install --upgrade pip\n"
     ]
    },
    {
     "name": "stdout",
     "output_type": "stream",
     "text": [
      "Requirement already satisfied: nbformat in c:\\users\\benedicta mankata\\appdata\\local\\programs\\python\\python311\\lib\\site-packages (5.9.2)\n",
      "Requirement already satisfied: fastjsonschema in c:\\users\\benedicta mankata\\appdata\\local\\programs\\python\\python311\\lib\\site-packages (from nbformat) (2.18.0)\n",
      "Requirement already satisfied: jsonschema>=2.6 in c:\\users\\benedicta mankata\\appdata\\local\\programs\\python\\python311\\lib\\site-packages (from nbformat) (4.19.0)\n",
      "Requirement already satisfied: jupyter-core in c:\\users\\benedicta mankata\\appdata\\roaming\\python\\python311\\site-packages (from nbformat) (5.3.1)\n",
      "Requirement already satisfied: traitlets>=5.1 in c:\\users\\benedicta mankata\\appdata\\roaming\\python\\python311\\site-packages (from nbformat) (5.9.0)\n",
      "Requirement already satisfied: attrs>=22.2.0 in c:\\users\\benedicta mankata\\appdata\\local\\programs\\python\\python311\\lib\\site-packages (from jsonschema>=2.6->nbformat) (23.1.0)\n",
      "Requirement already satisfied: jsonschema-specifications>=2023.03.6 in c:\\users\\benedicta mankata\\appdata\\local\\programs\\python\\python311\\lib\\site-packages (from jsonschema>=2.6->nbformat) (2023.7.1)\n",
      "Requirement already satisfied: referencing>=0.28.4 in c:\\users\\benedicta mankata\\appdata\\local\\programs\\python\\python311\\lib\\site-packages (from jsonschema>=2.6->nbformat) (0.30.2)\n",
      "Requirement already satisfied: rpds-py>=0.7.1 in c:\\users\\benedicta mankata\\appdata\\local\\programs\\python\\python311\\lib\\site-packages (from jsonschema>=2.6->nbformat) (0.10.0)\n",
      "Requirement already satisfied: platformdirs>=2.5 in c:\\users\\benedicta mankata\\appdata\\roaming\\python\\python311\\site-packages (from jupyter-core->nbformat) (3.8.0)\n",
      "Requirement already satisfied: pywin32>=300 in c:\\users\\benedicta mankata\\appdata\\roaming\\python\\python311\\site-packages (from jupyter-core->nbformat) (306)\n",
      "Note: you may need to restart the kernel to use updated packages.\n"
     ]
    },
    {
     "name": "stderr",
     "output_type": "stream",
     "text": [
      "\n",
      "[notice] A new release of pip is available: 23.1.2 -> 23.2.1\n",
      "[notice] To update, run: python.exe -m pip install --upgrade pip\n"
     ]
    },
    {
     "name": "stdout",
     "output_type": "stream",
     "text": [
      "Requirement already satisfied: plotly in c:\\users\\benedicta mankata\\appdata\\local\\programs\\python\\python311\\lib\\site-packages (5.16.1)Note: you may need to restart the kernel to use updated packages.\n",
      "\n",
      "Requirement already satisfied: tenacity>=6.2.0 in c:\\users\\benedicta mankata\\appdata\\local\\programs\\python\\python311\\lib\\site-packages (from plotly) (8.2.3)\n",
      "Requirement already satisfied: packaging in c:\\users\\benedicta mankata\\appdata\\local\\programs\\python\\python311\\lib\\site-packages (from plotly) (23.1)\n"
     ]
    },
    {
     "name": "stderr",
     "output_type": "stream",
     "text": [
      "\n",
      "[notice] A new release of pip is available: 23.1.2 -> 23.2.1\n",
      "[notice] To update, run: python.exe -m pip install --upgrade pip\n"
     ]
    },
    {
     "name": "stdout",
     "output_type": "stream",
     "text": [
      "Requirement already satisfied: jupyterlab in c:\\users\\benedicta mankata\\appdata\\local\\programs\\python\\python311\\lib\\site-packages (4.0.5)\n",
      "Requirement already satisfied: ipywidgets in c:\\users\\benedicta mankata\\appdata\\local\\programs\\python\\python311\\lib\\site-packages (8.1.0)\n",
      "Requirement already satisfied: async-lru>=1.0.0 in c:\\users\\benedicta mankata\\appdata\\local\\programs\\python\\python311\\lib\\site-packages (from jupyterlab) (2.0.4)\n",
      "Requirement already satisfied: ipykernel in c:\\users\\benedicta mankata\\appdata\\roaming\\python\\python311\\site-packages (from jupyterlab) (6.23.3)\n",
      "Requirement already satisfied: jinja2>=3.0.3 in c:\\users\\benedicta mankata\\appdata\\local\\programs\\python\\python311\\lib\\site-packages (from jupyterlab) (3.1.2)\n",
      "Requirement already satisfied: jupyter-core in c:\\users\\benedicta mankata\\appdata\\roaming\\python\\python311\\site-packages (from jupyterlab) (5.3.1)\n",
      "Requirement already satisfied: jupyter-lsp>=2.0.0 in c:\\users\\benedicta mankata\\appdata\\local\\programs\\python\\python311\\lib\\site-packages (from jupyterlab) (2.2.0)\n",
      "Requirement already satisfied: jupyter-server<3,>=2.4.0 in c:\\users\\benedicta mankata\\appdata\\local\\programs\\python\\python311\\lib\\site-packages (from jupyterlab) (2.7.2)\n",
      "Requirement already satisfied: jupyterlab-server<3,>=2.19.0 in c:\\users\\benedicta mankata\\appdata\\local\\programs\\python\\python311\\lib\\site-packages (from jupyterlab) (2.24.0)\n",
      "Requirement already satisfied: notebook-shim>=0.2 in c:\\users\\benedicta mankata\\appdata\\local\\programs\\python\\python311\\lib\\site-packages (from jupyterlab) (0.2.3)\n",
      "Requirement already satisfied: packaging in c:\\users\\benedicta mankata\\appdata\\local\\programs\\python\\python311\\lib\\site-packages (from jupyterlab) (23.1)\n",
      "Requirement already satisfied: tornado>=6.2.0 in c:\\users\\benedicta mankata\\appdata\\roaming\\python\\python311\\site-packages (from jupyterlab) (6.3.2)\n",
      "Requirement already satisfied: traitlets in c:\\users\\benedicta mankata\\appdata\\roaming\\python\\python311\\site-packages (from jupyterlab) (5.9.0)\n",
      "Requirement already satisfied: comm>=0.1.3 in c:\\users\\benedicta mankata\\appdata\\roaming\\python\\python311\\site-packages (from ipywidgets) (0.1.3)\n",
      "Requirement already satisfied: ipython>=6.1.0 in c:\\users\\benedicta mankata\\appdata\\roaming\\python\\python311\\site-packages (from ipywidgets) (8.14.0)\n",
      "Requirement already satisfied: widgetsnbextension~=4.0.7 in c:\\users\\benedicta mankata\\appdata\\local\\programs\\python\\python311\\lib\\site-packages (from ipywidgets) (4.0.8)\n",
      "Requirement already satisfied: jupyterlab-widgets~=3.0.7 in c:\\users\\benedicta mankata\\appdata\\local\\programs\\python\\python311\\lib\\site-packages (from ipywidgets) (3.0.8)\n",
      "Requirement already satisfied: backcall in c:\\users\\benedicta mankata\\appdata\\roaming\\python\\python311\\site-packages (from ipython>=6.1.0->ipywidgets) (0.2.0)\n",
      "Requirement already satisfied: decorator in c:\\users\\benedicta mankata\\appdata\\roaming\\python\\python311\\site-packages (from ipython>=6.1.0->ipywidgets) (5.1.1)\n",
      "Requirement already satisfied: jedi>=0.16 in c:\\users\\benedicta mankata\\appdata\\roaming\\python\\python311\\site-packages (from ipython>=6.1.0->ipywidgets) (0.18.2)\n",
      "Requirement already satisfied: matplotlib-inline in c:\\users\\benedicta mankata\\appdata\\roaming\\python\\python311\\site-packages (from ipython>=6.1.0->ipywidgets) (0.1.6)\n",
      "Requirement already satisfied: pickleshare in c:\\users\\benedicta mankata\\appdata\\roaming\\python\\python311\\site-packages (from ipython>=6.1.0->ipywidgets) (0.7.5)\n",
      "Requirement already satisfied: prompt-toolkit!=3.0.37,<3.1.0,>=3.0.30 in c:\\users\\benedicta mankata\\appdata\\roaming\\python\\python311\\site-packages (from ipython>=6.1.0->ipywidgets) (3.0.38)\n",
      "Requirement already satisfied: pygments>=2.4.0 in c:\\users\\benedicta mankata\\appdata\\roaming\\python\\python311\\site-packages (from ipython>=6.1.0->ipywidgets) (2.15.1)\n",
      "Requirement already satisfied: stack-data in c:\\users\\benedicta mankata\\appdata\\roaming\\python\\python311\\site-packages (from ipython>=6.1.0->ipywidgets) (0.6.2)\n",
      "Requirement already satisfied: colorama in c:\\users\\benedicta mankata\\appdata\\local\\programs\\python\\python311\\lib\\site-packages (from ipython>=6.1.0->ipywidgets) (0.4.6)\n",
      "Requirement already satisfied: MarkupSafe>=2.0 in c:\\users\\benedicta mankata\\appdata\\local\\programs\\python\\python311\\lib\\site-packages (from jinja2>=3.0.3->jupyterlab) (2.1.3)\n",
      "Requirement already satisfied: anyio>=3.1.0 in c:\\users\\benedicta mankata\\appdata\\local\\programs\\python\\python311\\lib\\site-packages (from jupyter-server<3,>=2.4.0->jupyterlab) (3.7.1)\n",
      "Requirement already satisfied: argon2-cffi in c:\\users\\benedicta mankata\\appdata\\local\\programs\\python\\python311\\lib\\site-packages (from jupyter-server<3,>=2.4.0->jupyterlab) (23.1.0)\n",
      "Requirement already satisfied: jupyter-client>=7.4.4 in c:\\users\\benedicta mankata\\appdata\\roaming\\python\\python311\\site-packages (from jupyter-server<3,>=2.4.0->jupyterlab) (8.3.0)\n",
      "Requirement already satisfied: jupyter-events>=0.6.0 in c:\\users\\benedicta mankata\\appdata\\local\\programs\\python\\python311\\lib\\site-packages (from jupyter-server<3,>=2.4.0->jupyterlab) (0.7.0)\n",
      "Requirement already satisfied: jupyter-server-terminals in c:\\users\\benedicta mankata\\appdata\\local\\programs\\python\\python311\\lib\\site-packages (from jupyter-server<3,>=2.4.0->jupyterlab) (0.4.4)\n",
      "Requirement already satisfied: nbconvert>=6.4.4 in c:\\users\\benedicta mankata\\appdata\\local\\programs\\python\\python311\\lib\\site-packages (from jupyter-server<3,>=2.4.0->jupyterlab) (7.8.0)\n",
      "Requirement already satisfied: nbformat>=5.3.0 in c:\\users\\benedicta mankata\\appdata\\local\\programs\\python\\python311\\lib\\site-packages (from jupyter-server<3,>=2.4.0->jupyterlab) (5.9.2)\n",
      "Requirement already satisfied: overrides in c:\\users\\benedicta mankata\\appdata\\local\\programs\\python\\python311\\lib\\site-packages (from jupyter-server<3,>=2.4.0->jupyterlab) (7.4.0)\n",
      "Requirement already satisfied: prometheus-client in c:\\users\\benedicta mankata\\appdata\\local\\programs\\python\\python311\\lib\\site-packages (from jupyter-server<3,>=2.4.0->jupyterlab) (0.17.1)\n",
      "Requirement already satisfied: pywinpty in c:\\users\\benedicta mankata\\appdata\\local\\programs\\python\\python311\\lib\\site-packages (from jupyter-server<3,>=2.4.0->jupyterlab) (2.0.11)\n",
      "Requirement already satisfied: pyzmq>=24 in c:\\users\\benedicta mankata\\appdata\\roaming\\python\\python311\\site-packages (from jupyter-server<3,>=2.4.0->jupyterlab) (25.1.0)\n",
      "Requirement already satisfied: send2trash>=1.8.2 in c:\\users\\benedicta mankata\\appdata\\local\\programs\\python\\python311\\lib\\site-packages (from jupyter-server<3,>=2.4.0->jupyterlab) (1.8.2)\n",
      "Requirement already satisfied: terminado>=0.8.3 in c:\\users\\benedicta mankata\\appdata\\local\\programs\\python\\python311\\lib\\site-packages (from jupyter-server<3,>=2.4.0->jupyterlab) (0.17.1)\n",
      "Requirement already satisfied: websocket-client in c:\\users\\benedicta mankata\\appdata\\local\\programs\\python\\python311\\lib\\site-packages (from jupyter-server<3,>=2.4.0->jupyterlab) (1.6.2)\n",
      "Requirement already satisfied: platformdirs>=2.5 in c:\\users\\benedicta mankata\\appdata\\roaming\\python\\python311\\site-packages (from jupyter-core->jupyterlab) (3.8.0)\n",
      "Requirement already satisfied: pywin32>=300 in c:\\users\\benedicta mankata\\appdata\\roaming\\python\\python311\\site-packages (from jupyter-core->jupyterlab) (306)\n",
      "Requirement already satisfied: babel>=2.10 in c:\\users\\benedicta mankata\\appdata\\local\\programs\\python\\python311\\lib\\site-packages (from jupyterlab-server<3,>=2.19.0->jupyterlab) (2.12.1)\n",
      "Requirement already satisfied: json5>=0.9.0 in c:\\users\\benedicta mankata\\appdata\\local\\programs\\python\\python311\\lib\\site-packages (from jupyterlab-server<3,>=2.19.0->jupyterlab) (0.9.14)\n",
      "Requirement already satisfied: jsonschema>=4.17.3 in c:\\users\\benedicta mankata\\appdata\\local\\programs\\python\\python311\\lib\\site-packages (from jupyterlab-server<3,>=2.19.0->jupyterlab) (4.19.0)\n",
      "Requirement already satisfied: requests>=2.28 in c:\\users\\benedicta mankata\\appdata\\local\\programs\\python\\python311\\lib\\site-packages (from jupyterlab-server<3,>=2.19.0->jupyterlab) (2.31.0)\n",
      "Requirement already satisfied: debugpy>=1.6.5 in c:\\users\\benedicta mankata\\appdata\\roaming\\python\\python311\\site-packages (from ipykernel->jupyterlab) (1.6.7)\n",
      "Requirement already satisfied: nest-asyncio in c:\\users\\benedicta mankata\\appdata\\roaming\\python\\python311\\site-packages (from ipykernel->jupyterlab) (1.5.6)\n",
      "Requirement already satisfied: psutil in c:\\users\\benedicta mankata\\appdata\\roaming\\python\\python311\\site-packages (from ipykernel->jupyterlab) (5.9.5)\n",
      "Requirement already satisfied: idna>=2.8 in c:\\users\\benedicta mankata\\appdata\\local\\programs\\python\\python311\\lib\\site-packages (from anyio>=3.1.0->jupyter-server<3,>=2.4.0->jupyterlab) (3.4)\n",
      "Requirement already satisfied: sniffio>=1.1 in c:\\users\\benedicta mankata\\appdata\\local\\programs\\python\\python311\\lib\\site-packages (from anyio>=3.1.0->jupyter-server<3,>=2.4.0->jupyterlab) (1.3.0)\n",
      "Requirement already satisfied: parso<0.9.0,>=0.8.0 in c:\\users\\benedicta mankata\\appdata\\roaming\\python\\python311\\site-packages (from jedi>=0.16->ipython>=6.1.0->ipywidgets) (0.8.3)\n",
      "Requirement already satisfied: attrs>=22.2.0 in c:\\users\\benedicta mankata\\appdata\\local\\programs\\python\\python311\\lib\\site-packages (from jsonschema>=4.17.3->jupyterlab-server<3,>=2.19.0->jupyterlab) (23.1.0)\n",
      "Requirement already satisfied: jsonschema-specifications>=2023.03.6 in c:\\users\\benedicta mankata\\appdata\\local\\programs\\python\\python311\\lib\\site-packages (from jsonschema>=4.17.3->jupyterlab-server<3,>=2.19.0->jupyterlab) (2023.7.1)\n",
      "Requirement already satisfied: referencing>=0.28.4 in c:\\users\\benedicta mankata\\appdata\\local\\programs\\python\\python311\\lib\\site-packages (from jsonschema>=4.17.3->jupyterlab-server<3,>=2.19.0->jupyterlab) (0.30.2)\n",
      "Requirement already satisfied: rpds-py>=0.7.1 in c:\\users\\benedicta mankata\\appdata\\local\\programs\\python\\python311\\lib\\site-packages (from jsonschema>=4.17.3->jupyterlab-server<3,>=2.19.0->jupyterlab) (0.10.0)\n",
      "Requirement already satisfied: python-dateutil>=2.8.2 in c:\\users\\benedicta mankata\\appdata\\local\\programs\\python\\python311\\lib\\site-packages (from jupyter-client>=7.4.4->jupyter-server<3,>=2.4.0->jupyterlab) (2.8.2)\n",
      "Requirement already satisfied: python-json-logger>=2.0.4 in c:\\users\\benedicta mankata\\appdata\\local\\programs\\python\\python311\\lib\\site-packages (from jupyter-events>=0.6.0->jupyter-server<3,>=2.4.0->jupyterlab) (2.0.7)\n",
      "Requirement already satisfied: pyyaml>=5.3 in c:\\users\\benedicta mankata\\appdata\\local\\programs\\python\\python311\\lib\\site-packages (from jupyter-events>=0.6.0->jupyter-server<3,>=2.4.0->jupyterlab) (6.0.1)\n",
      "Requirement already satisfied: rfc3339-validator in c:\\users\\benedicta mankata\\appdata\\local\\programs\\python\\python311\\lib\\site-packages (from jupyter-events>=0.6.0->jupyter-server<3,>=2.4.0->jupyterlab) (0.1.4)\n",
      "Requirement already satisfied: rfc3986-validator>=0.1.1 in c:\\users\\benedicta mankata\\appdata\\local\\programs\\python\\python311\\lib\\site-packages (from jupyter-events>=0.6.0->jupyter-server<3,>=2.4.0->jupyterlab) (0.1.1)\n",
      "Requirement already satisfied: beautifulsoup4 in c:\\users\\benedicta mankata\\appdata\\local\\programs\\python\\python311\\lib\\site-packages (from nbconvert>=6.4.4->jupyter-server<3,>=2.4.0->jupyterlab) (4.12.2)\n",
      "Requirement already satisfied: bleach!=5.0.0 in c:\\users\\benedicta mankata\\appdata\\local\\programs\\python\\python311\\lib\\site-packages (from nbconvert>=6.4.4->jupyter-server<3,>=2.4.0->jupyterlab) (6.0.0)\n",
      "Requirement already satisfied: defusedxml in c:\\users\\benedicta mankata\\appdata\\local\\programs\\python\\python311\\lib\\site-packages (from nbconvert>=6.4.4->jupyter-server<3,>=2.4.0->jupyterlab) (0.7.1)\n",
      "Requirement already satisfied: jupyterlab-pygments in c:\\users\\benedicta mankata\\appdata\\local\\programs\\python\\python311\\lib\\site-packages (from nbconvert>=6.4.4->jupyter-server<3,>=2.4.0->jupyterlab) (0.2.2)\n",
      "Requirement already satisfied: mistune<4,>=2.0.3 in c:\\users\\benedicta mankata\\appdata\\local\\programs\\python\\python311\\lib\\site-packages (from nbconvert>=6.4.4->jupyter-server<3,>=2.4.0->jupyterlab) (3.0.1)\n",
      "Requirement already satisfied: nbclient>=0.5.0 in c:\\users\\benedicta mankata\\appdata\\local\\programs\\python\\python311\\lib\\site-packages (from nbconvert>=6.4.4->jupyter-server<3,>=2.4.0->jupyterlab) (0.8.0)\n",
      "Requirement already satisfied: pandocfilters>=1.4.1 in c:\\users\\benedicta mankata\\appdata\\local\\programs\\python\\python311\\lib\\site-packages (from nbconvert>=6.4.4->jupyter-server<3,>=2.4.0->jupyterlab) (1.5.0)\n",
      "Requirement already satisfied: tinycss2 in c:\\users\\benedicta mankata\\appdata\\local\\programs\\python\\python311\\lib\\site-packages (from nbconvert>=6.4.4->jupyter-server<3,>=2.4.0->jupyterlab) (1.2.1)\n",
      "Requirement already satisfied: fastjsonschema in c:\\users\\benedicta mankata\\appdata\\local\\programs\\python\\python311\\lib\\site-packages (from nbformat>=5.3.0->jupyter-server<3,>=2.4.0->jupyterlab) (2.18.0)\n",
      "Requirement already satisfied: wcwidth in c:\\users\\benedicta mankata\\appdata\\roaming\\python\\python311\\site-packages (from prompt-toolkit!=3.0.37,<3.1.0,>=3.0.30->ipython>=6.1.0->ipywidgets) (0.2.6)\n",
      "Requirement already satisfied: charset-normalizer<4,>=2 in c:\\users\\benedicta mankata\\appdata\\local\\programs\\python\\python311\\lib\\site-packages (from requests>=2.28->jupyterlab-server<3,>=2.19.0->jupyterlab) (3.1.0)\n",
      "Requirement already satisfied: urllib3<3,>=1.21.1 in c:\\users\\benedicta mankata\\appdata\\local\\programs\\python\\python311\\lib\\site-packages (from requests>=2.28->jupyterlab-server<3,>=2.19.0->jupyterlab) (1.26.16)\n",
      "Requirement already satisfied: certifi>=2017.4.17 in c:\\users\\benedicta mankata\\appdata\\local\\programs\\python\\python311\\lib\\site-packages (from requests>=2.28->jupyterlab-server<3,>=2.19.0->jupyterlab) (2023.5.7)\n",
      "Requirement already satisfied: argon2-cffi-bindings in c:\\users\\benedicta mankata\\appdata\\local\\programs\\python\\python311\\lib\\site-packages (from argon2-cffi->jupyter-server<3,>=2.4.0->jupyterlab) (21.2.0)\n",
      "Requirement already satisfied: executing>=1.2.0 in c:\\users\\benedicta mankata\\appdata\\roaming\\python\\python311\\site-packages (from stack-data->ipython>=6.1.0->ipywidgets) (1.2.0)\n",
      "Requirement already satisfied: asttokens>=2.1.0 in c:\\users\\benedicta mankata\\appdata\\roaming\\python\\python311\\site-packages (from stack-data->ipython>=6.1.0->ipywidgets) (2.2.1)\n",
      "Requirement already satisfied: pure-eval in c:\\users\\benedicta mankata\\appdata\\roaming\\python\\python311\\site-packages (from stack-data->ipython>=6.1.0->ipywidgets) (0.2.2)\n",
      "Requirement already satisfied: six in c:\\users\\benedicta mankata\\appdata\\local\\programs\\python\\python311\\lib\\site-packages (from asttokens>=2.1.0->stack-data->ipython>=6.1.0->ipywidgets) (1.16.0)\n",
      "Requirement already satisfied: webencodings in c:\\users\\benedicta mankata\\appdata\\local\\programs\\python\\python311\\lib\\site-packages (from bleach!=5.0.0->nbconvert>=6.4.4->jupyter-server<3,>=2.4.0->jupyterlab) (0.5.1)\n",
      "Requirement already satisfied: fqdn in c:\\users\\benedicta mankata\\appdata\\local\\programs\\python\\python311\\lib\\site-packages (from jsonschema>=4.17.3->jupyterlab-server<3,>=2.19.0->jupyterlab) (1.5.1)\n",
      "Requirement already satisfied: isoduration in c:\\users\\benedicta mankata\\appdata\\local\\programs\\python\\python311\\lib\\site-packages (from jsonschema>=4.17.3->jupyterlab-server<3,>=2.19.0->jupyterlab) (20.11.0)\n",
      "Requirement already satisfied: jsonpointer>1.13 in c:\\users\\benedicta mankata\\appdata\\local\\programs\\python\\python311\\lib\\site-packages (from jsonschema>=4.17.3->jupyterlab-server<3,>=2.19.0->jupyterlab) (2.4)\n",
      "Requirement already satisfied: uri-template in c:\\users\\benedicta mankata\\appdata\\local\\programs\\python\\python311\\lib\\site-packages (from jsonschema>=4.17.3->jupyterlab-server<3,>=2.19.0->jupyterlab) (1.3.0)\n",
      "Requirement already satisfied: webcolors>=1.11 in c:\\users\\benedicta mankata\\appdata\\local\\programs\\python\\python311\\lib\\site-packages (from jsonschema>=4.17.3->jupyterlab-server<3,>=2.19.0->jupyterlab) (1.13)\n",
      "Requirement already satisfied: cffi>=1.0.1 in c:\\users\\benedicta mankata\\appdata\\local\\programs\\python\\python311\\lib\\site-packages (from argon2-cffi-bindings->argon2-cffi->jupyter-server<3,>=2.4.0->jupyterlab) (1.15.1)\n",
      "Requirement already satisfied: soupsieve>1.2 in c:\\users\\benedicta mankata\\appdata\\local\\programs\\python\\python311\\lib\\site-packages (from beautifulsoup4->nbconvert>=6.4.4->jupyter-server<3,>=2.4.0->jupyterlab) (2.4.1)\n",
      "Requirement already satisfied: pycparser in c:\\users\\benedicta mankata\\appdata\\local\\programs\\python\\python311\\lib\\site-packages (from cffi>=1.0.1->argon2-cffi-bindings->argon2-cffi->jupyter-server<3,>=2.4.0->jupyterlab) (2.21)\n",
      "Requirement already satisfied: arrow>=0.15.0 in c:\\users\\benedicta mankata\\appdata\\local\\programs\\python\\python311\\lib\\site-packages (from isoduration->jsonschema>=4.17.3->jupyterlab-server<3,>=2.19.0->jupyterlab) (1.2.3)\n",
      "Note: you may need to restart the kernel to use updated packages.\n"
     ]
    },
    {
     "name": "stderr",
     "output_type": "stream",
     "text": [
      "\n",
      "[notice] A new release of pip is available: 23.1.2 -> 23.2.1\n",
      "[notice] To update, run: python.exe -m pip install --upgrade pip\n"
     ]
    }
   ],
   "source": [
    "%pip install pyodbc  \n",
    "%pip install python-dotenv \n",
    "%pip install openpyxl\n",
    "%pip install --upgrade nbformat\n",
    "%pip install plotly\n",
    "%pip install jupyterlab ipywidgets"
   ]
  },
  {
   "cell_type": "markdown",
   "metadata": {},
   "source": [
    "#### - Import all the necessary packages"
   ]
  },
  {
   "cell_type": "code",
   "execution_count": 128,
   "metadata": {},
   "outputs": [],
   "source": [
    "import pyodbc #just installed with pip\n",
    "from dotenv import dotenv_values #import the dotenv_values function from the dotenv package\n",
    "import pandas as pd\n",
    "import numpy as np\n",
    "import matplotlib.pyplot as plt\n",
    "import matplotlib.dates as mdates\n",
    "import plotly.express as px\n",
    "import seaborn as sns\n",
    "import statsmodels.api as sm\n",
    "from statsmodels.tsa.stattools import adfuller\n",
    "import warnings \n",
    "\n",
    "warnings.filterwarnings('ignore')"
   ]
  },
  {
   "cell_type": "markdown",
   "metadata": {},
   "source": [
    "## 3. Data preparation\n",
    "### 3.1: Data Loading\n",
    "### This is how the first dataset was retrieved from the SQL Server database. The second and third datasets were downloaded and imported."
   ]
  },
  {
   "cell_type": "code",
   "execution_count": 129,
   "metadata": {},
   "outputs": [],
   "source": [
    "environment_variables = dotenv_values('.env')\n",
    "    \n",
    "database = environment_variables.get(\"DATABASE\")\n",
    "server = environment_variables.get(\"SERVER\")\n",
    "username = environment_variables.get(\"USERNAME\")\n",
    "password = environment_variables.get(\"PASSWORD\")\n",
    "    \n",
    "connection_string = f\"DRIVER={{SQL Server}};SERVER={server};DATABASE={database};UID={username};PWD={password}\"\n",
    "    \n",
    "connection = pyodbc.connect(connection_string)"
   ]
  },
  {
   "cell_type": "markdown",
   "metadata": {},
   "source": [
    "# Data for the Project\n",
    "1. First dataset - the oil,holiday and stores data was extracted from Microsoft SQL Server\n",
    "2. Second dataset - the train and transaction of the dataset was downloaded from a GitHub repository\n",
    "3. Third dataset - The test and submission of the data was downloaded from Onedrive"
   ]
  },
  {
   "cell_type": "code",
   "execution_count": 130,
   "metadata": {},
   "outputs": [
    {
     "data": {
      "text/html": [
       "<div>\n",
       "<style scoped>\n",
       "    .dataframe tbody tr th:only-of-type {\n",
       "        vertical-align: middle;\n",
       "    }\n",
       "\n",
       "    .dataframe tbody tr th {\n",
       "        vertical-align: top;\n",
       "    }\n",
       "\n",
       "    .dataframe thead th {\n",
       "        text-align: right;\n",
       "    }\n",
       "</style>\n",
       "<table border=\"1\" class=\"dataframe\">\n",
       "  <thead>\n",
       "    <tr style=\"text-align: right;\">\n",
       "      <th></th>\n",
       "      <th>date</th>\n",
       "      <th>dcoilwtico</th>\n",
       "    </tr>\n",
       "  </thead>\n",
       "  <tbody>\n",
       "    <tr>\n",
       "      <th>0</th>\n",
       "      <td>2013-01-01</td>\n",
       "      <td>NaN</td>\n",
       "    </tr>\n",
       "    <tr>\n",
       "      <th>1</th>\n",
       "      <td>2013-01-02</td>\n",
       "      <td>93.139999</td>\n",
       "    </tr>\n",
       "    <tr>\n",
       "      <th>2</th>\n",
       "      <td>2013-01-03</td>\n",
       "      <td>92.970001</td>\n",
       "    </tr>\n",
       "    <tr>\n",
       "      <th>3</th>\n",
       "      <td>2013-01-04</td>\n",
       "      <td>93.120003</td>\n",
       "    </tr>\n",
       "    <tr>\n",
       "      <th>4</th>\n",
       "      <td>2013-01-07</td>\n",
       "      <td>93.199997</td>\n",
       "    </tr>\n",
       "  </tbody>\n",
       "</table>\n",
       "</div>"
      ],
      "text/plain": [
       "         date  dcoilwtico\n",
       "0  2013-01-01         NaN\n",
       "1  2013-01-02   93.139999\n",
       "2  2013-01-03   92.970001\n",
       "3  2013-01-04   93.120003\n",
       "4  2013-01-07   93.199997"
      ]
     },
     "execution_count": 130,
     "metadata": {},
     "output_type": "execute_result"
    }
   ],
   "source": [
    "# extract data from Table 1: dbo.oil\n",
    "# assign it to data_oil\n",
    "# preview data_oil\n",
    "\n",
    "query=\"Select * from dbo.oil\" \n",
    "data_oil=pd.read_sql(query, connection)\n",
    "\n",
    "data_oil.head()"
   ]
  },
  {
   "cell_type": "code",
   "execution_count": 131,
   "metadata": {},
   "outputs": [
    {
     "data": {
      "text/plain": [
       "(1218, 2)"
      ]
     },
     "execution_count": 131,
     "metadata": {},
     "output_type": "execute_result"
    }
   ],
   "source": [
    "data_oil.shape"
   ]
  },
  {
   "cell_type": "code",
   "execution_count": 132,
   "metadata": {},
   "outputs": [
    {
     "name": "stdout",
     "output_type": "stream",
     "text": [
      "<class 'pandas.core.frame.DataFrame'>\n",
      "RangeIndex: 1218 entries, 0 to 1217\n",
      "Data columns (total 2 columns):\n",
      " #   Column      Non-Null Count  Dtype  \n",
      "---  ------      --------------  -----  \n",
      " 0   date        1218 non-null   object \n",
      " 1   dcoilwtico  1175 non-null   float64\n",
      "dtypes: float64(1), object(1)\n",
      "memory usage: 19.2+ KB\n"
     ]
    }
   ],
   "source": [
    "data_oil.info()"
   ]
  },
  {
   "cell_type": "code",
   "execution_count": 133,
   "metadata": {},
   "outputs": [
    {
     "data": {
      "text/plain": [
       "date           0\n",
       "dcoilwtico    43\n",
       "dtype: int64"
      ]
     },
     "execution_count": 133,
     "metadata": {},
     "output_type": "execute_result"
    }
   ],
   "source": [
    "data_oil.isnull().sum()"
   ]
  },
  {
   "cell_type": "code",
   "execution_count": 134,
   "metadata": {},
   "outputs": [],
   "source": [
    "# Save extracted data as data_oil.csv\n",
    "data_oil['date'] = pd.to_datetime(data_oil['date'])  # Convert 'date' column to datetime if not already\n",
    "data_oil.to_csv('data_oil.csv', index=False)  # Save the DataFrame to CSV without the index column"
   ]
  },
  {
   "cell_type": "code",
   "execution_count": 135,
   "metadata": {},
   "outputs": [
    {
     "name": "stdout",
     "output_type": "stream",
     "text": [
      "<class 'pandas.core.frame.DataFrame'>\n",
      "RangeIndex: 1218 entries, 0 to 1217\n",
      "Data columns (total 2 columns):\n",
      " #   Column      Non-Null Count  Dtype         \n",
      "---  ------      --------------  -----         \n",
      " 0   date        1218 non-null   datetime64[ns]\n",
      " 1   oil_prices  1175 non-null   float64       \n",
      "dtypes: datetime64[ns](1), float64(1)\n",
      "memory usage: 19.2 KB\n"
     ]
    }
   ],
   "source": [
    "# rename column 'dcoilwtico' to oil_price in oil.csv\n",
    "\n",
    "data_oil.rename(columns={'dcoilwtico':'oil_prices'}, inplace=True)\n",
    "data_oil.info()"
   ]
  },
  {
   "cell_type": "code",
   "execution_count": 136,
   "metadata": {},
   "outputs": [],
   "source": [
    "data_oil['year'] = data_oil['date'].dt.year\n",
    "data_oil['month'] = data_oil['date'].dt.month\n",
    "data_oil['day'] = data_oil['date'].dt.day"
   ]
  },
  {
   "cell_type": "markdown",
   "metadata": {},
   "source": [
    "### EDA for oil dataset"
   ]
  },
  {
   "cell_type": "markdown",
   "metadata": {},
   "source": [
    "#### imputing the missing values of oil_prices "
   ]
  },
  {
   "cell_type": "code",
   "execution_count": 137,
   "metadata": {},
   "outputs": [
    {
     "name": "stdout",
     "output_type": "stream",
     "text": [
      "           date  oil_prices  year  month  day\n",
      "0    2013-01-01   93.139999  2013      1    1\n",
      "1    2013-01-02   93.139999  2013      1    2\n",
      "2    2013-01-03   92.970001  2013      1    3\n",
      "3    2013-01-04   93.120003  2013      1    4\n",
      "4    2013-01-07   93.199997  2013      1    7\n",
      "...         ...         ...   ...    ...  ...\n",
      "1213 2017-08-25   47.650002  2017      8   25\n",
      "1214 2017-08-28   46.400002  2017      8   28\n",
      "1215 2017-08-29   46.459999  2017      8   29\n",
      "1216 2017-08-30   45.959999  2017      8   30\n",
      "1217 2017-08-31   47.259998  2017      8   31\n",
      "\n",
      "[1218 rows x 5 columns]\n"
     ]
    }
   ],
   "source": [
    "# Interpolate missing values using backward fill \n",
    "\n",
    "data_oil['oil_prices'].fillna(method='bfill', inplace=True)\n",
    "\n",
    "print(data_oil)"
   ]
  },
  {
   "cell_type": "code",
   "execution_count": 138,
   "metadata": {},
   "outputs": [
    {
     "data": {
      "text/plain": [
       "date          0\n",
       "oil_prices    0\n",
       "year          0\n",
       "month         0\n",
       "day           0\n",
       "dtype: int64"
      ]
     },
     "execution_count": 138,
     "metadata": {},
     "output_type": "execute_result"
    }
   ],
   "source": [
    "data_oil.isnull().sum()"
   ]
  },
  {
   "cell_type": "code",
   "execution_count": 139,
   "metadata": {},
   "outputs": [
    {
     "data": {
      "image/png": "[encoded data removed]",
      "text/plain": [
       "<Figure size 1000x600 with 1 Axes>"
      ]
     },
     "metadata": {},
     "output_type": "display_data"
    }
   ],
   "source": [
    "# Assuming your DataFrame is named data_oil\n",
    "plt.figure(figsize=(10, 6))\n",
    "plt.plot(data_oil['date'], data_oil['oil_prices'])#marker='o')\n",
    "plt.title('Oil Price Over Time')\n",
    "plt.xlabel('Date')\n",
    "plt.ylabel('Oil Price')\n",
    "plt.grid(False)\n",
    "plt.show()"
   ]
  },
  {
   "cell_type": "markdown",
   "metadata": {},
   "source": [
    "Looking at the plot, you can observe the general movement of the oil prices over the given time period. If the line is consistently moving upward, it indicates an upward trend, meaning that the oil prices have been increasing over time. Conversely, if the line is consistently moving downward, it indicates a downward trend, implying decreasing oil prices.\n",
    "A steep incline or decline indicates rapid changes in oil prices, while a gentle slope suggests more gradual changes.\n",
    "In 2013 to 2014 the graph shows the oil_price were increasing over time and the price drop at 2015 drastically. These anomalies could be due to external factors such as geopolitical events, natural disasters, economic shifts, or market dynamics."
   ]
  },
  {
   "cell_type": "code",
   "execution_count": 140,
   "metadata": {},
   "outputs": [
    {
     "data": {
      "text/html": [
       "<div>\n",
       "<style scoped>\n",
       "    .dataframe tbody tr th:only-of-type {\n",
       "        vertical-align: middle;\n",
       "    }\n",
       "\n",
       "    .dataframe tbody tr th {\n",
       "        vertical-align: top;\n",
       "    }\n",
       "\n",
       "    .dataframe thead th {\n",
       "        text-align: right;\n",
       "    }\n",
       "</style>\n",
       "<table border=\"1\" class=\"dataframe\">\n",
       "  <thead>\n",
       "    <tr style=\"text-align: right;\">\n",
       "      <th></th>\n",
       "      <th>date</th>\n",
       "      <th>type</th>\n",
       "      <th>locale</th>\n",
       "      <th>locale_name</th>\n",
       "      <th>description</th>\n",
       "      <th>transferred</th>\n",
       "    </tr>\n",
       "  </thead>\n",
       "  <tbody>\n",
       "    <tr>\n",
       "      <th>0</th>\n",
       "      <td>2012-03-02</td>\n",
       "      <td>Holiday</td>\n",
       "      <td>Local</td>\n",
       "      <td>Manta</td>\n",
       "      <td>Fundacion de Manta</td>\n",
       "      <td>False</td>\n",
       "    </tr>\n",
       "    <tr>\n",
       "      <th>1</th>\n",
       "      <td>2012-04-01</td>\n",
       "      <td>Holiday</td>\n",
       "      <td>Regional</td>\n",
       "      <td>Cotopaxi</td>\n",
       "      <td>Provincializacion de Cotopaxi</td>\n",
       "      <td>False</td>\n",
       "    </tr>\n",
       "    <tr>\n",
       "      <th>2</th>\n",
       "      <td>2012-04-12</td>\n",
       "      <td>Holiday</td>\n",
       "      <td>Local</td>\n",
       "      <td>Cuenca</td>\n",
       "      <td>Fundacion de Cuenca</td>\n",
       "      <td>False</td>\n",
       "    </tr>\n",
       "    <tr>\n",
       "      <th>3</th>\n",
       "      <td>2012-04-14</td>\n",
       "      <td>Holiday</td>\n",
       "      <td>Local</td>\n",
       "      <td>Libertad</td>\n",
       "      <td>Cantonizacion de Libertad</td>\n",
       "      <td>False</td>\n",
       "    </tr>\n",
       "    <tr>\n",
       "      <th>4</th>\n",
       "      <td>2012-04-21</td>\n",
       "      <td>Holiday</td>\n",
       "      <td>Local</td>\n",
       "      <td>Riobamba</td>\n",
       "      <td>Cantonizacion de Riobamba</td>\n",
       "      <td>False</td>\n",
       "    </tr>\n",
       "  </tbody>\n",
       "</table>\n",
       "</div>"
      ],
      "text/plain": [
       "         date     type    locale locale_name                    description  \\\n",
       "0  2012-03-02  Holiday     Local       Manta             Fundacion de Manta   \n",
       "1  2012-04-01  Holiday  Regional    Cotopaxi  Provincializacion de Cotopaxi   \n",
       "2  2012-04-12  Holiday     Local      Cuenca            Fundacion de Cuenca   \n",
       "3  2012-04-14  Holiday     Local    Libertad      Cantonizacion de Libertad   \n",
       "4  2012-04-21  Holiday     Local    Riobamba      Cantonizacion de Riobamba   \n",
       "\n",
       "   transferred  \n",
       "0        False  \n",
       "1        False  \n",
       "2        False  \n",
       "3        False  \n",
       "4        False  "
      ]
     },
     "execution_count": 140,
     "metadata": {},
     "output_type": "execute_result"
    }
   ],
   "source": [
    "# extract data from Table 2: dbo.holidays_events\n",
    "# assign it to data_oil\n",
    "# preview data_oil\n",
    "\n",
    "query2=\"Select * from dbo.holidays_events\" \n",
    "data_holiday=pd.read_sql(query2, connection)\n",
    "\n",
    "data_holiday.head()"
   ]
  },
  {
   "cell_type": "code",
   "execution_count": 141,
   "metadata": {},
   "outputs": [
    {
     "data": {
      "text/plain": [
       "(350, 6)"
      ]
     },
     "execution_count": 141,
     "metadata": {},
     "output_type": "execute_result"
    }
   ],
   "source": [
    "data_holiday.shape"
   ]
  },
  {
   "cell_type": "code",
   "execution_count": 142,
   "metadata": {},
   "outputs": [
    {
     "name": "stdout",
     "output_type": "stream",
     "text": [
      "<class 'pandas.core.frame.DataFrame'>\n",
      "RangeIndex: 350 entries, 0 to 349\n",
      "Data columns (total 6 columns):\n",
      " #   Column       Non-Null Count  Dtype \n",
      "---  ------       --------------  ----- \n",
      " 0   date         350 non-null    object\n",
      " 1   type         350 non-null    object\n",
      " 2   locale       350 non-null    object\n",
      " 3   locale_name  350 non-null    object\n",
      " 4   description  350 non-null    object\n",
      " 5   transferred  350 non-null    bool  \n",
      "dtypes: bool(1), object(5)\n",
      "memory usage: 14.1+ KB\n"
     ]
    }
   ],
   "source": [
    "data_holiday.info()"
   ]
  },
  {
   "cell_type": "markdown",
   "metadata": {},
   "source": [
    "### checking the unique values of the columns "
   ]
  },
  {
   "cell_type": "code",
   "execution_count": 143,
   "metadata": {},
   "outputs": [
    {
     "name": "stdout",
     "output_type": "stream",
     "text": [
      "['Manta' 'Cotopaxi' 'Cuenca' 'Libertad' 'Riobamba' 'Puyo' 'Guaranda'\n",
      " 'Imbabura' 'Latacunga' 'Machala' 'Santo Domingo' 'El Carmen' 'Cayambe'\n",
      " 'Esmeraldas' 'Ecuador' 'Ambato' 'Ibarra' 'Quevedo'\n",
      " 'Santo Domingo de los Tsachilas' 'Santa Elena' 'Quito' 'Loja' 'Salinas'\n",
      " 'Guayaquil']\n"
     ]
    }
   ],
   "source": [
    "unique_locale_name = data_holiday['locale_name'].unique()\n",
    "print(unique_locale_name)"
   ]
  },
  {
   "cell_type": "code",
   "execution_count": 144,
   "metadata": {},
   "outputs": [
    {
     "name": "stdout",
     "output_type": "stream",
     "text": [
      "['Local' 'Regional' 'National']\n"
     ]
    }
   ],
   "source": [
    "unique_locale = data_holiday['locale'].unique()\n",
    "print(unique_locale)"
   ]
  },
  {
   "cell_type": "code",
   "execution_count": 145,
   "metadata": {},
   "outputs": [
    {
     "name": "stdout",
     "output_type": "stream",
     "text": [
      "['Fundacion de Manta' 'Provincializacion de Cotopaxi'\n",
      " 'Fundacion de Cuenca' 'Cantonizacion de Libertad'\n",
      " 'Cantonizacion de Riobamba' 'Cantonizacion del Puyo'\n",
      " 'Cantonizacion de Guaranda' 'Provincializacion de Imbabura'\n",
      " 'Cantonizacion de Latacunga' 'Fundacion de Machala'\n",
      " 'Fundacion de Santo Domingo' 'Cantonizacion de El Carmen'\n",
      " 'Cantonizacion de Cayambe' 'Fundacion de Esmeraldas'\n",
      " 'Primer Grito de Independencia' 'Fundacion de Riobamba'\n",
      " 'Fundacion de Ambato' 'Fundacion de Ibarra' 'Cantonizacion de Quevedo'\n",
      " 'Independencia de Guayaquil' 'Traslado Independencia de Guayaquil'\n",
      " 'Dia de Difuntos' 'Independencia de Cuenca'\n",
      " 'Provincializacion de Santo Domingo' 'Provincializacion Santa Elena'\n",
      " 'Independencia de Guaranda' 'Independencia de Latacunga'\n",
      " 'Independencia de Ambato' 'Fundacion de Quito-1' 'Fundacion de Quito'\n",
      " 'Fundacion de Loja' 'Navidad-4' 'Cantonizacion de Salinas' 'Navidad-3'\n",
      " 'Navidad-2' 'Puente Navidad' 'Navidad-1' 'Navidad' 'Navidad+1'\n",
      " 'Puente Primer dia del ano' 'Primer dia del ano-1' 'Primer dia del ano'\n",
      " 'Recupero puente Navidad' 'Recupero puente primer dia del ano' 'Carnaval'\n",
      " 'Viernes Santo' 'Dia del Trabajo' 'Dia de la Madre-1' 'Dia de la Madre'\n",
      " 'Batalla de Pichincha' 'Fundacion de Guayaquil-1'\n",
      " 'Fundacion de Guayaquil' 'Inauguracion Mundial de futbol Brasil'\n",
      " 'Mundial de futbol Brasil: Ecuador-Suiza'\n",
      " 'Mundial de futbol Brasil: Ecuador-Honduras'\n",
      " 'Mundial de futbol Brasil: Ecuador-Francia'\n",
      " 'Mundial de futbol Brasil: Octavos de Final'\n",
      " 'Mundial de futbol Brasil: Cuartos de Final'\n",
      " 'Mundial de futbol Brasil: Semifinales'\n",
      " 'Mundial de futbol Brasil: Tercer y cuarto lugar'\n",
      " 'Mundial de futbol Brasil: Final' 'Black Friday' 'Cyber Monday'\n",
      " 'Recupero Puente Navidad' 'Recupero Puente Primer dia del ano'\n",
      " 'Terremoto Manabi' 'Terremoto Manabi+1' 'Terremoto Manabi+2'\n",
      " 'Terremoto Manabi+3' 'Terremoto Manabi+4' 'Terremoto Manabi+5'\n",
      " 'Terremoto Manabi+6' 'Terremoto Manabi+7' 'Terremoto Manabi+8'\n",
      " 'Terremoto Manabi+9' 'Terremoto Manabi+10' 'Terremoto Manabi+11'\n",
      " 'Terremoto Manabi+12' 'Terremoto Manabi+13' 'Terremoto Manabi+14'\n",
      " 'Terremoto Manabi+15' 'Terremoto Manabi+16' 'Terremoto Manabi+17'\n",
      " 'Terremoto Manabi+18' 'Terremoto Manabi+19' 'Terremoto Manabi+20'\n",
      " 'Terremoto Manabi+21' 'Terremoto Manabi+22' 'Terremoto Manabi+23'\n",
      " 'Terremoto Manabi+24' 'Terremoto Manabi+25' 'Terremoto Manabi+26'\n",
      " 'Terremoto Manabi+27' 'Terremoto Manabi+28' 'Terremoto Manabi+29'\n",
      " 'Terremoto Manabi+30' 'Traslado Batalla de Pichincha'\n",
      " 'Traslado Fundacion de Guayaquil'\n",
      " 'Traslado Primer Grito de Independencia' 'Puente Dia de Difuntos'\n",
      " 'Recupero Puente Dia de Difuntos' 'Traslado Primer dia del ano'\n",
      " 'Traslado Fundacion de Quito']\n"
     ]
    }
   ],
   "source": [
    "unique_description = data_holiday['description'].unique()\n",
    "print(unique_description)"
   ]
  },
  {
   "cell_type": "code",
   "execution_count": 146,
   "metadata": {},
   "outputs": [
    {
     "data": {
      "text/plain": [
       "date           0\n",
       "type           0\n",
       "locale         0\n",
       "locale_name    0\n",
       "description    0\n",
       "transferred    0\n",
       "dtype: int64"
      ]
     },
     "execution_count": 146,
     "metadata": {},
     "output_type": "execute_result"
    }
   ],
   "source": [
    "data_holiday.isnull().sum()"
   ]
  },
  {
   "cell_type": "code",
   "execution_count": 147,
   "metadata": {},
   "outputs": [],
   "source": [
    "# Save extracted data as data_holiday.csv\n",
    "data_holiday['date'] = pd.to_datetime(data_holiday['date'])  # Convert 'date' column to datetime if not already\n",
    "data_holiday.to_csv('data_holiday.csv', index=False)  # Save the DataFrame to CSV without the index column\n",
    "\n"
   ]
  },
  {
   "cell_type": "code",
   "execution_count": 148,
   "metadata": {},
   "outputs": [],
   "source": [
    "data_holiday['year'] = data_holiday['date'].dt.year\n",
    "data_holiday['month'] = data_holiday['date'].dt.month\n",
    "data_holiday['day'] = data_holiday['date'].dt.day"
   ]
  },
  {
   "cell_type": "markdown",
   "metadata": {},
   "source": [
    "### EDA for data_holiday"
   ]
  },
  {
   "cell_type": "code",
   "execution_count": 149,
   "metadata": {},
   "outputs": [
    {
     "data": {
      "image/png": "[encoded data removed]",
      "text/plain": [
       "<Figure size 1000x600 with 1 Axes>"
      ]
     },
     "metadata": {},
     "output_type": "display_data"
    }
   ],
   "source": [
    "\n",
    "\n",
    "# Set the style for the plot\n",
    "sns.set(style='whitegrid')\n",
    "\n",
    "# Create a bar plot\n",
    "plt.figure(figsize=(10, 6))\n",
    "sns.countplot(data=data_holiday, x='year', hue='type')\n",
    "plt.title('Distribution of Types Over Years')\n",
    "plt.xlabel('Year')\n",
    "plt.ylabel('Count')\n",
    "plt.legend(title='Type')\n",
    "plt.show()"
   ]
  },
  {
   "cell_type": "markdown",
   "metadata": {},
   "source": [
    "You might notice trends or patterns in the distribution of holiday types. Certain types of holidays might be more common in some years than in others. In 2015 the graph shows that there were more holidays than the rest of the year and all the holidays was not transferred to the next day. In 2017 most of the holidays was transferred to different days.In 2016 it shows that most event was done in the country."
   ]
  },
  {
   "cell_type": "code",
   "execution_count": 150,
   "metadata": {},
   "outputs": [
    {
     "data": {
      "application/vnd.plotly.v1+json": {
       "config": {
        "plotlyServerURL": "https://plot.ly"
       },
       "data": [
        {
         "hovertemplate": "type=Holiday<br>Date=%{x}<br>Transferred=%{y}<extra></extra>",
         "legendgroup": "Holiday",
         "line": {
          "color": "#636efa",
          "dash": "solid"
         },
         "marker": {
          "symbol": "circle"
         },
         "mode": "lines",
         "name": "Holiday",
         "orientation": "v",
         "showlegend": true,
         "type": "scatter",
         "x": [
          "2012-03-02T00:00:00",
          "2012-04-01T00:00:00",
          "2012-04-12T00:00:00",
          "2012-04-14T00:00:00",
          "2012-04-21T00:00:00",
          "2012-05-12T00:00:00",
          "2012-06-23T00:00:00",
          "2012-06-25T00:00:00",
          "2012-06-25T00:00:00",
          "2012-06-25T00:00:00",
          "2012-07-03T00:00:00",
          "2012-07-03T00:00:00",
          "2012-07-23T00:00:00",
          "2012-08-05T00:00:00",
          "2012-08-10T00:00:00",
          "2012-08-15T00:00:00",
          "2012-08-24T00:00:00",
          "2012-09-28T00:00:00",
          "2012-10-07T00:00:00",
          "2012-10-09T00:00:00",
          "2012-11-02T00:00:00",
          "2012-11-03T00:00:00",
          "2012-11-06T00:00:00",
          "2012-11-07T00:00:00",
          "2012-11-10T00:00:00",
          "2012-11-11T00:00:00",
          "2012-11-12T00:00:00",
          "2012-12-06T00:00:00",
          "2012-12-08T00:00:00",
          "2012-12-22T00:00:00",
          "2012-12-25T00:00:00",
          "2013-01-01T00:00:00",
          "2013-02-11T00:00:00",
          "2013-02-12T00:00:00",
          "2013-03-02T00:00:00",
          "2013-04-01T00:00:00",
          "2013-04-12T00:00:00",
          "2013-04-14T00:00:00",
          "2013-04-21T00:00:00",
          "2013-04-29T00:00:00",
          "2013-05-01T00:00:00",
          "2013-05-12T00:00:00",
          "2013-05-24T00:00:00",
          "2013-06-23T00:00:00",
          "2013-06-25T00:00:00",
          "2013-06-25T00:00:00",
          "2013-06-25T00:00:00",
          "2013-07-03T00:00:00",
          "2013-07-03T00:00:00",
          "2013-07-23T00:00:00",
          "2013-07-25T00:00:00",
          "2013-08-05T00:00:00",
          "2013-08-10T00:00:00",
          "2013-08-15T00:00:00",
          "2013-08-24T00:00:00",
          "2013-09-28T00:00:00",
          "2013-10-07T00:00:00",
          "2013-10-09T00:00:00",
          "2013-11-02T00:00:00",
          "2013-11-03T00:00:00",
          "2013-11-06T00:00:00",
          "2013-11-07T00:00:00",
          "2013-11-10T00:00:00",
          "2013-11-11T00:00:00",
          "2013-11-12T00:00:00",
          "2013-12-06T00:00:00",
          "2013-12-08T00:00:00",
          "2013-12-22T00:00:00",
          "2013-12-25T00:00:00",
          "2014-01-01T00:00:00",
          "2014-03-02T00:00:00",
          "2014-03-03T00:00:00",
          "2014-03-04T00:00:00",
          "2014-04-01T00:00:00",
          "2014-04-12T00:00:00",
          "2014-04-14T00:00:00",
          "2014-04-18T00:00:00",
          "2014-04-21T00:00:00",
          "2014-05-01T00:00:00",
          "2014-05-12T00:00:00",
          "2014-05-24T00:00:00",
          "2014-06-23T00:00:00",
          "2014-06-25T00:00:00",
          "2014-06-25T00:00:00",
          "2014-06-25T00:00:00",
          "2014-07-03T00:00:00",
          "2014-07-03T00:00:00",
          "2014-07-23T00:00:00",
          "2014-07-25T00:00:00",
          "2014-08-05T00:00:00",
          "2014-08-10T00:00:00",
          "2014-08-15T00:00:00",
          "2014-08-24T00:00:00",
          "2014-09-28T00:00:00",
          "2014-10-07T00:00:00",
          "2014-10-09T00:00:00",
          "2014-11-02T00:00:00",
          "2014-11-03T00:00:00",
          "2014-11-06T00:00:00",
          "2014-11-07T00:00:00",
          "2014-11-10T00:00:00",
          "2014-11-11T00:00:00",
          "2014-11-12T00:00:00",
          "2014-12-06T00:00:00",
          "2014-12-08T00:00:00",
          "2014-12-22T00:00:00",
          "2014-12-25T00:00:00",
          "2015-01-01T00:00:00",
          "2015-02-16T00:00:00",
          "2015-02-17T00:00:00",
          "2015-03-02T00:00:00",
          "2015-04-01T00:00:00",
          "2015-04-03T00:00:00",
          "2015-04-12T00:00:00",
          "2015-04-14T00:00:00",
          "2015-04-21T00:00:00",
          "2015-05-01T00:00:00",
          "2015-05-12T00:00:00",
          "2015-05-24T00:00:00",
          "2015-06-23T00:00:00",
          "2015-06-25T00:00:00",
          "2015-06-25T00:00:00",
          "2015-06-25T00:00:00",
          "2015-07-03T00:00:00",
          "2015-07-03T00:00:00",
          "2015-07-23T00:00:00",
          "2015-07-24T00:00:00",
          "2015-07-25T00:00:00",
          "2015-08-05T00:00:00",
          "2015-08-10T00:00:00",
          "2015-08-15T00:00:00",
          "2015-08-24T00:00:00",
          "2015-09-28T00:00:00",
          "2015-10-07T00:00:00",
          "2015-10-09T00:00:00",
          "2015-11-02T00:00:00",
          "2015-11-03T00:00:00",
          "2015-11-06T00:00:00",
          "2015-11-07T00:00:00",
          "2015-11-10T00:00:00",
          "2015-11-11T00:00:00",
          "2015-11-12T00:00:00",
          "2015-12-06T00:00:00",
          "2015-12-08T00:00:00",
          "2015-12-22T00:00:00",
          "2015-12-25T00:00:00",
          "2016-01-01T00:00:00",
          "2016-02-08T00:00:00",
          "2016-02-09T00:00:00",
          "2016-03-02T00:00:00",
          "2016-03-25T00:00:00",
          "2016-04-01T00:00:00",
          "2016-04-12T00:00:00",
          "2016-04-14T00:00:00",
          "2016-04-21T00:00:00",
          "2016-05-01T00:00:00",
          "2016-05-12T00:00:00",
          "2016-05-24T00:00:00",
          "2016-06-23T00:00:00",
          "2016-06-25T00:00:00",
          "2016-06-25T00:00:00",
          "2016-06-25T00:00:00",
          "2016-07-03T00:00:00",
          "2016-07-03T00:00:00",
          "2016-07-23T00:00:00",
          "2016-07-25T00:00:00",
          "2016-08-05T00:00:00",
          "2016-08-10T00:00:00",
          "2016-08-15T00:00:00",
          "2016-08-24T00:00:00",
          "2016-09-28T00:00:00",
          "2016-10-07T00:00:00",
          "2016-10-09T00:00:00",
          "2016-11-02T00:00:00",
          "2016-11-03T00:00:00",
          "2016-11-06T00:00:00",
          "2016-11-07T00:00:00",
          "2016-11-10T00:00:00",
          "2016-11-11T00:00:00",
          "2016-11-12T00:00:00",
          "2016-12-06T00:00:00",
          "2016-12-08T00:00:00",
          "2016-12-22T00:00:00",
          "2016-12-25T00:00:00",
          "2017-01-01T00:00:00",
          "2017-02-27T00:00:00",
          "2017-02-28T00:00:00",
          "2017-03-02T00:00:00",
          "2017-04-01T00:00:00",
          "2017-04-12T00:00:00",
          "2017-04-14T00:00:00",
          "2017-04-14T00:00:00",
          "2017-04-21T00:00:00",
          "2017-05-01T00:00:00",
          "2017-05-12T00:00:00",
          "2017-05-24T00:00:00",
          "2017-06-23T00:00:00",
          "2017-06-25T00:00:00",
          "2017-06-25T00:00:00",
          "2017-06-25T00:00:00",
          "2017-07-03T00:00:00",
          "2017-07-03T00:00:00",
          "2017-07-23T00:00:00",
          "2017-08-05T00:00:00",
          "2017-08-10T00:00:00",
          "2017-08-15T00:00:00",
          "2017-08-24T00:00:00",
          "2017-09-28T00:00:00",
          "2017-10-07T00:00:00",
          "2017-10-09T00:00:00",
          "2017-11-02T00:00:00",
          "2017-11-03T00:00:00",
          "2017-11-06T00:00:00",
          "2017-11-07T00:00:00",
          "2017-11-10T00:00:00",
          "2017-11-11T00:00:00",
          "2017-11-12T00:00:00",
          "2017-12-06T00:00:00",
          "2017-12-08T00:00:00",
          "2017-12-22T00:00:00",
          "2017-12-25T00:00:00"
         ],
         "xaxis": "x",
         "y": [
          false,
          false,
          false,
          false,
          false,
          false,
          false,
          false,
          false,
          false,
          false,
          false,
          false,
          false,
          false,
          false,
          false,
          false,
          false,
          true,
          false,
          false,
          false,
          false,
          false,
          false,
          false,
          false,
          false,
          false,
          false,
          false,
          false,
          false,
          false,
          false,
          false,
          false,
          false,
          false,
          false,
          false,
          false,
          false,
          false,
          false,
          false,
          false,
          false,
          false,
          false,
          false,
          false,
          false,
          false,
          false,
          false,
          true,
          false,
          false,
          false,
          false,
          false,
          false,
          false,
          false,
          false,
          false,
          false,
          false,
          false,
          false,
          false,
          false,
          false,
          false,
          false,
          false,
          false,
          false,
          false,
          false,
          false,
          false,
          false,
          false,
          false,
          false,
          false,
          false,
          false,
          false,
          false,
          false,
          false,
          true,
          false,
          false,
          false,
          false,
          false,
          false,
          false,
          false,
          false,
          false,
          false,
          false,
          false,
          false,
          false,
          false,
          false,
          false,
          false,
          false,
          false,
          false,
          false,
          false,
          false,
          false,
          false,
          false,
          false,
          false,
          false,
          false,
          false,
          false,
          false,
          false,
          false,
          false,
          false,
          false,
          false,
          false,
          false,
          false,
          false,
          false,
          false,
          false,
          false,
          false,
          false,
          false,
          false,
          false,
          false,
          false,
          false,
          false,
          false,
          false,
          false,
          true,
          false,
          false,
          false,
          false,
          false,
          false,
          false,
          true,
          false,
          true,
          false,
          false,
          false,
          false,
          false,
          false,
          false,
          false,
          false,
          false,
          false,
          false,
          false,
          false,
          false,
          false,
          true,
          false,
          false,
          false,
          false,
          true,
          false,
          false,
          false,
          false,
          false,
          true,
          false,
          false,
          false,
          false,
          false,
          false,
          false,
          false,
          true,
          false,
          false,
          true,
          false,
          false,
          false,
          false,
          false,
          false,
          false,
          false,
          false,
          true,
          false,
          false,
          false
         ],
         "yaxis": "y"
        },
        {
         "hovertemplate": "type=Transfer<br>Date=%{x}<br>Transferred=%{y}<extra></extra>",
         "legendgroup": "Transfer",
         "line": {
          "color": "#EF553B",
          "dash": "solid"
         },
         "marker": {
          "symbol": "circle"
         },
         "mode": "lines",
         "name": "Transfer",
         "orientation": "v",
         "showlegend": true,
         "type": "scatter",
         "x": [
          "2012-10-12T00:00:00",
          "2013-10-11T00:00:00",
          "2014-10-10T00:00:00",
          "2016-05-27T00:00:00",
          "2016-07-24T00:00:00",
          "2016-08-12T00:00:00",
          "2017-01-02T00:00:00",
          "2017-04-13T00:00:00",
          "2017-05-26T00:00:00",
          "2017-08-11T00:00:00",
          "2017-09-29T00:00:00",
          "2017-12-08T00:00:00"
         ],
         "xaxis": "x",
         "y": [
          false,
          false,
          false,
          false,
          false,
          false,
          false,
          false,
          false,
          false,
          false,
          false
         ],
         "yaxis": "y"
        },
        {
         "hovertemplate": "type=Additional<br>Date=%{x}<br>Transferred=%{y}<extra></extra>",
         "legendgroup": "Additional",
         "line": {
          "color": "#00cc96",
          "dash": "solid"
         },
         "marker": {
          "symbol": "circle"
         },
         "mode": "lines",
         "name": "Additional",
         "orientation": "v",
         "showlegend": true,
         "type": "scatter",
         "x": [
          "2012-12-05T00:00:00",
          "2012-12-21T00:00:00",
          "2012-12-22T00:00:00",
          "2012-12-23T00:00:00",
          "2012-12-24T00:00:00",
          "2012-12-26T00:00:00",
          "2012-12-31T00:00:00",
          "2013-05-11T00:00:00",
          "2013-07-24T00:00:00",
          "2013-12-05T00:00:00",
          "2013-12-21T00:00:00",
          "2013-12-22T00:00:00",
          "2013-12-23T00:00:00",
          "2013-12-24T00:00:00",
          "2013-12-26T00:00:00",
          "2013-12-31T00:00:00",
          "2014-05-10T00:00:00",
          "2014-07-24T00:00:00",
          "2014-12-05T00:00:00",
          "2014-12-21T00:00:00",
          "2014-12-22T00:00:00",
          "2014-12-23T00:00:00",
          "2014-12-24T00:00:00",
          "2014-12-26T00:00:00",
          "2014-12-31T00:00:00",
          "2015-05-09T00:00:00",
          "2015-12-05T00:00:00",
          "2015-12-21T00:00:00",
          "2015-12-22T00:00:00",
          "2015-12-23T00:00:00",
          "2015-12-24T00:00:00",
          "2015-12-26T00:00:00",
          "2015-12-31T00:00:00",
          "2016-05-07T00:00:00",
          "2016-07-24T00:00:00",
          "2016-12-05T00:00:00",
          "2016-12-21T00:00:00",
          "2016-12-22T00:00:00",
          "2016-12-23T00:00:00",
          "2016-12-24T00:00:00",
          "2016-12-26T00:00:00",
          "2016-12-31T00:00:00",
          "2017-05-13T00:00:00",
          "2017-07-24T00:00:00",
          "2017-07-25T00:00:00",
          "2017-12-05T00:00:00",
          "2017-12-21T00:00:00",
          "2017-12-22T00:00:00",
          "2017-12-23T00:00:00",
          "2017-12-24T00:00:00",
          "2017-12-26T00:00:00"
         ],
         "xaxis": "x",
         "y": [
          false,
          false,
          false,
          false,
          false,
          false,
          false,
          false,
          false,
          false,
          false,
          false,
          false,
          false,
          false,
          false,
          false,
          false,
          false,
          false,
          false,
          false,
          false,
          false,
          false,
          false,
          false,
          false,
          false,
          false,
          false,
          false,
          false,
          false,
          false,
          false,
          false,
          false,
          false,
          false,
          false,
          false,
          false,
          false,
          false,
          false,
          false,
          false,
          false,
          false,
          false
         ],
         "yaxis": "y"
        },
        {
         "hovertemplate": "type=Bridge<br>Date=%{x}<br>Transferred=%{y}<extra></extra>",
         "legendgroup": "Bridge",
         "line": {
          "color": "#ab63fa",
          "dash": "solid"
         },
         "marker": {
          "symbol": "circle"
         },
         "mode": "lines",
         "name": "Bridge",
         "orientation": "v",
         "showlegend": true,
         "type": "scatter",
         "x": [
          "2012-12-24T00:00:00",
          "2012-12-31T00:00:00",
          "2014-12-26T00:00:00",
          "2015-01-02T00:00:00",
          "2016-11-04T00:00:00"
         ],
         "xaxis": "x",
         "y": [
          false,
          false,
          false,
          false,
          false
         ],
         "yaxis": "y"
        },
        {
         "hovertemplate": "type=Work Day<br>Date=%{x}<br>Transferred=%{y}<extra></extra>",
         "legendgroup": "Work Day",
         "line": {
          "color": "#FFA15A",
          "dash": "solid"
         },
         "marker": {
          "symbol": "circle"
         },
         "mode": "lines",
         "name": "Work Day",
         "orientation": "v",
         "showlegend": true,
         "type": "scatter",
         "x": [
          "2013-01-05T00:00:00",
          "2013-01-12T00:00:00",
          "2014-12-20T00:00:00",
          "2015-01-10T00:00:00",
          "2016-11-12T00:00:00"
         ],
         "xaxis": "x",
         "y": [
          false,
          false,
          false,
          false,
          false
         ],
         "yaxis": "y"
        },
        {
         "hovertemplate": "type=Event<br>Date=%{x}<br>Transferred=%{y}<extra></extra>",
         "legendgroup": "Event",
         "line": {
          "color": "#19d3f3",
          "dash": "solid"
         },
         "marker": {
          "symbol": "circle"
         },
         "mode": "lines",
         "name": "Event",
         "orientation": "v",
         "showlegend": true,
         "type": "scatter",
         "x": [
          "2013-05-12T00:00:00",
          "2014-05-11T00:00:00",
          "2014-06-12T00:00:00",
          "2014-06-15T00:00:00",
          "2014-06-20T00:00:00",
          "2014-06-25T00:00:00",
          "2014-06-28T00:00:00",
          "2014-06-29T00:00:00",
          "2014-06-30T00:00:00",
          "2014-07-01T00:00:00",
          "2014-07-04T00:00:00",
          "2014-07-05T00:00:00",
          "2014-07-08T00:00:00",
          "2014-07-09T00:00:00",
          "2014-07-12T00:00:00",
          "2014-07-13T00:00:00",
          "2014-11-28T00:00:00",
          "2014-12-01T00:00:00",
          "2015-05-10T00:00:00",
          "2015-11-27T00:00:00",
          "2015-11-30T00:00:00",
          "2016-04-16T00:00:00",
          "2016-04-17T00:00:00",
          "2016-04-18T00:00:00",
          "2016-04-19T00:00:00",
          "2016-04-20T00:00:00",
          "2016-04-21T00:00:00",
          "2016-04-22T00:00:00",
          "2016-04-23T00:00:00",
          "2016-04-24T00:00:00",
          "2016-04-25T00:00:00",
          "2016-04-26T00:00:00",
          "2016-04-27T00:00:00",
          "2016-04-28T00:00:00",
          "2016-04-29T00:00:00",
          "2016-04-30T00:00:00",
          "2016-05-01T00:00:00",
          "2016-05-02T00:00:00",
          "2016-05-03T00:00:00",
          "2016-05-04T00:00:00",
          "2016-05-05T00:00:00",
          "2016-05-06T00:00:00",
          "2016-05-07T00:00:00",
          "2016-05-08T00:00:00",
          "2016-05-08T00:00:00",
          "2016-05-09T00:00:00",
          "2016-05-10T00:00:00",
          "2016-05-11T00:00:00",
          "2016-05-12T00:00:00",
          "2016-05-13T00:00:00",
          "2016-05-14T00:00:00",
          "2016-05-15T00:00:00",
          "2016-05-16T00:00:00",
          "2016-11-25T00:00:00",
          "2016-11-28T00:00:00",
          "2017-05-14T00:00:00"
         ],
         "xaxis": "x",
         "y": [
          false,
          false,
          false,
          false,
          false,
          false,
          false,
          false,
          false,
          false,
          false,
          false,
          false,
          false,
          false,
          false,
          false,
          false,
          false,
          false,
          false,
          false,
          false,
          false,
          false,
          false,
          false,
          false,
          false,
          false,
          false,
          false,
          false,
          false,
          false,
          false,
          false,
          false,
          false,
          false,
          false,
          false,
          false,
          false,
          false,
          false,
          false,
          false,
          false,
          false,
          false,
          false,
          false,
          false,
          false,
          false
         ],
         "yaxis": "y"
        }
       ],
       "layout": {
        "legend": {
         "title": {
          "text": "type"
         },
         "tracegroupgap": 0
        },
        "template": {
         "data": {
          "bar": [
           {
            "error_x": {
             "color": "#2a3f5f"
            },
            "error_y": {
             "color": "#2a3f5f"
            },
            "marker": {
             "line": {
              "color": "#E5ECF6",
              "width": 0.5
             },
             "pattern": {
              "fillmode": "overlay",
              "size": 10,
              "solidity": 0.2
             }
            },
            "type": "bar"
           }
          ],
          "barpolar": [
           {
            "marker": {
             "line": {
              "color": "#E5ECF6",
              "width": 0.5
             },
             "pattern": {
              "fillmode": "overlay",
              "size": 10,
              "solidity": 0.2
             }
            },
            "type": "barpolar"
           }
          ],
          "carpet": [
           {
            "aaxis": {
             "endlinecolor": "#2a3f5f",
             "gridcolor": "white",
             "linecolor": "white",
             "minorgridcolor": "white",
             "startlinecolor": "#2a3f5f"
            },
            "baxis": {
             "endlinecolor": "#2a3f5f",
             "gridcolor": "white",
             "linecolor": "white",
             "minorgridcolor": "white",
             "startlinecolor": "#2a3f5f"
            },
            "type": "carpet"
           }
          ],
          "choropleth": [
           {
            "colorbar": {
             "outlinewidth": 0,
             "ticks": ""
            },
            "type": "choropleth"
           }
          ],
          "contour": [
           {
            "colorbar": {
             "outlinewidth": 0,
             "ticks": ""
            },
            "colorscale": [
             [
              0,
              "#0d0887"
             ],
             [
              0.1111111111111111,
              "#46039f"
             ],
             [
              0.2222222222222222,
              "#7201a8"
             ],
             [
              0.3333333333333333,
              "#9c179e"
             ],
             [
              0.4444444444444444,
              "#bd3786"
             ],
             [
              0.5555555555555556,
              "#d8576b"
             ],
             [
              0.6666666666666666,
              "#ed7953"
             ],
             [
              0.7777777777777778,
              "#fb9f3a"
             ],
             [
              0.8888888888888888,
              "#fdca26"
             ],
             [
              1,
              "#f0f921"
             ]
            ],
            "type": "contour"
           }
          ],
          "contourcarpet": [
           {
            "colorbar": {
             "outlinewidth": 0,
             "ticks": ""
            },
            "type": "contourcarpet"
           }
          ],
          "heatmap": [
           {
            "colorbar": {
             "outlinewidth": 0,
             "ticks": ""
            },
            "colorscale": [
             [
              0,
              "#0d0887"
             ],
             [
              0.1111111111111111,
              "#46039f"
             ],
             [
              0.2222222222222222,
              "#7201a8"
             ],
             [
              0.3333333333333333,
              "#9c179e"
             ],
             [
              0.4444444444444444,
              "#bd3786"
             ],
             [
              0.5555555555555556,
              "#d8576b"
             ],
             [
              0.6666666666666666,
              "#ed7953"
             ],
             [
              0.7777777777777778,
              "#fb9f3a"
             ],
             [
              0.8888888888888888,
              "#fdca26"
             ],
             [
              1,
              "#f0f921"
             ]
            ],
            "type": "heatmap"
           }
          ],
          "heatmapgl": [
           {
            "colorbar": {
             "outlinewidth": 0,
             "ticks": ""
            },
            "colorscale": [
             [
              0,
              "#0d0887"
             ],
             [
              0.1111111111111111,
              "#46039f"
             ],
             [
              0.2222222222222222,
              "#7201a8"
             ],
             [
              0.3333333333333333,
              "#9c179e"
             ],
             [
              0.4444444444444444,
              "#bd3786"
             ],
             [
              0.5555555555555556,
              "#d8576b"
             ],
             [
              0.6666666666666666,
              "#ed7953"
             ],
             [
              0.7777777777777778,
              "#fb9f3a"
             ],
             [
              0.8888888888888888,
              "#fdca26"
             ],
             [
              1,
              "#f0f921"
             ]
            ],
            "type": "heatmapgl"
           }
          ],
          "histogram": [
           {
            "marker": {
             "pattern": {
              "fillmode": "overlay",
              "size": 10,
              "solidity": 0.2
             }
            },
            "type": "histogram"
           }
          ],
          "histogram2d": [
           {
            "colorbar": {
             "outlinewidth": 0,
             "ticks": ""
            },
            "colorscale": [
             [
              0,
              "#0d0887"
             ],
             [
              0.1111111111111111,
              "#46039f"
             ],
             [
              0.2222222222222222,
              "#7201a8"
             ],
             [
              0.3333333333333333,
              "#9c179e"
             ],
             [
              0.4444444444444444,
              "#bd3786"
             ],
             [
              0.5555555555555556,
              "#d8576b"
             ],
             [
              0.6666666666666666,
              "#ed7953"
             ],
             [
              0.7777777777777778,
              "#fb9f3a"
             ],
             [
              0.8888888888888888,
              "#fdca26"
             ],
             [
              1,
              "#f0f921"
             ]
            ],
            "type": "histogram2d"
           }
          ],
          "histogram2dcontour": [
           {
            "colorbar": {
             "outlinewidth": 0,
             "ticks": ""
            },
            "colorscale": [
             [
              0,
              "#0d0887"
             ],
             [
              0.1111111111111111,
              "#46039f"
             ],
             [
              0.2222222222222222,
              "#7201a8"
             ],
             [
              0.3333333333333333,
              "#9c179e"
             ],
             [
              0.4444444444444444,
              "#bd3786"
             ],
             [
              0.5555555555555556,
              "#d8576b"
             ],
             [
              0.6666666666666666,
              "#ed7953"
             ],
             [
              0.7777777777777778,
              "#fb9f3a"
             ],
             [
              0.8888888888888888,
              "#fdca26"
             ],
             [
              1,
              "#f0f921"
             ]
            ],
            "type": "histogram2dcontour"
           }
          ],
          "mesh3d": [
           {
            "colorbar": {
             "outlinewidth": 0,
             "ticks": ""
            },
            "type": "mesh3d"
           }
          ],
          "parcoords": [
           {
            "line": {
             "colorbar": {
              "outlinewidth": 0,
              "ticks": ""
             }
            },
            "type": "parcoords"
           }
          ],
          "pie": [
           {
            "automargin": true,
            "type": "pie"
           }
          ],
          "scatter": [
           {
            "fillpattern": {
             "fillmode": "overlay",
             "size": 10,
             "solidity": 0.2
            },
            "type": "scatter"
           }
          ],
          "scatter3d": [
           {
            "line": {
             "colorbar": {
              "outlinewidth": 0,
              "ticks": ""
             }
            },
            "marker": {
             "colorbar": {
              "outlinewidth": 0,
              "ticks": ""
             }
            },
            "type": "scatter3d"
           }
          ],
          "scattercarpet": [
           {
            "marker": {
             "colorbar": {
              "outlinewidth": 0,
              "ticks": ""
             }
            },
            "type": "scattercarpet"
           }
          ],
          "scattergeo": [
           {
            "marker": {
             "colorbar": {
              "outlinewidth": 0,
              "ticks": ""
             }
            },
            "type": "scattergeo"
           }
          ],
          "scattergl": [
           {
            "marker": {
             "colorbar": {
              "outlinewidth": 0,
              "ticks": ""
             }
            },
            "type": "scattergl"
           }
          ],
          "scattermapbox": [
           {
            "marker": {
             "colorbar": {
              "outlinewidth": 0,
              "ticks": ""
             }
            },
            "type": "scattermapbox"
           }
          ],
          "scatterpolar": [
           {
            "marker": {
             "colorbar": {
              "outlinewidth": 0,
              "ticks": ""
             }
            },
            "type": "scatterpolar"
           }
          ],
          "scatterpolargl": [
           {
            "marker": {
             "colorbar": {
              "outlinewidth": 0,
              "ticks": ""
             }
            },
            "type": "scatterpolargl"
           }
          ],
          "scatterternary": [
           {
            "marker": {
             "colorbar": {
              "outlinewidth": 0,
              "ticks": ""
             }
            },
            "type": "scatterternary"
           }
          ],
          "surface": [
           {
            "colorbar": {
             "outlinewidth": 0,
             "ticks": ""
            },
            "colorscale": [
             [
              0,
              "#0d0887"
             ],
             [
              0.1111111111111111,
              "#46039f"
             ],
             [
              0.2222222222222222,
              "#7201a8"
             ],
             [
              0.3333333333333333,
              "#9c179e"
             ],
             [
              0.4444444444444444,
              "#bd3786"
             ],
             [
              0.5555555555555556,
              "#d8576b"
             ],
             [
              0.6666666666666666,
              "#ed7953"
             ],
             [
              0.7777777777777778,
              "#fb9f3a"
             ],
             [
              0.8888888888888888,
              "#fdca26"
             ],
             [
              1,
              "#f0f921"
             ]
            ],
            "type": "surface"
           }
          ],
          "table": [
           {
            "cells": {
             "fill": {
              "color": "#EBF0F8"
             },
             "line": {
              "color": "white"
             }
            },
            "header": {
             "fill": {
              "color": "#C8D4E3"
             },
             "line": {
              "color": "white"
             }
            },
            "type": "table"
           }
          ]
         },
         "layout": {
          "annotationdefaults": {
           "arrowcolor": "#2a3f5f",
           "arrowhead": 0,
           "arrowwidth": 1
          },
          "autotypenumbers": "strict",
          "coloraxis": {
           "colorbar": {
            "outlinewidth": 0,
            "ticks": ""
           }
          },
          "colorscale": {
           "diverging": [
            [
             0,
             "#8e0152"
            ],
            [
             0.1,
             "#c51b7d"
            ],
            [
             0.2,
             "#de77ae"
            ],
            [
             0.3,
             "#f1b6da"
            ],
            [
             0.4,
             "#fde0ef"
            ],
            [
             0.5,
             "#f7f7f7"
            ],
            [
             0.6,
             "#e6f5d0"
            ],
            [
             0.7,
             "#b8e186"
            ],
            [
             0.8,
             "#7fbc41"
            ],
            [
             0.9,
             "#4d9221"
            ],
            [
             1,
             "#276419"
            ]
           ],
           "sequential": [
            [
             0,
             "#0d0887"
            ],
            [
             0.1111111111111111,
             "#46039f"
            ],
            [
             0.2222222222222222,
             "#7201a8"
            ],
            [
             0.3333333333333333,
             "#9c179e"
            ],
            [
             0.4444444444444444,
             "#bd3786"
            ],
            [
             0.5555555555555556,
             "#d8576b"
            ],
            [
             0.6666666666666666,
             "#ed7953"
            ],
            [
             0.7777777777777778,
             "#fb9f3a"
            ],
            [
             0.8888888888888888,
             "#fdca26"
            ],
            [
             1,
             "#f0f921"
            ]
           ],
           "sequentialminus": [
            [
             0,
             "#0d0887"
            ],
            [
             0.1111111111111111,
             "#46039f"
            ],
            [
             0.2222222222222222,
             "#7201a8"
            ],
            [
             0.3333333333333333,
             "#9c179e"
            ],
            [
             0.4444444444444444,
             "#bd3786"
            ],
            [
             0.5555555555555556,
             "#d8576b"
            ],
            [
             0.6666666666666666,
             "#ed7953"
            ],
            [
             0.7777777777777778,
             "#fb9f3a"
            ],
            [
             0.8888888888888888,
             "#fdca26"
            ],
            [
             1,
             "#f0f921"
            ]
           ]
          },
          "colorway": [
           "#636efa",
           "#EF553B",
           "#00cc96",
           "#ab63fa",
           "#FFA15A",
           "#19d3f3",
           "#FF6692",
           "#B6E880",
           "#FF97FF",
           "#FECB52"
          ],
          "font": {
           "color": "#2a3f5f"
          },
          "geo": {
           "bgcolor": "white",
           "lakecolor": "white",
           "landcolor": "#E5ECF6",
           "showlakes": true,
           "showland": true,
           "subunitcolor": "white"
          },
          "hoverlabel": {
           "align": "left"
          },
          "hovermode": "closest",
          "mapbox": {
           "style": "light"
          },
          "paper_bgcolor": "white",
          "plot_bgcolor": "#E5ECF6",
          "polar": {
           "angularaxis": {
            "gridcolor": "white",
            "linecolor": "white",
            "ticks": ""
           },
           "bgcolor": "#E5ECF6",
           "radialaxis": {
            "gridcolor": "white",
            "linecolor": "white",
            "ticks": ""
           }
          },
          "scene": {
           "xaxis": {
            "backgroundcolor": "#E5ECF6",
            "gridcolor": "white",
            "gridwidth": 2,
            "linecolor": "white",
            "showbackground": true,
            "ticks": "",
            "zerolinecolor": "white"
           },
           "yaxis": {
            "backgroundcolor": "#E5ECF6",
            "gridcolor": "white",
            "gridwidth": 2,
            "linecolor": "white",
            "showbackground": true,
            "ticks": "",
            "zerolinecolor": "white"
           },
           "zaxis": {
            "backgroundcolor": "#E5ECF6",
            "gridcolor": "white",
            "gridwidth": 2,
            "linecolor": "white",
            "showbackground": true,
            "ticks": "",
            "zerolinecolor": "white"
           }
          },
          "shapedefaults": {
           "line": {
            "color": "#2a3f5f"
           }
          },
          "ternary": {
           "aaxis": {
            "gridcolor": "white",
            "linecolor": "white",
            "ticks": ""
           },
           "baxis": {
            "gridcolor": "white",
            "linecolor": "white",
            "ticks": ""
           },
           "bgcolor": "#E5ECF6",
           "caxis": {
            "gridcolor": "white",
            "linecolor": "white",
            "ticks": ""
           }
          },
          "title": {
           "x": 0.05
          },
          "xaxis": {
           "automargin": true,
           "gridcolor": "white",
           "linecolor": "white",
           "ticks": "",
           "title": {
            "standoff": 15
           },
           "zerolinecolor": "white",
           "zerolinewidth": 2
          },
          "yaxis": {
           "automargin": true,
           "gridcolor": "white",
           "linecolor": "white",
           "ticks": "",
           "title": {
            "standoff": 15
           },
           "zerolinecolor": "white",
           "zerolinewidth": 2
          }
         }
        },
        "title": {
         "text": "Transferred Over Time by Type"
        },
        "xaxis": {
         "anchor": "y",
         "domain": [
          0,
          1
         ],
         "rangeslider": {
          "visible": true
         },
         "title": {
          "text": "Date"
         }
        },
        "yaxis": {
         "anchor": "x",
         "domain": [
          0,
          1
         ],
         "title": {
          "text": "Transferred"
         }
        }
       }
      }
     },
     "metadata": {},
     "output_type": "display_data"
    }
   ],
   "source": [
    "\n",
    "# Extract the year from the 'date' column\n",
    "data_holiday['year'] = data_holiday['date'].dt.year\n",
    "data_holiday['day'] = data_holiday['date'].dt.day\n",
    "# Create a line graph with a slider\n",
    "fig = px.line(data_holiday, x='date', y='transferred', color='type',\n",
    "              title='Transferred Over Time by Type', labels={'date': 'Date', 'transferred': 'Transferred'})\n",
    "fig.update_layout(xaxis=dict(rangeslider=dict(visible=True)))  # Add slider\n",
    "fig.show()"
   ]
  },
  {
   "cell_type": "markdown",
   "metadata": {},
   "source": [
    "From the graph, we can observe how the \"transferred\" status of different holiday types changes over time. By adjusting the slider, you can focus on specific date ranges and track the fluctuations in the \"transferred\" status for each holiday type."
   ]
  },
  {
   "cell_type": "code",
   "execution_count": null,
   "metadata": {},
   "outputs": [],
   "source": []
  },
  {
   "cell_type": "code",
   "execution_count": 151,
   "metadata": {},
   "outputs": [
    {
     "data": {
      "text/html": [
       "<div>\n",
       "<style scoped>\n",
       "    .dataframe tbody tr th:only-of-type {\n",
       "        vertical-align: middle;\n",
       "    }\n",
       "\n",
       "    .dataframe tbody tr th {\n",
       "        vertical-align: top;\n",
       "    }\n",
       "\n",
       "    .dataframe thead th {\n",
       "        text-align: right;\n",
       "    }\n",
       "</style>\n",
       "<table border=\"1\" class=\"dataframe\">\n",
       "  <thead>\n",
       "    <tr style=\"text-align: right;\">\n",
       "      <th></th>\n",
       "      <th>store_nbr</th>\n",
       "      <th>city</th>\n",
       "      <th>state</th>\n",
       "      <th>type</th>\n",
       "      <th>cluster</th>\n",
       "    </tr>\n",
       "  </thead>\n",
       "  <tbody>\n",
       "    <tr>\n",
       "      <th>0</th>\n",
       "      <td>1</td>\n",
       "      <td>Quito</td>\n",
       "      <td>Pichincha</td>\n",
       "      <td>D</td>\n",
       "      <td>13</td>\n",
       "    </tr>\n",
       "    <tr>\n",
       "      <th>1</th>\n",
       "      <td>2</td>\n",
       "      <td>Quito</td>\n",
       "      <td>Pichincha</td>\n",
       "      <td>D</td>\n",
       "      <td>13</td>\n",
       "    </tr>\n",
       "    <tr>\n",
       "      <th>2</th>\n",
       "      <td>3</td>\n",
       "      <td>Quito</td>\n",
       "      <td>Pichincha</td>\n",
       "      <td>D</td>\n",
       "      <td>8</td>\n",
       "    </tr>\n",
       "    <tr>\n",
       "      <th>3</th>\n",
       "      <td>4</td>\n",
       "      <td>Quito</td>\n",
       "      <td>Pichincha</td>\n",
       "      <td>D</td>\n",
       "      <td>9</td>\n",
       "    </tr>\n",
       "    <tr>\n",
       "      <th>4</th>\n",
       "      <td>5</td>\n",
       "      <td>Santo Domingo</td>\n",
       "      <td>Santo Domingo de los Tsachilas</td>\n",
       "      <td>D</td>\n",
       "      <td>4</td>\n",
       "    </tr>\n",
       "  </tbody>\n",
       "</table>\n",
       "</div>"
      ],
      "text/plain": [
       "   store_nbr           city                           state type  cluster\n",
       "0          1          Quito                       Pichincha    D       13\n",
       "1          2          Quito                       Pichincha    D       13\n",
       "2          3          Quito                       Pichincha    D        8\n",
       "3          4          Quito                       Pichincha    D        9\n",
       "4          5  Santo Domingo  Santo Domingo de los Tsachilas    D        4"
      ]
     },
     "execution_count": 151,
     "metadata": {},
     "output_type": "execute_result"
    }
   ],
   "source": [
    "# extract data from Table 3: dbo.stores\n",
    "# assign it to data_stores\n",
    "# preview data_stores\n",
    "\n",
    "query3=\"Select * from dbo.stores\" \n",
    "data_stores=pd.read_sql(query3, connection)\n",
    "\n",
    "data_stores.head()"
   ]
  },
  {
   "cell_type": "code",
   "execution_count": 152,
   "metadata": {},
   "outputs": [
    {
     "data": {
      "text/plain": [
       "(54, 5)"
      ]
     },
     "execution_count": 152,
     "metadata": {},
     "output_type": "execute_result"
    }
   ],
   "source": [
    "data_stores.shape"
   ]
  },
  {
   "cell_type": "code",
   "execution_count": 153,
   "metadata": {},
   "outputs": [
    {
     "name": "stdout",
     "output_type": "stream",
     "text": [
      "<class 'pandas.core.frame.DataFrame'>\n",
      "RangeIndex: 54 entries, 0 to 53\n",
      "Data columns (total 5 columns):\n",
      " #   Column     Non-Null Count  Dtype \n",
      "---  ------     --------------  ----- \n",
      " 0   store_nbr  54 non-null     int64 \n",
      " 1   city       54 non-null     object\n",
      " 2   state      54 non-null     object\n",
      " 3   type       54 non-null     object\n",
      " 4   cluster    54 non-null     int64 \n",
      "dtypes: int64(2), object(3)\n",
      "memory usage: 2.2+ KB\n"
     ]
    }
   ],
   "source": [
    "data_stores.info()"
   ]
  },
  {
   "cell_type": "code",
   "execution_count": 154,
   "metadata": {},
   "outputs": [
    {
     "data": {
      "text/plain": [
       "store_nbr    0\n",
       "city         0\n",
       "state        0\n",
       "type         0\n",
       "cluster      0\n",
       "dtype: int64"
      ]
     },
     "execution_count": 154,
     "metadata": {},
     "output_type": "execute_result"
    }
   ],
   "source": [
    "data_stores.isnull().sum()"
   ]
  },
  {
   "cell_type": "code",
   "execution_count": 155,
   "metadata": {},
   "outputs": [],
   "source": [
    "# Save extracted data as data3.csv\n",
    "\n",
    "data_stores.to_csv('data_stores.csv')"
   ]
  },
  {
   "cell_type": "markdown",
   "metadata": {},
   "source": [
    "### EDA for data_stores"
   ]
  },
  {
   "cell_type": "code",
   "execution_count": 156,
   "metadata": {},
   "outputs": [
    {
     "data": {
      "image/png": "[encoded data removed]",
      "text/plain": [
       "<Figure size 1000x600 with 1 Axes>"
      ]
     },
     "metadata": {},
     "output_type": "display_data"
    }
   ],
   "source": [
    "#distribution of store_nbr over types\n",
    "# Set the style for the plot\n",
    "sns.set(style='whitegrid')\n",
    "\n",
    "# Create a bar plot\n",
    "plt.figure(figsize=(10, 6))\n",
    "sns.countplot(data=data_stores, x='type')\n",
    "plt.title('Distribution of store_nbr Over Types')\n",
    "plt.xlabel('Type')\n",
    "plt.ylabel('Count')\n",
    "plt.xticks(rotation=360)\n",
    "plt.show()"
   ]
  },
  {
   "cell_type": "markdown",
   "metadata": {},
   "source": [
    "The bar plot displays the distribution of store_nbr over different types of stores. Each bar on the plot represents a specific type of store, and the height of the bar indicates the count of stores belonging to that type. \n",
    "\n",
    "From the plot, you can observe which type of store (A, B, or C) is the most common among the given store numbers. D has the highest frequency followed by C and A type."
   ]
  },
  {
   "cell_type": "code",
   "execution_count": 157,
   "metadata": {},
   "outputs": [
    {
     "data": {
      "image/png": "[encoded data removed]",
      "text/plain": [
       "<Figure size 1000x600 with 1 Axes>"
      ]
     },
     "metadata": {},
     "output_type": "display_data"
    }
   ],
   "source": [
    "#Distribution of cities and Clusters\n",
    "# Set the style for the plot\n",
    "sns.set(style='whitegrid')\n",
    "# Filter the data for the first 5 cities\n",
    "first_5_cities = data_stores['city'].value_counts().head(5).index\n",
    "data_first_5_cities = data_stores[data_stores['city'].isin(first_5_cities)]\n",
    "\n",
    "# Create a bar plot for the distribution of the first 5 cities\n",
    "plt.figure(figsize=(10, 6))\n",
    "sns.countplot(data=data_first_5_cities, x='city')\n",
    "plt.title('Distribution of the First 5 Cities')\n",
    "plt.xlabel('City')\n",
    "plt.ylabel('Count')\n",
    "plt.xticks(rotation=360)\n",
    "plt.show()\n",
    "\n"
   ]
  },
  {
   "cell_type": "markdown",
   "metadata": {},
   "source": [
    "The first bar plot displays the distribution of stores across different cities. Each bar on the plot represents a specific city, and the height of the bar indicates the count of stores located in that city.  The plot gives an overview of the geographical distribution of the stores.\n",
    "\n",
    "The second bar plot shows the distribution of stores across different clusters. Each bar corresponds to a cluster, and the height of the bar represents the count of stores belonging to that cluster.  The plot provides insights into how the stores are grouped into different clusters, which might reflect certain patterns or characteristics shared among them"
   ]
  },
  {
   "cell_type": "markdown",
   "metadata": {},
   "source": [
    "### Does store size affect total sales?"
   ]
  },
  {
   "cell_type": "code",
   "execution_count": 158,
   "metadata": {},
   "outputs": [],
   "source": [
    "# Group the data by cluster and calculate total sales for each cluster\n",
    "sales_by_cluster = data_stores.groupby('cluster')['store_nbr'].count()"
   ]
  },
  {
   "cell_type": "code",
   "execution_count": 159,
   "metadata": {},
   "outputs": [
    {
     "data": {
      "image/png": "[encoded data removed]",
      "text/plain": [
       "<Figure size 1000x600 with 1 Axes>"
      ]
     },
     "metadata": {},
     "output_type": "display_data"
    }
   ],
   "source": [
    "# Create a bar plot for sales by cluster\n",
    "plt.figure(figsize=(10, 6))\n",
    "sns.barplot(x=sales_by_cluster.index, y=sales_by_cluster.values)\n",
    "plt.title('Total Sales by Cluster')\n",
    "plt.xlabel('Cluster')\n",
    "plt.ylabel('Total Sales')\n",
    "plt.xticks(rotation=0)\n",
    "plt.show()\n"
   ]
  },
  {
   "cell_type": "markdown",
   "metadata": {},
   "source": [
    "The  plot shows the Total Sales across different clusters. Each bar corresponds to a cluster, and the height of the bar represents theTotal Sales belonging to that cluster.  The plot provides insights into how theTotal sales are grouped into different clusters, which might reflect certain patterns or characteristics shared among them"
   ]
  },
  {
   "cell_type": "code",
   "execution_count": 160,
   "metadata": {},
   "outputs": [],
   "source": [
    "data_sub = pd.read_excel('E:/LP3 dataset/sample_submission.xlsx')"
   ]
  },
  {
   "cell_type": "code",
   "execution_count": 161,
   "metadata": {},
   "outputs": [
    {
     "data": {
      "text/html": [
       "<div>\n",
       "<style scoped>\n",
       "    .dataframe tbody tr th:only-of-type {\n",
       "        vertical-align: middle;\n",
       "    }\n",
       "\n",
       "    .dataframe tbody tr th {\n",
       "        vertical-align: top;\n",
       "    }\n",
       "\n",
       "    .dataframe thead th {\n",
       "        text-align: right;\n",
       "    }\n",
       "</style>\n",
       "<table border=\"1\" class=\"dataframe\">\n",
       "  <thead>\n",
       "    <tr style=\"text-align: right;\">\n",
       "      <th></th>\n",
       "      <th>id</th>\n",
       "      <th>sales</th>\n",
       "    </tr>\n",
       "  </thead>\n",
       "  <tbody>\n",
       "    <tr>\n",
       "      <th>0</th>\n",
       "      <td>3000888</td>\n",
       "      <td>0</td>\n",
       "    </tr>\n",
       "    <tr>\n",
       "      <th>1</th>\n",
       "      <td>3000889</td>\n",
       "      <td>0</td>\n",
       "    </tr>\n",
       "    <tr>\n",
       "      <th>2</th>\n",
       "      <td>3000890</td>\n",
       "      <td>0</td>\n",
       "    </tr>\n",
       "    <tr>\n",
       "      <th>3</th>\n",
       "      <td>3000891</td>\n",
       "      <td>0</td>\n",
       "    </tr>\n",
       "    <tr>\n",
       "      <th>4</th>\n",
       "      <td>3000892</td>\n",
       "      <td>0</td>\n",
       "    </tr>\n",
       "  </tbody>\n",
       "</table>\n",
       "</div>"
      ],
      "text/plain": [
       "        id  sales\n",
       "0  3000888      0\n",
       "1  3000889      0\n",
       "2  3000890      0\n",
       "3  3000891      0\n",
       "4  3000892      0"
      ]
     },
     "execution_count": 161,
     "metadata": {},
     "output_type": "execute_result"
    }
   ],
   "source": [
    "data_sub.head(5)"
   ]
  },
  {
   "cell_type": "code",
   "execution_count": 162,
   "metadata": {},
   "outputs": [],
   "source": [
    "data_trans = pd.read_csv('E:/LP3 dataset/transactions.csv', parse_dates=['date'])"
   ]
  },
  {
   "cell_type": "code",
   "execution_count": 163,
   "metadata": {},
   "outputs": [
    {
     "data": {
      "text/html": [
       "<div>\n",
       "<style scoped>\n",
       "    .dataframe tbody tr th:only-of-type {\n",
       "        vertical-align: middle;\n",
       "    }\n",
       "\n",
       "    .dataframe tbody tr th {\n",
       "        vertical-align: top;\n",
       "    }\n",
       "\n",
       "    .dataframe thead th {\n",
       "        text-align: right;\n",
       "    }\n",
       "</style>\n",
       "<table border=\"1\" class=\"dataframe\">\n",
       "  <thead>\n",
       "    <tr style=\"text-align: right;\">\n",
       "      <th></th>\n",
       "      <th>date</th>\n",
       "      <th>store_nbr</th>\n",
       "      <th>transactions</th>\n",
       "    </tr>\n",
       "  </thead>\n",
       "  <tbody>\n",
       "    <tr>\n",
       "      <th>0</th>\n",
       "      <td>2013-01-01</td>\n",
       "      <td>25</td>\n",
       "      <td>770</td>\n",
       "    </tr>\n",
       "    <tr>\n",
       "      <th>1</th>\n",
       "      <td>2013-01-02</td>\n",
       "      <td>1</td>\n",
       "      <td>2111</td>\n",
       "    </tr>\n",
       "    <tr>\n",
       "      <th>2</th>\n",
       "      <td>2013-01-02</td>\n",
       "      <td>2</td>\n",
       "      <td>2358</td>\n",
       "    </tr>\n",
       "    <tr>\n",
       "      <th>3</th>\n",
       "      <td>2013-01-02</td>\n",
       "      <td>3</td>\n",
       "      <td>3487</td>\n",
       "    </tr>\n",
       "    <tr>\n",
       "      <th>4</th>\n",
       "      <td>2013-01-02</td>\n",
       "      <td>4</td>\n",
       "      <td>1922</td>\n",
       "    </tr>\n",
       "  </tbody>\n",
       "</table>\n",
       "</div>"
      ],
      "text/plain": [
       "        date  store_nbr  transactions\n",
       "0 2013-01-01         25           770\n",
       "1 2013-01-02          1          2111\n",
       "2 2013-01-02          2          2358\n",
       "3 2013-01-02          3          3487\n",
       "4 2013-01-02          4          1922"
      ]
     },
     "execution_count": 163,
     "metadata": {},
     "output_type": "execute_result"
    }
   ],
   "source": [
    "data_trans.head(5)"
   ]
  },
  {
   "cell_type": "code",
   "execution_count": 164,
   "metadata": {},
   "outputs": [
    {
     "data": {
      "text/plain": [
       "(83488, 3)"
      ]
     },
     "execution_count": 164,
     "metadata": {},
     "output_type": "execute_result"
    }
   ],
   "source": [
    "data_trans.shape"
   ]
  },
  {
   "cell_type": "code",
   "execution_count": 165,
   "metadata": {},
   "outputs": [
    {
     "name": "stdout",
     "output_type": "stream",
     "text": [
      "<class 'pandas.core.frame.DataFrame'>\n",
      "RangeIndex: 83488 entries, 0 to 83487\n",
      "Data columns (total 3 columns):\n",
      " #   Column        Non-Null Count  Dtype         \n",
      "---  ------        --------------  -----         \n",
      " 0   date          83488 non-null  datetime64[ns]\n",
      " 1   store_nbr     83488 non-null  int64         \n",
      " 2   transactions  83488 non-null  int64         \n",
      "dtypes: datetime64[ns](1), int64(2)\n",
      "memory usage: 1.9 MB\n"
     ]
    }
   ],
   "source": [
    "data_trans.info()"
   ]
  },
  {
   "cell_type": "code",
   "execution_count": 166,
   "metadata": {},
   "outputs": [],
   "source": [
    "data_trans['year'] = data_trans['date'].dt.year\n",
    "data_trans['month'] = data_trans['date'].dt.month\n",
    "data_trans['day'] = data_trans['date'].dt.day"
   ]
  },
  {
   "cell_type": "code",
   "execution_count": 167,
   "metadata": {},
   "outputs": [
    {
     "data": {
      "text/plain": [
       "date            0\n",
       "store_nbr       0\n",
       "transactions    0\n",
       "year            0\n",
       "month           0\n",
       "day             0\n",
       "dtype: int64"
      ]
     },
     "execution_count": 167,
     "metadata": {},
     "output_type": "execute_result"
    }
   ],
   "source": [
    "data_trans.isnull().sum()"
   ]
  },
  {
   "cell_type": "markdown",
   "metadata": {},
   "source": [
    "### EDA on transactions "
   ]
  },
  {
   "cell_type": "code",
   "execution_count": 168,
   "metadata": {},
   "outputs": [
    {
     "data": {
      "image/png": "[encoded data removed]",
      "text/plain": [
       "<Figure size 1000x600 with 1 Axes>"
      ]
     },
     "metadata": {},
     "output_type": "display_data"
    }
   ],
   "source": [
    "# Create a line plot\n",
    "plt.figure(figsize=(10, 6))\n",
    "plt.plot(data_trans['date'], data_trans['transactions'], linestyle='-', color='b')\n",
    "plt.title('Transactions Over Time')\n",
    "plt.xlabel('Date')\n",
    "plt.ylabel('Transactions')\n",
    "plt.xticks(rotation=45)\n",
    "plt.grid(False)\n",
    "plt.show()"
   ]
  },
  {
   "cell_type": "markdown",
   "metadata": {},
   "source": [
    "The graph  depicts the trend of transactions for a given period. The x-axis represents the timeline, progressing from earlier dates on the left to later dates on the right. The y-axis represents the number of transactions recorded for each corresponding date. There is fluctuation in the transaction counts over time, with some periods experiencing higher transaction activity than others.\n",
    "The plot shows both upward and downward trends in transaction counts, suggesting varying customer engagement or external factors impacting sales.\n"
   ]
  },
  {
   "cell_type": "code",
   "execution_count": 169,
   "metadata": {},
   "outputs": [],
   "source": [
    "data_test= pd.read_excel('E:/LP3 dataset/test.xlsx', parse_dates=['date'])"
   ]
  },
  {
   "cell_type": "code",
   "execution_count": 170,
   "metadata": {},
   "outputs": [
    {
     "data": {
      "text/html": [
       "<div>\n",
       "<style scoped>\n",
       "    .dataframe tbody tr th:only-of-type {\n",
       "        vertical-align: middle;\n",
       "    }\n",
       "\n",
       "    .dataframe tbody tr th {\n",
       "        vertical-align: top;\n",
       "    }\n",
       "\n",
       "    .dataframe thead th {\n",
       "        text-align: right;\n",
       "    }\n",
       "</style>\n",
       "<table border=\"1\" class=\"dataframe\">\n",
       "  <thead>\n",
       "    <tr style=\"text-align: right;\">\n",
       "      <th></th>\n",
       "      <th>id</th>\n",
       "      <th>date</th>\n",
       "      <th>store_nbr</th>\n",
       "      <th>family</th>\n",
       "      <th>onpromotion</th>\n",
       "    </tr>\n",
       "  </thead>\n",
       "  <tbody>\n",
       "    <tr>\n",
       "      <th>0</th>\n",
       "      <td>3000888</td>\n",
       "      <td>2017-08-16</td>\n",
       "      <td>1</td>\n",
       "      <td>AUTOMOTIVE</td>\n",
       "      <td>0</td>\n",
       "    </tr>\n",
       "    <tr>\n",
       "      <th>1</th>\n",
       "      <td>3000889</td>\n",
       "      <td>2017-08-16</td>\n",
       "      <td>1</td>\n",
       "      <td>BABY CARE</td>\n",
       "      <td>0</td>\n",
       "    </tr>\n",
       "    <tr>\n",
       "      <th>2</th>\n",
       "      <td>3000890</td>\n",
       "      <td>2017-08-16</td>\n",
       "      <td>1</td>\n",
       "      <td>BEAUTY</td>\n",
       "      <td>2</td>\n",
       "    </tr>\n",
       "    <tr>\n",
       "      <th>3</th>\n",
       "      <td>3000891</td>\n",
       "      <td>2017-08-16</td>\n",
       "      <td>1</td>\n",
       "      <td>BEVERAGES</td>\n",
       "      <td>20</td>\n",
       "    </tr>\n",
       "    <tr>\n",
       "      <th>4</th>\n",
       "      <td>3000892</td>\n",
       "      <td>2017-08-16</td>\n",
       "      <td>1</td>\n",
       "      <td>BOOKS</td>\n",
       "      <td>0</td>\n",
       "    </tr>\n",
       "  </tbody>\n",
       "</table>\n",
       "</div>"
      ],
      "text/plain": [
       "        id       date  store_nbr      family  onpromotion\n",
       "0  3000888 2017-08-16          1  AUTOMOTIVE            0\n",
       "1  3000889 2017-08-16          1   BABY CARE            0\n",
       "2  3000890 2017-08-16          1      BEAUTY            2\n",
       "3  3000891 2017-08-16          1   BEVERAGES           20\n",
       "4  3000892 2017-08-16          1       BOOKS            0"
      ]
     },
     "execution_count": 170,
     "metadata": {},
     "output_type": "execute_result"
    }
   ],
   "source": [
    "data_test.head(5)"
   ]
  },
  {
   "cell_type": "code",
   "execution_count": 171,
   "metadata": {},
   "outputs": [
    {
     "data": {
      "text/plain": [
       "(28512, 5)"
      ]
     },
     "execution_count": 171,
     "metadata": {},
     "output_type": "execute_result"
    }
   ],
   "source": [
    "data_test.shape"
   ]
  },
  {
   "cell_type": "code",
   "execution_count": 172,
   "metadata": {},
   "outputs": [
    {
     "name": "stdout",
     "output_type": "stream",
     "text": [
      "<class 'pandas.core.frame.DataFrame'>\n",
      "RangeIndex: 28512 entries, 0 to 28511\n",
      "Data columns (total 5 columns):\n",
      " #   Column       Non-Null Count  Dtype         \n",
      "---  ------       --------------  -----         \n",
      " 0   id           28512 non-null  int64         \n",
      " 1   date         28512 non-null  datetime64[ns]\n",
      " 2   store_nbr    28512 non-null  int64         \n",
      " 3   family       28512 non-null  object        \n",
      " 4   onpromotion  28512 non-null  int64         \n",
      "dtypes: datetime64[ns](1), int64(3), object(1)\n",
      "memory usage: 1.1+ MB\n"
     ]
    }
   ],
   "source": [
    "data_test.info()"
   ]
  },
  {
   "cell_type": "code",
   "execution_count": 173,
   "metadata": {},
   "outputs": [],
   "source": [
    "data_test['year'] = data_test['date'].dt.year\n",
    "data_test['month'] = data_test['date'].dt.month\n",
    "data_test['day'] = data_test['date'].dt.day"
   ]
  },
  {
   "cell_type": "code",
   "execution_count": 174,
   "metadata": {},
   "outputs": [
    {
     "data": {
      "text/plain": [
       "id             0\n",
       "date           0\n",
       "store_nbr      0\n",
       "family         0\n",
       "onpromotion    0\n",
       "year           0\n",
       "month          0\n",
       "day            0\n",
       "dtype: int64"
      ]
     },
     "execution_count": 174,
     "metadata": {},
     "output_type": "execute_result"
    }
   ],
   "source": [
    "data_test.isnull().sum()"
   ]
  },
  {
   "cell_type": "code",
   "execution_count": 175,
   "metadata": {},
   "outputs": [],
   "source": [
    "data_train= pd.read_csv('E:/LP3 dataset/train.csv', parse_dates=['date'])"
   ]
  },
  {
   "cell_type": "code",
   "execution_count": 176,
   "metadata": {},
   "outputs": [
    {
     "data": {
      "text/html": [
       "<div>\n",
       "<style scoped>\n",
       "    .dataframe tbody tr th:only-of-type {\n",
       "        vertical-align: middle;\n",
       "    }\n",
       "\n",
       "    .dataframe tbody tr th {\n",
       "        vertical-align: top;\n",
       "    }\n",
       "\n",
       "    .dataframe thead th {\n",
       "        text-align: right;\n",
       "    }\n",
       "</style>\n",
       "<table border=\"1\" class=\"dataframe\">\n",
       "  <thead>\n",
       "    <tr style=\"text-align: right;\">\n",
       "      <th></th>\n",
       "      <th>id</th>\n",
       "      <th>date</th>\n",
       "      <th>store_nbr</th>\n",
       "      <th>family</th>\n",
       "      <th>sales</th>\n",
       "      <th>onpromotion</th>\n",
       "    </tr>\n",
       "  </thead>\n",
       "  <tbody>\n",
       "    <tr>\n",
       "      <th>0</th>\n",
       "      <td>0</td>\n",
       "      <td>2013-01-01</td>\n",
       "      <td>1</td>\n",
       "      <td>AUTOMOTIVE</td>\n",
       "      <td>0.0</td>\n",
       "      <td>0</td>\n",
       "    </tr>\n",
       "    <tr>\n",
       "      <th>1</th>\n",
       "      <td>1</td>\n",
       "      <td>2013-01-01</td>\n",
       "      <td>1</td>\n",
       "      <td>BABY CARE</td>\n",
       "      <td>0.0</td>\n",
       "      <td>0</td>\n",
       "    </tr>\n",
       "    <tr>\n",
       "      <th>2</th>\n",
       "      <td>2</td>\n",
       "      <td>2013-01-01</td>\n",
       "      <td>1</td>\n",
       "      <td>BEAUTY</td>\n",
       "      <td>0.0</td>\n",
       "      <td>0</td>\n",
       "    </tr>\n",
       "    <tr>\n",
       "      <th>3</th>\n",
       "      <td>3</td>\n",
       "      <td>2013-01-01</td>\n",
       "      <td>1</td>\n",
       "      <td>BEVERAGES</td>\n",
       "      <td>0.0</td>\n",
       "      <td>0</td>\n",
       "    </tr>\n",
       "    <tr>\n",
       "      <th>4</th>\n",
       "      <td>4</td>\n",
       "      <td>2013-01-01</td>\n",
       "      <td>1</td>\n",
       "      <td>BOOKS</td>\n",
       "      <td>0.0</td>\n",
       "      <td>0</td>\n",
       "    </tr>\n",
       "  </tbody>\n",
       "</table>\n",
       "</div>"
      ],
      "text/plain": [
       "   id       date  store_nbr      family  sales  onpromotion\n",
       "0   0 2013-01-01          1  AUTOMOTIVE    0.0            0\n",
       "1   1 2013-01-01          1   BABY CARE    0.0            0\n",
       "2   2 2013-01-01          1      BEAUTY    0.0            0\n",
       "3   3 2013-01-01          1   BEVERAGES    0.0            0\n",
       "4   4 2013-01-01          1       BOOKS    0.0            0"
      ]
     },
     "execution_count": 176,
     "metadata": {},
     "output_type": "execute_result"
    }
   ],
   "source": [
    "data_train.head(5)"
   ]
  },
  {
   "cell_type": "code",
   "execution_count": 177,
   "metadata": {},
   "outputs": [
    {
     "data": {
      "text/plain": [
       "(3000888, 6)"
      ]
     },
     "execution_count": 177,
     "metadata": {},
     "output_type": "execute_result"
    }
   ],
   "source": [
    "data_train.shape"
   ]
  },
  {
   "cell_type": "code",
   "execution_count": 178,
   "metadata": {},
   "outputs": [
    {
     "name": "stdout",
     "output_type": "stream",
     "text": [
      "<class 'pandas.core.frame.DataFrame'>\n",
      "RangeIndex: 3000888 entries, 0 to 3000887\n",
      "Data columns (total 6 columns):\n",
      " #   Column       Dtype         \n",
      "---  ------       -----         \n",
      " 0   id           int64         \n",
      " 1   date         datetime64[ns]\n",
      " 2   store_nbr    int64         \n",
      " 3   family       object        \n",
      " 4   sales        float64       \n",
      " 5   onpromotion  int64         \n",
      "dtypes: datetime64[ns](1), float64(1), int64(3), object(1)\n",
      "memory usage: 137.4+ MB\n"
     ]
    }
   ],
   "source": [
    "data_train.info()"
   ]
  },
  {
   "cell_type": "code",
   "execution_count": 179,
   "metadata": {},
   "outputs": [],
   "source": [
    "data_train['year'] = data_train['date'].dt.year\n",
    "data_train['month'] = data_train['date'].dt.month\n",
    "data_train['day'] = data_train['date'].dt.day"
   ]
  },
  {
   "cell_type": "code",
   "execution_count": 180,
   "metadata": {},
   "outputs": [
    {
     "data": {
      "text/plain": [
       "id             0\n",
       "date           0\n",
       "store_nbr      0\n",
       "family         0\n",
       "sales          0\n",
       "onpromotion    0\n",
       "year           0\n",
       "month          0\n",
       "day            0\n",
       "dtype: int64"
      ]
     },
     "execution_count": 180,
     "metadata": {},
     "output_type": "execute_result"
    }
   ],
   "source": [
    "data_train.isnull().sum()"
   ]
  },
  {
   "cell_type": "markdown",
   "metadata": {},
   "source": [
    "### EDA of train data"
   ]
  },
  {
   "cell_type": "markdown",
   "metadata": {},
   "source": [
    "#### Which dates have the lowest and highest sales for each year?"
   ]
  },
  {
   "cell_type": "code",
   "execution_count": 181,
   "metadata": {},
   "outputs": [
    {
     "name": "stdout",
     "output_type": "stream",
     "text": [
      "Year: 2013, Lowest Sales Date: 2013-01-01 00:00:00, Highest Sales Date: 2013-12-31 00:00:00\n",
      "Year: 2014, Lowest Sales Date: 2014-01-01 00:00:00, Highest Sales Date: 2014-12-31 00:00:00\n",
      "Year: 2015, Lowest Sales Date: 2015-01-01 00:00:00, Highest Sales Date: 2015-12-31 00:00:00\n",
      "Year: 2016, Lowest Sales Date: 2016-01-01 00:00:00, Highest Sales Date: 2016-12-31 00:00:00\n",
      "Year: 2017, Lowest Sales Date: 2017-01-01 00:00:00, Highest Sales Date: 2017-08-15 00:00:00\n"
     ]
    }
   ],
   "source": [
    "\n",
    "# Extract the year from the 'date' column\n",
    "data_train['year'] = data_train['date'].dt.year\n",
    "\n",
    "# Group the data by year and date, and calculate total sales\n",
    "grouped_sales = data_train.groupby(['year', 'date'])['sales'].sum().reset_index()\n",
    "\n",
    "# Find dates with lowest and highest sales for each year\n",
    "lowest_sales_dates = grouped_sales.groupby('year')['date'].min()\n",
    "highest_sales_dates = grouped_sales.groupby('year')['date'].max()\n",
    "\n",
    "# Print the results\n",
    "for year, lowest_date, highest_date in zip(lowest_sales_dates.index, lowest_sales_dates, highest_sales_dates):\n",
    "    print(f\"Year: {year}, Lowest Sales Date: {lowest_date}, Highest Sales Date: {highest_date}\")"
   ]
  },
  {
   "cell_type": "markdown",
   "metadata": {},
   "source": []
  },
  {
   "cell_type": "code",
   "execution_count": 182,
   "metadata": {},
   "outputs": [
    {
     "name": "stdout",
     "output_type": "stream",
     "text": [
      "      Year Lowest Sales Date Highest Sales Date\n",
      "year                                           \n",
      "2013  2013        2013-01-01         2013-12-31\n",
      "2014  2014        2014-01-01         2014-12-31\n",
      "2015  2015        2015-01-01         2015-12-31\n",
      "2016  2016        2016-01-01         2016-12-31\n",
      "2017  2017        2017-01-01         2017-08-15\n"
     ]
    }
   ],
   "source": [
    "result_df = pd.DataFrame({\n",
    "    'Year': lowest_sales_dates.index,\n",
    "    'Lowest Sales Date': lowest_sales_dates,\n",
    "    'Highest Sales Date': highest_sales_dates\n",
    "})\n",
    "\n",
    "# Print the DataFrame\n",
    "print(result_df)"
   ]
  },
  {
   "cell_type": "code",
   "execution_count": 183,
   "metadata": {},
   "outputs": [
    {
     "data": {
      "image/png": "[encoded data removed]",
      "text/plain": [
       "<Figure size 1000x600 with 1 Axes>"
      ]
     },
     "metadata": {},
     "output_type": "display_data"
    }
   ],
   "source": [
    "# Assuming your DataFrame is named 'data_train'\n",
    "plt.figure(figsize=(10, 6))\n",
    "plt.plot(data_train['date'], data_train['sales'], linestyle='-', color='b')\n",
    "plt.title('Sales Over Time')\n",
    "plt.xlabel('Date')\n",
    "plt.ylabel('Sales')\n",
    "plt.xticks(rotation=45)\n",
    "plt.grid(False)\n",
    "plt.show()"
   ]
  },
  {
   "cell_type": "markdown",
   "metadata": {},
   "source": [
    "\n",
    "\n",
    "From the graph, we can observe fluctuations in sales over time. There are periods of higher sales, followed by periods of lower sales. Peaks in the line indicate moments of increased demand or successful promotions, while dips may suggest slower business periods."
   ]
  },
  {
   "cell_type": "markdown",
   "metadata": {},
   "source": [
    "### Did the earthquake impact sales?"
   ]
  },
  {
   "cell_type": "code",
   "execution_count": 184,
   "metadata": {},
   "outputs": [
    {
     "data": {
      "image/png": "[encoded data removed]",
      "text/plain": [
       "<Figure size 1000x600 with 1 Axes>"
      ]
     },
     "metadata": {},
     "output_type": "display_data"
    }
   ],
   "source": [
    "data_2016 = data_train[data_train['date'].dt.year == 2016]\n",
    "\n",
    "# Group data by month and calculate total sales\n",
    "monthly_sales = data_2016.groupby(data_2016['date'].dt.month)['sales'].sum()\n",
    "\n",
    "# Create a line plot for total sales per month\n",
    "plt.figure(figsize=(10, 6))\n",
    "plt.plot(monthly_sales.index, monthly_sales.values, marker='o', color='b', label='Total Sales')\n",
    "\n",
    "# Highlight the month of April 2016 (earthquake month)\n",
    "plt.axvline(x=4, color='r', linestyle='--', label='Earthquake (April)')\n",
    "\n",
    "plt.title('Total Sales per Month in 2016')\n",
    "plt.xlabel('Month')\n",
    "plt.ylabel('Total Sales')\n",
    "plt.xticks(range(1, 13), ['Jan', 'Feb', 'Mar', 'Apr', 'May', 'Jun', 'Jul', 'Aug', 'Sep', 'Oct', 'Nov', 'Dec'])\n",
    "plt.legend()\n",
    "plt.grid(True)\n",
    "plt.show()"
   ]
  },
  {
   "cell_type": "markdown",
   "metadata": {},
   "source": [
    " The  graph, shows how the  the monthly fluctuations in total sales throughout the year 2016. The red dashed line indicating the earthquake month shows there was a significant impact on sales during that period compared to the rest of the months. This shows that most people bought supplies."
   ]
  },
  {
   "cell_type": "markdown",
   "metadata": {},
   "source": [
    "### What store is the highest performer in terms of sales?"
   ]
  },
  {
   "cell_type": "code",
   "execution_count": 185,
   "metadata": {},
   "outputs": [
    {
     "data": {
      "image/png": "[encoded data removed]",
      "text/plain": [
       "<Figure size 1000x600 with 1 Axes>"
      ]
     },
     "metadata": {},
     "output_type": "display_data"
    }
   ],
   "source": [
    "# Filter the DataFrame where onpromotion is True\n",
    "filtered_df = data_train[data_train['onpromotion'] == 1]\n",
    "\n",
    "# Group by 'store_nbr' and calculate the sum of 'sales' for each store\n",
    "store_sales = filtered_df.groupby('store_nbr')['sales'].sum()\n",
    "\n",
    "# Get the first ten store sales\n",
    "first_ten_store_sales = store_sales.head(10)\n",
    "\n",
    "# Create a bar plot\n",
    "plt.figure(figsize=(10, 6))\n",
    "first_ten_store_sales.plot(kind='bar', color='blue')\n",
    "plt.title('Total Sales by Store Number ')\n",
    "plt.xlabel('Store Number')\n",
    "plt.ylabel('Total Sales')\n",
    "plt.xticks(rotation=360)  # Rotate x-axis labels for readability\n",
    "plt.tight_layout()\n",
    "plt.grid(False)\n",
    "plt.show()"
   ]
  },
  {
   "cell_type": "markdown",
   "metadata": {},
   "source": [
    "From the graph, we can observe that store numbers 3 and 8 have notably higher total sales compared to the other stores within the selected subset. "
   ]
  },
  {
   "cell_type": "markdown",
   "metadata": {},
   "source": [
    "### Which days have the most sales?"
   ]
  },
  {
   "cell_type": "code",
   "execution_count": 186,
   "metadata": {},
   "outputs": [
    {
     "data": {
      "image/png": "[encoded data removed]",
      "text/plain": [
       "<Figure size 1000x600 with 1 Axes>"
      ]
     },
     "metadata": {},
     "output_type": "display_data"
    }
   ],
   "source": [
    "# Group the data_train by 'date' and calculate total sales for each date\n",
    "daily_sales = data_train.groupby('date')['sales'].sum()\n",
    "\n",
    "# Sort the grouped data_train in descending order based on total sales\n",
    "sorted_daily_sales = daily_sales.sort_values(ascending=False)\n",
    "\n",
    "# Retrieve the top N dates with the most sales\n",
    "top_sales_dates = sorted_daily_sales.head(5)  # Change the number of top dates if needed\n",
    "\n",
    "# Plot the top sales dates using a bar plot\n",
    "plt.figure(figsize=(10, 6))\n",
    "sns.barplot(x=top_sales_dates.index, y=top_sales_dates.values, color='b')\n",
    "plt.title('Top Sales Dates')\n",
    "plt.xlabel('Date')\n",
    "plt.ylabel('Total Sales')\n",
    "plt.xticks(rotation=45)\n",
    "plt.grid(False)\n",
    "plt.tight_layout()\n",
    "plt.show()\n",
    "\n",
    "\n",
    "\n",
    "\n",
    "\n"
   ]
  },
  {
   "cell_type": "markdown",
   "metadata": {},
   "source": [
    "From the graph 2017-04-01 had the most total of sales within the year. And in the year 2016-04-18 had the most total of sales because of the earthquake "
   ]
  },
  {
   "cell_type": "markdown",
   "metadata": {},
   "source": [
    "### What is the effect of seasonal variations (e.g., Monthly, or quarterly patterns) on total sales?"
   ]
  },
  {
   "cell_type": "code",
   "execution_count": 187,
   "metadata": {},
   "outputs": [
    {
     "data": {
      "image/png": "[encoded data removed]",
      "text/plain": [
       "<Figure size 1000x600 with 1 Axes>"
      ]
     },
     "metadata": {},
     "output_type": "display_data"
    }
   ],
   "source": [
    "# Group the data_train by 'month' and calculate total sales for each month\n",
    "monthly_sales = data_train.groupby('month')['sales'].sum()\n",
    "\n",
    "# Plot the monthly sales using a line plot\n",
    "plt.figure(figsize=(10, 6))\n",
    "sns.lineplot(x=monthly_sales.index, y=monthly_sales.values, marker='o')\n",
    "plt.title('Monthly Sales Variation')\n",
    "plt.xlabel('Month')\n",
    "plt.ylabel('Total Sales')\n",
    "plt.xticks(range(1, 13), ['Jan', 'Feb', 'Mar', 'Apr', 'May', 'Jun', 'Jul', 'Aug', 'Sep', 'Oct', 'Nov', 'Dec'])\n",
    "plt.grid(False)\n",
    "plt.tight_layout()\n",
    "plt.show()\n",
    "\n",
    "\n",
    "\n",
    "\n",
    "\n"
   ]
  },
  {
   "cell_type": "markdown",
   "metadata": {},
   "source": [
    "The line plot titled \"Monthly Sales Variation\" illustrates the effect of seasonal variations on total sales throughout the year. The line represents a month, and its corresponding vertical position indicates the total sales achieved in that specific month From the graph, we can observe fluctuations in total sales across different months. There are certain months, such as November and December, where sales peak, indicating a surge in demand, possibly due to holiday shopping. On the other hand, there are months, such as January and February, where sales appear to dip, possibly due to post-holiday lulls."
   ]
  },
  {
   "cell_type": "markdown",
   "metadata": {},
   "source": [
    "### Checking the range of date "
   ]
  },
  {
   "cell_type": "code",
   "execution_count": 188,
   "metadata": {},
   "outputs": [
    {
     "data": {
      "text/plain": [
       "(Timestamp('2013-01-01 00:00:00'), Timestamp('2017-08-31 00:00:00'))"
      ]
     },
     "execution_count": 188,
     "metadata": {},
     "output_type": "execute_result"
    }
   ],
   "source": [
    "# cheacking the range of date on data_oil\n",
    "data_oil['date'].min(),data_oil['date'].max()"
   ]
  },
  {
   "cell_type": "code",
   "execution_count": 189,
   "metadata": {},
   "outputs": [
    {
     "data": {
      "text/plain": [
       "(Timestamp('2012-03-02 00:00:00'), Timestamp('2017-12-26 00:00:00'))"
      ]
     },
     "execution_count": 189,
     "metadata": {},
     "output_type": "execute_result"
    }
   ],
   "source": [
    "# cheacking the range of date on holiday\n",
    "data_holiday['date'].min(),data_holiday['date'].max()"
   ]
  },
  {
   "cell_type": "code",
   "execution_count": 190,
   "metadata": {},
   "outputs": [
    {
     "data": {
      "text/plain": [
       "(Timestamp('2013-01-01 00:00:00'), Timestamp('2017-08-15 00:00:00'))"
      ]
     },
     "execution_count": 190,
     "metadata": {},
     "output_type": "execute_result"
    }
   ],
   "source": [
    "# cheacking the range of date on transaction \n",
    "data_trans['date'].min(),data_trans['date'].max()"
   ]
  },
  {
   "cell_type": "code",
   "execution_count": 191,
   "metadata": {},
   "outputs": [
    {
     "data": {
      "text/plain": [
       "(Timestamp('2013-01-01 00:00:00'), Timestamp('2017-08-15 00:00:00'))"
      ]
     },
     "execution_count": 191,
     "metadata": {},
     "output_type": "execute_result"
    }
   ],
   "source": [
    "# cheacking the range of date on train  \n",
    "data_train['date'].min(),data_train['date'].max()"
   ]
  },
  {
   "cell_type": "code",
   "execution_count": 192,
   "metadata": {},
   "outputs": [
    {
     "data": {
      "text/plain": [
       "(Timestamp('2017-08-16 00:00:00'), Timestamp('2017-08-31 00:00:00'))"
      ]
     },
     "execution_count": 192,
     "metadata": {},
     "output_type": "execute_result"
    }
   ],
   "source": [
    "# cheacking the range of date on test \n",
    "data_test['date'].min(),data_test['date'].max()"
   ]
  },
  {
   "cell_type": "markdown",
   "metadata": {},
   "source": [
    "### splitting the data_oil date "
   ]
  },
  {
   "cell_type": "code",
   "execution_count": 193,
   "metadata": {},
   "outputs": [
    {
     "name": "stdout",
     "output_type": "stream",
     "text": [
      "<class 'pandas.core.frame.DataFrame'>\n",
      "RangeIndex: 1218 entries, 0 to 1217\n",
      "Data columns (total 5 columns):\n",
      " #   Column      Non-Null Count  Dtype         \n",
      "---  ------      --------------  -----         \n",
      " 0   date        1218 non-null   datetime64[ns]\n",
      " 1   oil_prices  1218 non-null   float64       \n",
      " 2   year        1218 non-null   int32         \n",
      " 3   month       1218 non-null   int32         \n",
      " 4   day         1218 non-null   int32         \n",
      "dtypes: datetime64[ns](1), float64(1), int32(3)\n",
      "memory usage: 33.4 KB\n"
     ]
    }
   ],
   "source": [
    "data_oil.info()"
   ]
  },
  {
   "cell_type": "code",
   "execution_count": 194,
   "metadata": {},
   "outputs": [
    {
     "name": "stdout",
     "output_type": "stream",
     "text": [
      "(Timestamp('2013-01-01 00:00:00'), Timestamp('2017-08-15 00:00:00'))\n",
      "(Timestamp('2017-08-16 00:00:00'), Timestamp('2017-08-31 00:00:00'))\n"
     ]
    }
   ],
   "source": [
    "\n",
    "# split oil.csv on the dates that reflects the split for the test and train\n",
    "#define the start and end dates for the oil.csv that will be joined to the test\n",
    "\n",
    "data_oil_test_start_date= '2017-08-16'\n",
    "data_oil_test_end_date= '2017-08-31'\n",
    "\n",
    "# Filtering data for the training date range\n",
    "data_oil_train = data_oil[(data_oil['date'] < data_oil_test_start_date)]\n",
    "range_oil_train = data_oil_train['date'].min(), data_oil_train['date'].max()\n",
    "print(range_oil_train)\n",
    "# Filter data for the specified date range\n",
    "data_oil_test = data_oil[(data_oil['date'] >= data_oil_test_start_date) & (data_oil['date'] <= data_oil_test_end_date)]\n",
    "range_oil_test = data_oil_test['date'].min(), data_oil_test['date'].max()\n",
    "print(range_oil_test)"
   ]
  },
  {
   "cell_type": "markdown",
   "metadata": {},
   "source": [
    "### Merging the dataset "
   ]
  },
  {
   "cell_type": "code",
   "execution_count": 195,
   "metadata": {},
   "outputs": [
    {
     "name": "stdout",
     "output_type": "stream",
     "text": [
      "        id       date  store_nbr      family  onpromotion  year  month  day  \\\n",
      "0  3000888 2017-08-16          1  AUTOMOTIVE            0  2017      8   16   \n",
      "1  3000889 2017-08-16          1   BABY CARE            0  2017      8   16   \n",
      "2  3000890 2017-08-16          1      BEAUTY            2  2017      8   16   \n",
      "3  3000891 2017-08-16          1   BEVERAGES           20  2017      8   16   \n",
      "4  3000892 2017-08-16          1       BOOKS            0  2017      8   16   \n",
      "\n",
      "   oil_prices  \n",
      "0   46.799999  \n",
      "1   46.799999  \n",
      "2   46.799999  \n",
      "3   46.799999  \n",
      "4   46.799999  \n"
     ]
    }
   ],
   "source": [
    "# Drop unwanted columns from data_oil_test\n",
    "data_oil_test = data_oil_test.drop(['year', 'month', 'day'], axis=1)\n",
    "\n",
    "# Merge data_test and modified data_oil_test on 'date'\n",
    "merged_test = pd.merge(data_test, data_oil_test, on='date', how='left')\n",
    "\n",
    "print(merged_test.head())"
   ]
  },
  {
   "cell_type": "code",
   "execution_count": 196,
   "metadata": {},
   "outputs": [
    {
     "data": {
      "text/plain": [
       "id                0\n",
       "date              0\n",
       "store_nbr         0\n",
       "family            0\n",
       "onpromotion       0\n",
       "year              0\n",
       "month             0\n",
       "day               0\n",
       "oil_prices     7128\n",
       "dtype: int64"
      ]
     },
     "execution_count": 196,
     "metadata": {},
     "output_type": "execute_result"
    }
   ],
   "source": [
    "#check for null or missing values\n",
    "\n",
    "merged_test.isnull().sum()"
   ]
  },
  {
   "cell_type": "code",
   "execution_count": 197,
   "metadata": {},
   "outputs": [
    {
     "data": {
      "text/plain": [
       "(28512, 9)"
      ]
     },
     "execution_count": 197,
     "metadata": {},
     "output_type": "execute_result"
    }
   ],
   "source": [
    "merged_test.shape"
   ]
  },
  {
   "cell_type": "code",
   "execution_count": 198,
   "metadata": {},
   "outputs": [
    {
     "name": "stdout",
     "output_type": "stream",
     "text": [
      "   id       date  store_nbr      family  sales  onpromotion  year  month  day  \\\n",
      "0   0 2013-01-01          1  AUTOMOTIVE    0.0            0  2013      1    1   \n",
      "1   1 2013-01-01          1   BABY CARE    0.0            0  2013      1    1   \n",
      "2   2 2013-01-01          1      BEAUTY    0.0            0  2013      1    1   \n",
      "3   3 2013-01-01          1   BEVERAGES    0.0            0  2013      1    1   \n",
      "4   4 2013-01-01          1       BOOKS    0.0            0  2013      1    1   \n",
      "\n",
      "   oil_prices  \n",
      "0   93.139999  \n",
      "1   93.139999  \n",
      "2   93.139999  \n",
      "3   93.139999  \n",
      "4   93.139999  \n"
     ]
    }
   ],
   "source": [
    "# merge train and data_oil_train_interpolated datasets\n",
    "# Drop unwanted columns from data_oil_test\n",
    "data_oil_train = data_oil_train.drop(['year', 'month', 'day'], axis=1)\n",
    "\n",
    "# Merge data_test and modified data_oil_test on 'date'\n",
    "merged_train = pd.merge(data_train, data_oil_train, on='date', how='left')\n",
    "\n",
    "print(merged_train.head())"
   ]
  },
  {
   "cell_type": "code",
   "execution_count": 199,
   "metadata": {},
   "outputs": [
    {
     "data": {
      "text/plain": [
       "id                  0\n",
       "date                0\n",
       "store_nbr           0\n",
       "family              0\n",
       "sales               0\n",
       "onpromotion         0\n",
       "year                0\n",
       "month               0\n",
       "day                 0\n",
       "oil_prices     857142\n",
       "dtype: int64"
      ]
     },
     "execution_count": 199,
     "metadata": {},
     "output_type": "execute_result"
    }
   ],
   "source": [
    "merged_train.isnull().sum()"
   ]
  },
  {
   "cell_type": "code",
   "execution_count": 200,
   "metadata": {},
   "outputs": [
    {
     "data": {
      "text/plain": [
       "(3000888, 10)"
      ]
     },
     "execution_count": 200,
     "metadata": {},
     "output_type": "execute_result"
    }
   ],
   "source": [
    "merged_train.shape"
   ]
  },
  {
   "cell_type": "code",
   "execution_count": 201,
   "metadata": {},
   "outputs": [
    {
     "name": "stdout",
     "output_type": "stream",
     "text": [
      "        date  store_nbr  transactions  year  month  day     city        state  \\\n",
      "0 2013-01-01         25           770  2013      1    1  Salinas  Santa Elena   \n",
      "1 2013-01-02          1          2111  2013      1    2    Quito    Pichincha   \n",
      "2 2013-01-02          2          2358  2013      1    2    Quito    Pichincha   \n",
      "3 2013-01-02          3          3487  2013      1    2    Quito    Pichincha   \n",
      "4 2013-01-02          4          1922  2013      1    2    Quito    Pichincha   \n",
      "\n",
      "  type  cluster  \n",
      "0    D        1  \n",
      "1    D       13  \n",
      "2    D       13  \n",
      "3    D        8  \n",
      "4    D        9  \n"
     ]
    }
   ],
   "source": [
    "# join transactions and stores on 'store_nbr'\n",
    "transactions_store = pd.merge(data_trans, data_stores, on='store_nbr', how='left')\n",
    "print(transactions_store.head())\n"
   ]
  },
  {
   "cell_type": "code",
   "execution_count": 202,
   "metadata": {},
   "outputs": [
    {
     "data": {
      "text/plain": [
       "date            0\n",
       "store_nbr       0\n",
       "transactions    0\n",
       "year            0\n",
       "month           0\n",
       "day             0\n",
       "city            0\n",
       "state           0\n",
       "type            0\n",
       "cluster         0\n",
       "dtype: int64"
      ]
     },
     "execution_count": 202,
     "metadata": {},
     "output_type": "execute_result"
    }
   ],
   "source": [
    "#checking the null value of the transactions_store\n",
    "transactions_store.isnull().sum()"
   ]
  },
  {
   "cell_type": "code",
   "execution_count": 203,
   "metadata": {},
   "outputs": [
    {
     "data": {
      "text/plain": [
       "(Timestamp('2013-01-01 00:00:00'), Timestamp('2017-08-15 00:00:00'))"
      ]
     },
     "execution_count": 203,
     "metadata": {},
     "output_type": "execute_result"
    }
   ],
   "source": [
    "# cheacking the range of date on the  transaction_store \n",
    "transactions_store['date'].min(),transactions_store['date'].max()"
   ]
  },
  {
   "cell_type": "markdown",
   "metadata": {},
   "source": [
    "splitting the transaction_store date"
   ]
  },
  {
   "cell_type": "code",
   "execution_count": 204,
   "metadata": {},
   "outputs": [
    {
     "name": "stdout",
     "output_type": "stream",
     "text": [
      "Train Set Date Range: 2013-01-01 00:00:00 to 2017-08-15 00:00:00\n",
      "Test Set Date Range: NaT to NaT\n"
     ]
    }
   ],
   "source": [
    "#splitting the transactions_store date\n",
    "# Define start and end dates for train and test sets\n",
    "transactions_store_start_date = pd.Timestamp('2013-01-01')\n",
    "transactions_store_end_date = pd.Timestamp('2017-08-15')\n",
    "\n",
    "# Filter the DataFrame to get training and testing data\n",
    "transactions_store_train = transactions_store[\n",
    "    (transactions_store['date'] >= transactions_store_start_date) &\n",
    "    (transactions_store['date'] <= transactions_store_end_date)\n",
    "]\n",
    "\n",
    "transactions_store_test = transactions_store[\n",
    "    transactions_store['date'] > transactions_store_end_date\n",
    "]\n",
    "\n",
    "# Verify the split\n",
    "transactions_store_train_min_date = transactions_store_train['date'].min()\n",
    "transactions_store_train_max_date = transactions_store_train['date'].max()\n",
    "transactions_store_test_min_date = transactions_store_test['date'].min()\n",
    "transactions_store_test_max_date = transactions_store_test['date'].max()\n",
    "\n",
    "print(\"Train Set Date Range:\", transactions_store_train_min_date, \"to\", transactions_store_train_max_date)\n",
    "print(\"Test Set Date Range:\", transactions_store_test_min_date, \"to\", transactions_store_test_max_date)"
   ]
  },
  {
   "cell_type": "markdown",
   "metadata": {},
   "source": [
    "In pandas, NaT stands for \"Not a Timestamp\" and represents missing or undefined values in datetime-related data. Since the transactions_store dataset has the same timestamp as the train we decided to maintain the timestamp for the train and use NaT for the test data"
   ]
  },
  {
   "cell_type": "markdown",
   "metadata": {},
   "source": [
    "Merging the transactions_store to the train and test data "
   ]
  },
  {
   "cell_type": "code",
   "execution_count": 205,
   "metadata": {},
   "outputs": [
    {
     "name": "stdout",
     "output_type": "stream",
     "text": [
      "   id       date  store_nbr      family  sales  onpromotion  year  month  day  \\\n",
      "0   0 2013-01-01          1  AUTOMOTIVE    0.0            0  2013      1    1   \n",
      "1   1 2013-01-01          1   BABY CARE    0.0            0  2013      1    1   \n",
      "2   2 2013-01-01          1      BEAUTY    0.0            0  2013      1    1   \n",
      "3   3 2013-01-01          1   BEVERAGES    0.0            0  2013      1    1   \n",
      "4   4 2013-01-01          1       BOOKS    0.0            0  2013      1    1   \n",
      "\n",
      "   oil_prices  transactions city state type  cluster  \n",
      "0   93.139999           NaN  NaN   NaN  NaN      NaN  \n",
      "1   93.139999           NaN  NaN   NaN  NaN      NaN  \n",
      "2   93.139999           NaN  NaN   NaN  NaN      NaN  \n",
      "3   93.139999           NaN  NaN   NaN  NaN      NaN  \n",
      "4   93.139999           NaN  NaN   NaN  NaN      NaN  \n"
     ]
    }
   ],
   "source": [
    "# merge test and transactions_store on 'date' on the test data\n",
    "\n",
    "\n",
    "train_tran = pd.merge(merged_train, transactions_store_train, how='left')\n",
    "\n",
    "print(train_tran.head())"
   ]
  },
  {
   "cell_type": "code",
   "execution_count": 206,
   "metadata": {},
   "outputs": [
    {
     "name": "stdout",
     "output_type": "stream",
     "text": [
      "Unique values in 'type' column: [nan 'D' 'C' 'B' 'E' 'A']\n"
     ]
    }
   ],
   "source": [
    "unique_types = train_tran['type'].unique()\n",
    "print(\"Unique values in 'type' column:\", unique_types)"
   ]
  },
  {
   "cell_type": "code",
   "execution_count": 207,
   "metadata": {},
   "outputs": [
    {
     "data": {
      "text/plain": [
       "id                   0\n",
       "date                 0\n",
       "store_nbr            0\n",
       "family               0\n",
       "sales                0\n",
       "onpromotion          0\n",
       "year                 0\n",
       "month                0\n",
       "day                  0\n",
       "oil_prices      857142\n",
       "transactions    245784\n",
       "city            245784\n",
       "state           245784\n",
       "type            245784\n",
       "cluster         245784\n",
       "dtype: int64"
      ]
     },
     "execution_count": 207,
     "metadata": {},
     "output_type": "execute_result"
    }
   ],
   "source": [
    "train_tran.isnull().sum()"
   ]
  },
  {
   "cell_type": "code",
   "execution_count": 208,
   "metadata": {},
   "outputs": [
    {
     "data": {
      "text/plain": [
       "(3000888, 15)"
      ]
     },
     "execution_count": 208,
     "metadata": {},
     "output_type": "execute_result"
    }
   ],
   "source": [
    "train_tran.shape"
   ]
  },
  {
   "cell_type": "code",
   "execution_count": 209,
   "metadata": {},
   "outputs": [
    {
     "name": "stdout",
     "output_type": "stream",
     "text": [
      "        id       date  store_nbr      family  onpromotion  year  month  day  \\\n",
      "0  3000888 2017-08-16          1  AUTOMOTIVE            0  2017      8   16   \n",
      "1  3000889 2017-08-16          1   BABY CARE            0  2017      8   16   \n",
      "2  3000890 2017-08-16          1      BEAUTY            2  2017      8   16   \n",
      "3  3000891 2017-08-16          1   BEVERAGES           20  2017      8   16   \n",
      "4  3000892 2017-08-16          1       BOOKS            0  2017      8   16   \n",
      "\n",
      "   oil_prices  transactions city state type  cluster  \n",
      "0   46.799999           NaN  NaN   NaN  NaN      NaN  \n",
      "1   46.799999           NaN  NaN   NaN  NaN      NaN  \n",
      "2   46.799999           NaN  NaN   NaN  NaN      NaN  \n",
      "3   46.799999           NaN  NaN   NaN  NaN      NaN  \n",
      "4   46.799999           NaN  NaN   NaN  NaN      NaN  \n"
     ]
    }
   ],
   "source": [
    "#merging the merged_test with the transactions_store \n",
    "test_tran = pd.merge(merged_test, transactions_store_test, how='left')\n",
    "\n",
    "print(test_tran.head())"
   ]
  },
  {
   "cell_type": "code",
   "execution_count": 210,
   "metadata": {},
   "outputs": [
    {
     "data": {
      "text/plain": [
       "id                  0\n",
       "date                0\n",
       "store_nbr           0\n",
       "family              0\n",
       "onpromotion         0\n",
       "year                0\n",
       "month               0\n",
       "day                 0\n",
       "oil_prices       7128\n",
       "transactions    28512\n",
       "city            28512\n",
       "state           28512\n",
       "type            28512\n",
       "cluster         28512\n",
       "dtype: int64"
      ]
     },
     "execution_count": 210,
     "metadata": {},
     "output_type": "execute_result"
    }
   ],
   "source": [
    "test_tran.isnull().sum()"
   ]
  },
  {
   "cell_type": "code",
   "execution_count": 211,
   "metadata": {},
   "outputs": [
    {
     "data": {
      "text/plain": [
       "(28512, 14)"
      ]
     },
     "execution_count": 211,
     "metadata": {},
     "output_type": "execute_result"
    }
   ],
   "source": [
    "test_tran.shape"
   ]
  },
  {
   "cell_type": "code",
   "execution_count": 212,
   "metadata": {},
   "outputs": [
    {
     "data": {
      "text/html": [
       "<div>\n",
       "<style scoped>\n",
       "    .dataframe tbody tr th:only-of-type {\n",
       "        vertical-align: middle;\n",
       "    }\n",
       "\n",
       "    .dataframe tbody tr th {\n",
       "        vertical-align: top;\n",
       "    }\n",
       "\n",
       "    .dataframe thead th {\n",
       "        text-align: right;\n",
       "    }\n",
       "</style>\n",
       "<table border=\"1\" class=\"dataframe\">\n",
       "  <thead>\n",
       "    <tr style=\"text-align: right;\">\n",
       "      <th></th>\n",
       "      <th>id</th>\n",
       "      <th>date</th>\n",
       "      <th>store_nbr</th>\n",
       "      <th>family</th>\n",
       "      <th>sales</th>\n",
       "      <th>onpromotion</th>\n",
       "      <th>year</th>\n",
       "      <th>month</th>\n",
       "      <th>day</th>\n",
       "      <th>oil_prices</th>\n",
       "      <th>transactions</th>\n",
       "      <th>city</th>\n",
       "      <th>state</th>\n",
       "      <th>type</th>\n",
       "      <th>cluster</th>\n",
       "    </tr>\n",
       "  </thead>\n",
       "  <tbody>\n",
       "    <tr>\n",
       "      <th>0</th>\n",
       "      <td>0</td>\n",
       "      <td>2013-01-01</td>\n",
       "      <td>1</td>\n",
       "      <td>AUTOMOTIVE</td>\n",
       "      <td>0.0</td>\n",
       "      <td>0</td>\n",
       "      <td>2013</td>\n",
       "      <td>1</td>\n",
       "      <td>1</td>\n",
       "      <td>93.139999</td>\n",
       "      <td>NaN</td>\n",
       "      <td>NaN</td>\n",
       "      <td>NaN</td>\n",
       "      <td>NaN</td>\n",
       "      <td>NaN</td>\n",
       "    </tr>\n",
       "    <tr>\n",
       "      <th>1</th>\n",
       "      <td>1</td>\n",
       "      <td>2013-01-01</td>\n",
       "      <td>1</td>\n",
       "      <td>BABY CARE</td>\n",
       "      <td>0.0</td>\n",
       "      <td>0</td>\n",
       "      <td>2013</td>\n",
       "      <td>1</td>\n",
       "      <td>1</td>\n",
       "      <td>93.139999</td>\n",
       "      <td>NaN</td>\n",
       "      <td>NaN</td>\n",
       "      <td>NaN</td>\n",
       "      <td>NaN</td>\n",
       "      <td>NaN</td>\n",
       "    </tr>\n",
       "  </tbody>\n",
       "</table>\n",
       "</div>"
      ],
      "text/plain": [
       "   id       date  store_nbr      family  sales  onpromotion  year  month  day  \\\n",
       "0   0 2013-01-01          1  AUTOMOTIVE    0.0            0  2013      1    1   \n",
       "1   1 2013-01-01          1   BABY CARE    0.0            0  2013      1    1   \n",
       "\n",
       "   oil_prices  transactions city state type  cluster  \n",
       "0   93.139999           NaN  NaN   NaN  NaN      NaN  \n",
       "1   93.139999           NaN  NaN   NaN  NaN      NaN  "
      ]
     },
     "execution_count": 212,
     "metadata": {},
     "output_type": "execute_result"
    }
   ],
   "source": [
    "train_tran.head(2)"
   ]
  },
  {
   "cell_type": "code",
   "execution_count": 213,
   "metadata": {},
   "outputs": [
    {
     "data": {
      "text/plain": [
       "(Timestamp('2013-01-01 00:00:00'), Timestamp('2017-08-15 00:00:00'))"
      ]
     },
     "execution_count": 213,
     "metadata": {},
     "output_type": "execute_result"
    }
   ],
   "source": [
    "# cheacking the range of date on the  train_tran\n",
    "train_tran['date'].min(),train_tran['date'].max()"
   ]
  },
  {
   "cell_type": "code",
   "execution_count": 214,
   "metadata": {},
   "outputs": [
    {
     "data": {
      "text/plain": [
       "(Timestamp('2017-08-16 00:00:00'), Timestamp('2017-08-31 00:00:00'))"
      ]
     },
     "execution_count": 214,
     "metadata": {},
     "output_type": "execute_result"
    }
   ],
   "source": [
    "# cheacking the range of date on the test_tran \n",
    "test_tran['date'].min(),test_tran['date'].max()"
   ]
  },
  {
   "cell_type": "code",
   "execution_count": 215,
   "metadata": {},
   "outputs": [
    {
     "name": "stdout",
     "output_type": "stream",
     "text": [
      "<class 'pandas.core.frame.DataFrame'>\n",
      "RangeIndex: 3000888 entries, 0 to 3000887\n",
      "Data columns (total 15 columns):\n",
      " #   Column        Dtype         \n",
      "---  ------        -----         \n",
      " 0   id            int64         \n",
      " 1   date          datetime64[ns]\n",
      " 2   store_nbr     int64         \n",
      " 3   family        object        \n",
      " 4   sales         float64       \n",
      " 5   onpromotion   int64         \n",
      " 6   year          int32         \n",
      " 7   month         int32         \n",
      " 8   day           int32         \n",
      " 9   oil_prices    float64       \n",
      " 10  transactions  float64       \n",
      " 11  city          object        \n",
      " 12  state         object        \n",
      " 13  type          object        \n",
      " 14  cluster       float64       \n",
      "dtypes: datetime64[ns](1), float64(4), int32(3), int64(3), object(4)\n",
      "memory usage: 309.1+ MB\n"
     ]
    }
   ],
   "source": [
    "train_tran.info()"
   ]
  },
  {
   "cell_type": "markdown",
   "metadata": {},
   "source": [
    "dropping some of the column at the holiday data "
   ]
  },
  {
   "cell_type": "code",
   "execution_count": 216,
   "metadata": {},
   "outputs": [
    {
     "name": "stdout",
     "output_type": "stream",
     "text": [
      "<class 'pandas.core.frame.DataFrame'>\n",
      "RangeIndex: 350 entries, 0 to 349\n",
      "Data columns (total 9 columns):\n",
      " #   Column       Non-Null Count  Dtype         \n",
      "---  ------       --------------  -----         \n",
      " 0   date         350 non-null    datetime64[ns]\n",
      " 1   type         350 non-null    object        \n",
      " 2   locale       350 non-null    object        \n",
      " 3   locale_name  350 non-null    object        \n",
      " 4   description  350 non-null    object        \n",
      " 5   transferred  350 non-null    bool          \n",
      " 6   year         350 non-null    int32         \n",
      " 7   month        350 non-null    int32         \n",
      " 8   day          350 non-null    int32         \n",
      "dtypes: bool(1), datetime64[ns](1), int32(3), object(4)\n",
      "memory usage: 18.2+ KB\n"
     ]
    }
   ],
   "source": [
    "data_holiday.info()"
   ]
  },
  {
   "cell_type": "code",
   "execution_count": 217,
   "metadata": {},
   "outputs": [],
   "source": [
    "# Drop the specified columns\n",
    "data_holiday = data_holiday.drop(['locale', 'locale_name', 'description'], axis=1)"
   ]
  },
  {
   "cell_type": "code",
   "execution_count": 218,
   "metadata": {},
   "outputs": [
    {
     "name": "stdout",
     "output_type": "stream",
     "text": [
      "<class 'pandas.core.frame.DataFrame'>\n",
      "RangeIndex: 350 entries, 0 to 349\n",
      "Data columns (total 6 columns):\n",
      " #   Column       Non-Null Count  Dtype         \n",
      "---  ------       --------------  -----         \n",
      " 0   date         350 non-null    datetime64[ns]\n",
      " 1   type         350 non-null    object        \n",
      " 2   transferred  350 non-null    bool          \n",
      " 3   year         350 non-null    int32         \n",
      " 4   month        350 non-null    int32         \n",
      " 5   day          350 non-null    int32         \n",
      "dtypes: bool(1), datetime64[ns](1), int32(3), object(1)\n",
      "memory usage: 10.0+ KB\n"
     ]
    }
   ],
   "source": [
    "data_holiday.info()"
   ]
  },
  {
   "cell_type": "code",
   "execution_count": 219,
   "metadata": {},
   "outputs": [],
   "source": [
    "# Drop duplicate rows\n",
    "data_holiday_duplicates = data_holiday.drop_duplicates()\n"
   ]
  },
  {
   "cell_type": "code",
   "execution_count": 220,
   "metadata": {},
   "outputs": [
    {
     "name": "stdout",
     "output_type": "stream",
     "text": [
      "<class 'pandas.core.frame.DataFrame'>\n",
      "Index: 330 entries, 0 to 349\n",
      "Data columns (total 6 columns):\n",
      " #   Column       Non-Null Count  Dtype         \n",
      "---  ------       --------------  -----         \n",
      " 0   date         330 non-null    datetime64[ns]\n",
      " 1   type         330 non-null    object        \n",
      " 2   transferred  330 non-null    bool          \n",
      " 3   year         330 non-null    int32         \n",
      " 4   month        330 non-null    int32         \n",
      " 5   day          330 non-null    int32         \n",
      "dtypes: bool(1), datetime64[ns](1), int32(3), object(1)\n",
      "memory usage: 11.9+ KB\n"
     ]
    }
   ],
   "source": [
    "data_holiday_duplicates.info()"
   ]
  },
  {
   "cell_type": "code",
   "execution_count": 221,
   "metadata": {},
   "outputs": [],
   "source": [
    "# Convert 'transferred' column from bool to object\n",
    "#data_holiday['transferred'] = data_holiday['transferred'].astype(str)"
   ]
  },
  {
   "cell_type": "code",
   "execution_count": 222,
   "metadata": {},
   "outputs": [
    {
     "name": "stdout",
     "output_type": "stream",
     "text": [
      "<class 'pandas.core.frame.DataFrame'>\n",
      "RangeIndex: 350 entries, 0 to 349\n",
      "Data columns (total 6 columns):\n",
      " #   Column       Non-Null Count  Dtype         \n",
      "---  ------       --------------  -----         \n",
      " 0   date         350 non-null    datetime64[ns]\n",
      " 1   type         350 non-null    object        \n",
      " 2   transferred  350 non-null    bool          \n",
      " 3   year         350 non-null    int32         \n",
      " 4   month        350 non-null    int32         \n",
      " 5   day          350 non-null    int32         \n",
      "dtypes: bool(1), datetime64[ns](1), int32(3), object(1)\n",
      "memory usage: 10.0+ KB\n"
     ]
    }
   ],
   "source": [
    "data_holiday.info()"
   ]
  },
  {
   "cell_type": "code",
   "execution_count": 223,
   "metadata": {},
   "outputs": [
    {
     "data": {
      "text/html": [
       "<div>\n",
       "<style scoped>\n",
       "    .dataframe tbody tr th:only-of-type {\n",
       "        vertical-align: middle;\n",
       "    }\n",
       "\n",
       "    .dataframe tbody tr th {\n",
       "        vertical-align: top;\n",
       "    }\n",
       "\n",
       "    .dataframe thead th {\n",
       "        text-align: right;\n",
       "    }\n",
       "</style>\n",
       "<table border=\"1\" class=\"dataframe\">\n",
       "  <thead>\n",
       "    <tr style=\"text-align: right;\">\n",
       "      <th></th>\n",
       "      <th>date</th>\n",
       "      <th>type</th>\n",
       "      <th>transferred</th>\n",
       "      <th>year</th>\n",
       "      <th>month</th>\n",
       "      <th>day</th>\n",
       "    </tr>\n",
       "  </thead>\n",
       "  <tbody>\n",
       "    <tr>\n",
       "      <th>0</th>\n",
       "      <td>2012-03-02</td>\n",
       "      <td>Holiday</td>\n",
       "      <td>False</td>\n",
       "      <td>2012</td>\n",
       "      <td>3</td>\n",
       "      <td>2</td>\n",
       "    </tr>\n",
       "    <tr>\n",
       "      <th>1</th>\n",
       "      <td>2012-04-01</td>\n",
       "      <td>Holiday</td>\n",
       "      <td>False</td>\n",
       "      <td>2012</td>\n",
       "      <td>4</td>\n",
       "      <td>1</td>\n",
       "    </tr>\n",
       "    <tr>\n",
       "      <th>2</th>\n",
       "      <td>2012-04-12</td>\n",
       "      <td>Holiday</td>\n",
       "      <td>False</td>\n",
       "      <td>2012</td>\n",
       "      <td>4</td>\n",
       "      <td>12</td>\n",
       "    </tr>\n",
       "    <tr>\n",
       "      <th>3</th>\n",
       "      <td>2012-04-14</td>\n",
       "      <td>Holiday</td>\n",
       "      <td>False</td>\n",
       "      <td>2012</td>\n",
       "      <td>4</td>\n",
       "      <td>14</td>\n",
       "    </tr>\n",
       "    <tr>\n",
       "      <th>4</th>\n",
       "      <td>2012-04-21</td>\n",
       "      <td>Holiday</td>\n",
       "      <td>False</td>\n",
       "      <td>2012</td>\n",
       "      <td>4</td>\n",
       "      <td>21</td>\n",
       "    </tr>\n",
       "    <tr>\n",
       "      <th>5</th>\n",
       "      <td>2012-05-12</td>\n",
       "      <td>Holiday</td>\n",
       "      <td>False</td>\n",
       "      <td>2012</td>\n",
       "      <td>5</td>\n",
       "      <td>12</td>\n",
       "    </tr>\n",
       "    <tr>\n",
       "      <th>6</th>\n",
       "      <td>2012-06-23</td>\n",
       "      <td>Holiday</td>\n",
       "      <td>False</td>\n",
       "      <td>2012</td>\n",
       "      <td>6</td>\n",
       "      <td>23</td>\n",
       "    </tr>\n",
       "    <tr>\n",
       "      <th>7</th>\n",
       "      <td>2012-06-25</td>\n",
       "      <td>Holiday</td>\n",
       "      <td>False</td>\n",
       "      <td>2012</td>\n",
       "      <td>6</td>\n",
       "      <td>25</td>\n",
       "    </tr>\n",
       "    <tr>\n",
       "      <th>10</th>\n",
       "      <td>2012-07-03</td>\n",
       "      <td>Holiday</td>\n",
       "      <td>False</td>\n",
       "      <td>2012</td>\n",
       "      <td>7</td>\n",
       "      <td>3</td>\n",
       "    </tr>\n",
       "    <tr>\n",
       "      <th>12</th>\n",
       "      <td>2012-07-23</td>\n",
       "      <td>Holiday</td>\n",
       "      <td>False</td>\n",
       "      <td>2012</td>\n",
       "      <td>7</td>\n",
       "      <td>23</td>\n",
       "    </tr>\n",
       "    <tr>\n",
       "      <th>13</th>\n",
       "      <td>2012-08-05</td>\n",
       "      <td>Holiday</td>\n",
       "      <td>False</td>\n",
       "      <td>2012</td>\n",
       "      <td>8</td>\n",
       "      <td>5</td>\n",
       "    </tr>\n",
       "    <tr>\n",
       "      <th>14</th>\n",
       "      <td>2012-08-10</td>\n",
       "      <td>Holiday</td>\n",
       "      <td>False</td>\n",
       "      <td>2012</td>\n",
       "      <td>8</td>\n",
       "      <td>10</td>\n",
       "    </tr>\n",
       "    <tr>\n",
       "      <th>15</th>\n",
       "      <td>2012-08-15</td>\n",
       "      <td>Holiday</td>\n",
       "      <td>False</td>\n",
       "      <td>2012</td>\n",
       "      <td>8</td>\n",
       "      <td>15</td>\n",
       "    </tr>\n",
       "    <tr>\n",
       "      <th>16</th>\n",
       "      <td>2012-08-24</td>\n",
       "      <td>Holiday</td>\n",
       "      <td>False</td>\n",
       "      <td>2012</td>\n",
       "      <td>8</td>\n",
       "      <td>24</td>\n",
       "    </tr>\n",
       "    <tr>\n",
       "      <th>17</th>\n",
       "      <td>2012-09-28</td>\n",
       "      <td>Holiday</td>\n",
       "      <td>False</td>\n",
       "      <td>2012</td>\n",
       "      <td>9</td>\n",
       "      <td>28</td>\n",
       "    </tr>\n",
       "    <tr>\n",
       "      <th>18</th>\n",
       "      <td>2012-10-07</td>\n",
       "      <td>Holiday</td>\n",
       "      <td>False</td>\n",
       "      <td>2012</td>\n",
       "      <td>10</td>\n",
       "      <td>7</td>\n",
       "    </tr>\n",
       "    <tr>\n",
       "      <th>19</th>\n",
       "      <td>2012-10-09</td>\n",
       "      <td>Holiday</td>\n",
       "      <td>True</td>\n",
       "      <td>2012</td>\n",
       "      <td>10</td>\n",
       "      <td>9</td>\n",
       "    </tr>\n",
       "    <tr>\n",
       "      <th>20</th>\n",
       "      <td>2012-10-12</td>\n",
       "      <td>Transfer</td>\n",
       "      <td>False</td>\n",
       "      <td>2012</td>\n",
       "      <td>10</td>\n",
       "      <td>12</td>\n",
       "    </tr>\n",
       "    <tr>\n",
       "      <th>21</th>\n",
       "      <td>2012-11-02</td>\n",
       "      <td>Holiday</td>\n",
       "      <td>False</td>\n",
       "      <td>2012</td>\n",
       "      <td>11</td>\n",
       "      <td>2</td>\n",
       "    </tr>\n",
       "    <tr>\n",
       "      <th>22</th>\n",
       "      <td>2012-11-03</td>\n",
       "      <td>Holiday</td>\n",
       "      <td>False</td>\n",
       "      <td>2012</td>\n",
       "      <td>11</td>\n",
       "      <td>3</td>\n",
       "    </tr>\n",
       "  </tbody>\n",
       "</table>\n",
       "</div>"
      ],
      "text/plain": [
       "         date      type  transferred  year  month  day\n",
       "0  2012-03-02   Holiday        False  2012      3    2\n",
       "1  2012-04-01   Holiday        False  2012      4    1\n",
       "2  2012-04-12   Holiday        False  2012      4   12\n",
       "3  2012-04-14   Holiday        False  2012      4   14\n",
       "4  2012-04-21   Holiday        False  2012      4   21\n",
       "5  2012-05-12   Holiday        False  2012      5   12\n",
       "6  2012-06-23   Holiday        False  2012      6   23\n",
       "7  2012-06-25   Holiday        False  2012      6   25\n",
       "10 2012-07-03   Holiday        False  2012      7    3\n",
       "12 2012-07-23   Holiday        False  2012      7   23\n",
       "13 2012-08-05   Holiday        False  2012      8    5\n",
       "14 2012-08-10   Holiday        False  2012      8   10\n",
       "15 2012-08-15   Holiday        False  2012      8   15\n",
       "16 2012-08-24   Holiday        False  2012      8   24\n",
       "17 2012-09-28   Holiday        False  2012      9   28\n",
       "18 2012-10-07   Holiday        False  2012     10    7\n",
       "19 2012-10-09   Holiday         True  2012     10    9\n",
       "20 2012-10-12  Transfer        False  2012     10   12\n",
       "21 2012-11-02   Holiday        False  2012     11    2\n",
       "22 2012-11-03   Holiday        False  2012     11    3"
      ]
     },
     "execution_count": 223,
     "metadata": {},
     "output_type": "execute_result"
    }
   ],
   "source": [
    "data_holiday_duplicates.head(20)"
   ]
  },
  {
   "cell_type": "code",
   "execution_count": 224,
   "metadata": {},
   "outputs": [
    {
     "data": {
      "text/plain": [
       "(Timestamp('2012-03-02 00:00:00'), Timestamp('2017-12-26 00:00:00'))"
      ]
     },
     "execution_count": 224,
     "metadata": {},
     "output_type": "execute_result"
    }
   ],
   "source": [
    "# cheacking the range of date on the test_tran \n",
    "data_holiday_duplicates['date'].min(),data_holiday_duplicates['date'].max()"
   ]
  },
  {
   "cell_type": "code",
   "execution_count": 225,
   "metadata": {},
   "outputs": [
    {
     "name": "stdout",
     "output_type": "stream",
     "text": [
      "(Timestamp('2013-01-01 00:00:00'), Timestamp('2017-08-15 00:00:00'))\n",
      "(Timestamp('2017-08-24 00:00:00'), Timestamp('2017-08-24 00:00:00'))\n"
     ]
    }
   ],
   "source": [
    "#Define date ranges as datetime objects\n",
    "data_holiday_duplicates_test_start_date = pd.to_datetime('2017-08-16')\n",
    "data_holiday_duplicates_test_end_date = pd.to_datetime('2017-08-31')\n",
    "\n",
    "data_holiday_duplicates_train_start_date = pd.to_datetime('2013-01-01')\n",
    "data_holiday_duplicates_train_end_date = pd.to_datetime('2017-08-15')\n",
    "\n",
    "# Assuming you have a DataFrame called data_holiday_duplicates\n",
    "train_holiday = data_holiday_duplicates[data_holiday_duplicates['date'].between(data_holiday_duplicates_train_start_date, data_holiday_duplicates_train_end_date)]\n",
    "test_holiday = data_holiday_duplicates[data_holiday_duplicates['date'].between(data_holiday_duplicates_test_start_date, data_holiday_duplicates_test_end_date)]\n",
    "\n",
    "# Verify the split\n",
    "range_train_holiday = (train_holiday['date'].min(), train_holiday['date'].max())\n",
    "range_test_holiday = (test_holiday['date'].min(), test_holiday['date'].max())\n",
    "\n",
    "print(range_train_holiday)\n",
    "print(range_test_holiday)"
   ]
  },
  {
   "cell_type": "code",
   "execution_count": 226,
   "metadata": {},
   "outputs": [
    {
     "name": "stdout",
     "output_type": "stream",
     "text": [
      "<class 'pandas.core.frame.DataFrame'>\n",
      "Index: 269 entries, 41 to 326\n",
      "Data columns (total 6 columns):\n",
      " #   Column       Non-Null Count  Dtype         \n",
      "---  ------       --------------  -----         \n",
      " 0   date         269 non-null    datetime64[ns]\n",
      " 1   type         269 non-null    object        \n",
      " 2   transferred  269 non-null    bool          \n",
      " 3   year         269 non-null    int32         \n",
      " 4   month        269 non-null    int32         \n",
      " 5   day          269 non-null    int32         \n",
      "dtypes: bool(1), datetime64[ns](1), int32(3), object(1)\n",
      "memory usage: 9.7+ KB\n"
     ]
    }
   ],
   "source": [
    "train_holiday.info()"
   ]
  },
  {
   "cell_type": "code",
   "execution_count": 227,
   "metadata": {},
   "outputs": [],
   "source": [
    "\n",
    "# Now we can merge the train and test data_holiday data with the respective train and test datasets\n",
    "train = train_tran.merge(train_holiday, on=['date', 'year', 'month', 'day'], how='left')\n",
    "test = test_tran.merge(test_holiday, on=['date', 'year', 'month', 'day'], how='left')\n",
    "\n",
    "\n",
    "# Rename the 'type_x' and 'type_y' columns to 'type'\n",
    "#train.rename(columns={'type_x': 'type'}, inplace=True)\n",
    "#test.rename(columns={'type_y': 'type'}, inplace=True)\n",
    "\n"
   ]
  },
  {
   "cell_type": "code",
   "execution_count": 228,
   "metadata": {},
   "outputs": [
    {
     "name": "stdout",
     "output_type": "stream",
     "text": [
      "<class 'pandas.core.frame.DataFrame'>\n",
      "RangeIndex: 3024054 entries, 0 to 3024053\n",
      "Data columns (total 17 columns):\n",
      " #   Column        Dtype         \n",
      "---  ------        -----         \n",
      " 0   id            int64         \n",
      " 1   date          datetime64[ns]\n",
      " 2   store_nbr     int64         \n",
      " 3   family        object        \n",
      " 4   sales         float64       \n",
      " 5   onpromotion   int64         \n",
      " 6   year          int32         \n",
      " 7   month         int32         \n",
      " 8   day           int32         \n",
      " 9   oil_prices    float64       \n",
      " 10  transactions  float64       \n",
      " 11  city          object        \n",
      " 12  state         object        \n",
      " 13  type_x        object        \n",
      " 14  cluster       float64       \n",
      " 15  type_y        object        \n",
      " 16  transferred   object        \n",
      "dtypes: datetime64[ns](1), float64(4), int32(3), int64(3), object(6)\n",
      "memory usage: 357.6+ MB\n"
     ]
    }
   ],
   "source": [
    "train.info()"
   ]
  },
  {
   "cell_type": "code",
   "execution_count": 229,
   "metadata": {},
   "outputs": [
    {
     "name": "stdout",
     "output_type": "stream",
     "text": [
      "Unique values in 'type_x' column: [nan 'D' 'C' 'B' 'E' 'A']\n",
      "Unique values in 'type_y' column: ['Holiday' nan 'Work Day' 'Additional' 'Event' 'Transfer' 'Bridge']\n",
      "Unique values in 'transferred' column: [False nan True]\n"
     ]
    }
   ],
   "source": [
    "# Check unique values of 'type' column\n",
    "unique_types = train['type_x'].unique()\n",
    "print(\"Unique values in 'type_x' column:\", unique_types)\n",
    "\n",
    "# Check unique values of 'type_y' column\n",
    "unique_types_y = train['type_y'].unique()\n",
    "print(\"Unique values in 'type_y' column:\", unique_types_y)\n",
    "\n",
    "unique_transferred = train['transferred'].unique()\n",
    "print(\"Unique values in 'transferred' column:\", unique_transferred)\n"
   ]
  },
  {
   "cell_type": "code",
   "execution_count": 230,
   "metadata": {},
   "outputs": [],
   "source": [
    "#drooping the type_x column \n",
    "train = train.drop('type_x', axis=1)\n",
    "test = test.drop('type_y',axis=1)"
   ]
  },
  {
   "cell_type": "code",
   "execution_count": 231,
   "metadata": {},
   "outputs": [
    {
     "name": "stdout",
     "output_type": "stream",
     "text": [
      "   id       date  store_nbr      family  sales  onpromotion  year  month  day  \\\n",
      "0   0 2013-01-01          1  AUTOMOTIVE    0.0            0  2013      1    1   \n",
      "1   1 2013-01-01          1   BABY CARE    0.0            0  2013      1    1   \n",
      "2   2 2013-01-01          1      BEAUTY    0.0            0  2013      1    1   \n",
      "3   3 2013-01-01          1   BEVERAGES    0.0            0  2013      1    1   \n",
      "4   4 2013-01-01          1       BOOKS    0.0            0  2013      1    1   \n",
      "\n",
      "   oil_prices  transactions city state  cluster     type transferred  \n",
      "0   93.139999           NaN  NaN   NaN      NaN  Holiday       False  \n",
      "1   93.139999           NaN  NaN   NaN      NaN  Holiday       False  \n",
      "2   93.139999           NaN  NaN   NaN      NaN  Holiday       False  \n",
      "3   93.139999           NaN  NaN   NaN      NaN  Holiday       False  \n",
      "4   93.139999           NaN  NaN   NaN      NaN  Holiday       False  \n"
     ]
    }
   ],
   "source": [
    "# rename the type_x and type_y in both the train and test column \n",
    "# Rename the 'type_x' and 'type_y' columns to 'type' in the train\n",
    "train.rename(columns={'type_y': 'type'}, inplace=True)\n",
    "\n",
    "# Print the updated DataFrame to verify the column names\n",
    "print(train.head())"
   ]
  },
  {
   "cell_type": "code",
   "execution_count": 232,
   "metadata": {},
   "outputs": [
    {
     "name": "stdout",
     "output_type": "stream",
     "text": [
      "        id       date  store_nbr      family  onpromotion  year  month  day  \\\n",
      "0  3000888 2017-08-16          1  AUTOMOTIVE            0  2017      8   16   \n",
      "1  3000889 2017-08-16          1   BABY CARE            0  2017      8   16   \n",
      "2  3000890 2017-08-16          1      BEAUTY            2  2017      8   16   \n",
      "3  3000891 2017-08-16          1   BEVERAGES           20  2017      8   16   \n",
      "4  3000892 2017-08-16          1       BOOKS            0  2017      8   16   \n",
      "\n",
      "   oil_prices  transactions city state type  cluster transferred  \n",
      "0   46.799999           NaN  NaN   NaN  NaN      NaN         NaN  \n",
      "1   46.799999           NaN  NaN   NaN  NaN      NaN         NaN  \n",
      "2   46.799999           NaN  NaN   NaN  NaN      NaN         NaN  \n",
      "3   46.799999           NaN  NaN   NaN  NaN      NaN         NaN  \n",
      "4   46.799999           NaN  NaN   NaN  NaN      NaN         NaN  \n"
     ]
    }
   ],
   "source": [
    "# Rename the 'type_x' and 'type_y' columns to 'type'\n",
    "test.rename(columns={'type_x': 'type'}, inplace=True)\n",
    "\n",
    "# Print the updated DataFrame to verify the column names\n",
    "print(test.head())"
   ]
  },
  {
   "cell_type": "code",
   "execution_count": 233,
   "metadata": {},
   "outputs": [
    {
     "data": {
      "text/plain": [
       "(Timestamp('2013-01-01 00:00:00'), Timestamp('2017-08-15 00:00:00'))"
      ]
     },
     "execution_count": 233,
     "metadata": {},
     "output_type": "execute_result"
    }
   ],
   "source": [
    "# cheacking the range of date on the train\n",
    "train['date'].min(),train['date'].max()"
   ]
  },
  {
   "cell_type": "code",
   "execution_count": 234,
   "metadata": {},
   "outputs": [
    {
     "data": {
      "text/html": [
       "<div>\n",
       "<style scoped>\n",
       "    .dataframe tbody tr th:only-of-type {\n",
       "        vertical-align: middle;\n",
       "    }\n",
       "\n",
       "    .dataframe tbody tr th {\n",
       "        vertical-align: top;\n",
       "    }\n",
       "\n",
       "    .dataframe thead th {\n",
       "        text-align: right;\n",
       "    }\n",
       "</style>\n",
       "<table border=\"1\" class=\"dataframe\">\n",
       "  <thead>\n",
       "    <tr style=\"text-align: right;\">\n",
       "      <th></th>\n",
       "      <th>id</th>\n",
       "      <th>date</th>\n",
       "      <th>store_nbr</th>\n",
       "      <th>family</th>\n",
       "      <th>sales</th>\n",
       "      <th>onpromotion</th>\n",
       "      <th>year</th>\n",
       "      <th>month</th>\n",
       "      <th>day</th>\n",
       "      <th>oil_prices</th>\n",
       "      <th>transactions</th>\n",
       "      <th>city</th>\n",
       "      <th>state</th>\n",
       "      <th>cluster</th>\n",
       "      <th>type</th>\n",
       "      <th>transferred</th>\n",
       "    </tr>\n",
       "  </thead>\n",
       "  <tbody>\n",
       "    <tr>\n",
       "      <th>0</th>\n",
       "      <td>0</td>\n",
       "      <td>2013-01-01</td>\n",
       "      <td>1</td>\n",
       "      <td>AUTOMOTIVE</td>\n",
       "      <td>0.0</td>\n",
       "      <td>0</td>\n",
       "      <td>2013</td>\n",
       "      <td>1</td>\n",
       "      <td>1</td>\n",
       "      <td>93.139999</td>\n",
       "      <td>NaN</td>\n",
       "      <td>NaN</td>\n",
       "      <td>NaN</td>\n",
       "      <td>NaN</td>\n",
       "      <td>Holiday</td>\n",
       "      <td>False</td>\n",
       "    </tr>\n",
       "    <tr>\n",
       "      <th>1</th>\n",
       "      <td>1</td>\n",
       "      <td>2013-01-01</td>\n",
       "      <td>1</td>\n",
       "      <td>BABY CARE</td>\n",
       "      <td>0.0</td>\n",
       "      <td>0</td>\n",
       "      <td>2013</td>\n",
       "      <td>1</td>\n",
       "      <td>1</td>\n",
       "      <td>93.139999</td>\n",
       "      <td>NaN</td>\n",
       "      <td>NaN</td>\n",
       "      <td>NaN</td>\n",
       "      <td>NaN</td>\n",
       "      <td>Holiday</td>\n",
       "      <td>False</td>\n",
       "    </tr>\n",
       "  </tbody>\n",
       "</table>\n",
       "</div>"
      ],
      "text/plain": [
       "   id       date  store_nbr      family  sales  onpromotion  year  month  day  \\\n",
       "0   0 2013-01-01          1  AUTOMOTIVE    0.0            0  2013      1    1   \n",
       "1   1 2013-01-01          1   BABY CARE    0.0            0  2013      1    1   \n",
       "\n",
       "   oil_prices  transactions city state  cluster     type transferred  \n",
       "0   93.139999           NaN  NaN   NaN      NaN  Holiday       False  \n",
       "1   93.139999           NaN  NaN   NaN      NaN  Holiday       False  "
      ]
     },
     "execution_count": 234,
     "metadata": {},
     "output_type": "execute_result"
    }
   ],
   "source": [
    "train.head(2)"
   ]
  },
  {
   "cell_type": "code",
   "execution_count": 235,
   "metadata": {},
   "outputs": [
    {
     "name": "stdout",
     "output_type": "stream",
     "text": [
      "<class 'pandas.core.frame.DataFrame'>\n",
      "RangeIndex: 3024054 entries, 0 to 3024053\n",
      "Data columns (total 16 columns):\n",
      " #   Column        Dtype         \n",
      "---  ------        -----         \n",
      " 0   id            int64         \n",
      " 1   date          datetime64[ns]\n",
      " 2   store_nbr     int64         \n",
      " 3   family        object        \n",
      " 4   sales         float64       \n",
      " 5   onpromotion   int64         \n",
      " 6   year          int32         \n",
      " 7   month         int32         \n",
      " 8   day           int32         \n",
      " 9   oil_prices    float64       \n",
      " 10  transactions  float64       \n",
      " 11  city          object        \n",
      " 12  state         object        \n",
      " 13  cluster       float64       \n",
      " 14  type          object        \n",
      " 15  transferred   object        \n",
      "dtypes: datetime64[ns](1), float64(4), int32(3), int64(3), object(5)\n",
      "memory usage: 334.5+ MB\n"
     ]
    }
   ],
   "source": [
    "train.info()"
   ]
  },
  {
   "cell_type": "code",
   "execution_count": 236,
   "metadata": {},
   "outputs": [
    {
     "data": {
      "text/plain": [
       "(3024054, 16)"
      ]
     },
     "execution_count": 236,
     "metadata": {},
     "output_type": "execute_result"
    }
   ],
   "source": [
    "train.shape"
   ]
  },
  {
   "cell_type": "code",
   "execution_count": 237,
   "metadata": {},
   "outputs": [
    {
     "name": "stdout",
     "output_type": "stream",
     "text": [
      "<class 'pandas.core.frame.DataFrame'>\n",
      "RangeIndex: 28512 entries, 0 to 28511\n",
      "Data columns (total 15 columns):\n",
      " #   Column        Non-Null Count  Dtype         \n",
      "---  ------        --------------  -----         \n",
      " 0   id            28512 non-null  int64         \n",
      " 1   date          28512 non-null  datetime64[ns]\n",
      " 2   store_nbr     28512 non-null  int64         \n",
      " 3   family        28512 non-null  object        \n",
      " 4   onpromotion   28512 non-null  int64         \n",
      " 5   year          28512 non-null  int32         \n",
      " 6   month         28512 non-null  int32         \n",
      " 7   day           28512 non-null  int32         \n",
      " 8   oil_prices    21384 non-null  float64       \n",
      " 9   transactions  0 non-null      float64       \n",
      " 10  city          0 non-null      object        \n",
      " 11  state         0 non-null      object        \n",
      " 12  type          0 non-null      object        \n",
      " 13  cluster       0 non-null      float64       \n",
      " 14  transferred   1782 non-null   object        \n",
      "dtypes: datetime64[ns](1), float64(3), int32(3), int64(3), object(5)\n",
      "memory usage: 2.9+ MB\n"
     ]
    }
   ],
   "source": [
    "test.info()"
   ]
  },
  {
   "cell_type": "code",
   "execution_count": 238,
   "metadata": {},
   "outputs": [
    {
     "data": {
      "text/plain": [
       "(28512, 15)"
      ]
     },
     "execution_count": 238,
     "metadata": {},
     "output_type": "execute_result"
    }
   ],
   "source": [
    "test.shape"
   ]
  },
  {
   "cell_type": "code",
   "execution_count": 239,
   "metadata": {},
   "outputs": [],
   "source": [
    "#drooping the id column \n",
    "train = train.drop('id', axis=1)\n",
    "test = test.drop('id',axis=1)"
   ]
  },
  {
   "cell_type": "code",
   "execution_count": 240,
   "metadata": {},
   "outputs": [],
   "source": [
    "#dropping the cluster column \n",
    "train = train.drop('cluster',axis=1)\n",
    "test = test.drop('cluster',axis=1)"
   ]
  },
  {
   "cell_type": "code",
   "execution_count": 241,
   "metadata": {},
   "outputs": [
    {
     "data": {
      "text/plain": [
       "(28512, 13)"
      ]
     },
     "execution_count": 241,
     "metadata": {},
     "output_type": "execute_result"
    }
   ],
   "source": [
    "test.shape"
   ]
  },
  {
   "cell_type": "code",
   "execution_count": 242,
   "metadata": {},
   "outputs": [
    {
     "data": {
      "text/plain": [
       "(3024054, 14)"
      ]
     },
     "execution_count": 242,
     "metadata": {},
     "output_type": "execute_result"
    }
   ],
   "source": [
    "train.shape"
   ]
  },
  {
   "cell_type": "markdown",
   "metadata": {},
   "source": [
    "## imputing the missing values in the train and test data "
   ]
  },
  {
   "cell_type": "code",
   "execution_count": 243,
   "metadata": {},
   "outputs": [
    {
     "data": {
      "text/plain": [
       "date                  0\n",
       "store_nbr             0\n",
       "family                0\n",
       "sales                 0\n",
       "onpromotion           0\n",
       "year                  0\n",
       "month                 0\n",
       "day                   0\n",
       "oil_prices       867834\n",
       "transactions     247170\n",
       "city             247170\n",
       "state            247170\n",
       "type            2551824\n",
       "transferred     2551824\n",
       "dtype: int64"
      ]
     },
     "execution_count": 243,
     "metadata": {},
     "output_type": "execute_result"
    }
   ],
   "source": [
    "train.isnull().sum()"
   ]
  },
  {
   "cell_type": "code",
   "execution_count": 245,
   "metadata": {},
   "outputs": [
    {
     "name": "stdout",
     "output_type": "stream",
     "text": [
      "        date  store_nbr      family  sales  onpromotion  year  month  day  \\\n",
      "0 2013-01-01          1  AUTOMOTIVE    0.0            0  2013      1    1   \n",
      "1 2013-01-01          1   BABY CARE    0.0            0  2013      1    1   \n",
      "2 2013-01-01          1      BEAUTY    0.0            0  2013      1    1   \n",
      "3 2013-01-01          1   BEVERAGES    0.0            0  2013      1    1   \n",
      "4 2013-01-01          1       BOOKS    0.0            0  2013      1    1   \n",
      "\n",
      "   oil_prices  transactions     city        state     type  transferred  \n",
      "0   93.139999         770.0  Salinas  Santa Elena  Holiday        False  \n",
      "1   93.139999         770.0  Salinas  Santa Elena  Holiday        False  \n",
      "2   93.139999         770.0  Salinas  Santa Elena  Holiday        False  \n",
      "3   93.139999         770.0  Salinas  Santa Elena  Holiday        False  \n",
      "4   93.139999         770.0  Salinas  Santa Elena  Holiday        False  \n"
     ]
    }
   ],
   "source": [
    "#imputing the missing value \n",
    "train['oil_prices'].fillna(method='bfill', inplace=True)\n",
    "train['transactions'].fillna(method='bfill', inplace=True)\n",
    "train['city'].fillna(method='bfill', inplace=True)\n",
    "train['state'].fillna(method='bfill', inplace=True)\n",
    "train['type'].fillna(method='bfill', inplace=True)\n",
    "train['transferred'].fillna(method='bfill', inplace=True)\n",
    "\n",
    "\n",
    "# Print the updated DataFrame\n",
    "print(train.head())"
   ]
  },
  {
   "cell_type": "code",
   "execution_count": 246,
   "metadata": {},
   "outputs": [
    {
     "data": {
      "text/plain": [
       "date            0\n",
       "store_nbr       0\n",
       "family          0\n",
       "sales           0\n",
       "onpromotion     0\n",
       "year            0\n",
       "month           0\n",
       "day             0\n",
       "oil_prices      0\n",
       "transactions    0\n",
       "city            0\n",
       "state           0\n",
       "type            0\n",
       "transferred     0\n",
       "dtype: int64"
      ]
     },
     "execution_count": 246,
     "metadata": {},
     "output_type": "execute_result"
    }
   ],
   "source": [
    "train.isnull().sum()"
   ]
  },
  {
   "cell_type": "code",
   "execution_count": 247,
   "metadata": {},
   "outputs": [
    {
     "name": "stdout",
     "output_type": "stream",
     "text": [
      "                    Column  Missing Percentage\n",
      "date                  date                 0.0\n",
      "store_nbr        store_nbr                 0.0\n",
      "family              family                 0.0\n",
      "sales                sales                 0.0\n",
      "onpromotion    onpromotion                 0.0\n",
      "year                  year                 0.0\n",
      "month                month                 0.0\n",
      "day                    day                 0.0\n",
      "oil_prices      oil_prices                 0.0\n",
      "transactions  transactions                 0.0\n",
      "city                  city                 0.0\n",
      "state                state                 0.0\n",
      "type                  type                 0.0\n",
      "transferred    transferred                 0.0\n"
     ]
    }
   ],
   "source": [
    "# Summary Statistics: Calculate percentage of missing values for each column\n",
    "missing_percentage = (train.isnull().sum() / len(train)) * 100\n",
    "missing_info = pd.DataFrame({'Column': train.columns, 'Missing Percentage': missing_percentage})\n",
    "missing_info = missing_info.sort_values(by='Missing Percentage', ascending=False)\n",
    "print(missing_info)"
   ]
  },
  {
   "cell_type": "code",
   "execution_count": 248,
   "metadata": {},
   "outputs": [
    {
     "data": {
      "text/html": [
       "<div>\n",
       "<style scoped>\n",
       "    .dataframe tbody tr th:only-of-type {\n",
       "        vertical-align: middle;\n",
       "    }\n",
       "\n",
       "    .dataframe tbody tr th {\n",
       "        vertical-align: top;\n",
       "    }\n",
       "\n",
       "    .dataframe thead th {\n",
       "        text-align: right;\n",
       "    }\n",
       "</style>\n",
       "<table border=\"1\" class=\"dataframe\">\n",
       "  <thead>\n",
       "    <tr style=\"text-align: right;\">\n",
       "      <th></th>\n",
       "      <th>date</th>\n",
       "      <th>store_nbr</th>\n",
       "      <th>family</th>\n",
       "      <th>onpromotion</th>\n",
       "      <th>year</th>\n",
       "      <th>month</th>\n",
       "      <th>day</th>\n",
       "      <th>oil_prices</th>\n",
       "      <th>transactions</th>\n",
       "      <th>city</th>\n",
       "      <th>state</th>\n",
       "      <th>type</th>\n",
       "      <th>transferred</th>\n",
       "    </tr>\n",
       "  </thead>\n",
       "  <tbody>\n",
       "    <tr>\n",
       "      <th>0</th>\n",
       "      <td>2017-08-16</td>\n",
       "      <td>1</td>\n",
       "      <td>AUTOMOTIVE</td>\n",
       "      <td>0</td>\n",
       "      <td>2017</td>\n",
       "      <td>8</td>\n",
       "      <td>16</td>\n",
       "      <td>46.799999</td>\n",
       "      <td>NaN</td>\n",
       "      <td>NaN</td>\n",
       "      <td>NaN</td>\n",
       "      <td>NaN</td>\n",
       "      <td>NaN</td>\n",
       "    </tr>\n",
       "    <tr>\n",
       "      <th>1</th>\n",
       "      <td>2017-08-16</td>\n",
       "      <td>1</td>\n",
       "      <td>BABY CARE</td>\n",
       "      <td>0</td>\n",
       "      <td>2017</td>\n",
       "      <td>8</td>\n",
       "      <td>16</td>\n",
       "      <td>46.799999</td>\n",
       "      <td>NaN</td>\n",
       "      <td>NaN</td>\n",
       "      <td>NaN</td>\n",
       "      <td>NaN</td>\n",
       "      <td>NaN</td>\n",
       "    </tr>\n",
       "    <tr>\n",
       "      <th>2</th>\n",
       "      <td>2017-08-16</td>\n",
       "      <td>1</td>\n",
       "      <td>BEAUTY</td>\n",
       "      <td>2</td>\n",
       "      <td>2017</td>\n",
       "      <td>8</td>\n",
       "      <td>16</td>\n",
       "      <td>46.799999</td>\n",
       "      <td>NaN</td>\n",
       "      <td>NaN</td>\n",
       "      <td>NaN</td>\n",
       "      <td>NaN</td>\n",
       "      <td>NaN</td>\n",
       "    </tr>\n",
       "    <tr>\n",
       "      <th>3</th>\n",
       "      <td>2017-08-16</td>\n",
       "      <td>1</td>\n",
       "      <td>BEVERAGES</td>\n",
       "      <td>20</td>\n",
       "      <td>2017</td>\n",
       "      <td>8</td>\n",
       "      <td>16</td>\n",
       "      <td>46.799999</td>\n",
       "      <td>NaN</td>\n",
       "      <td>NaN</td>\n",
       "      <td>NaN</td>\n",
       "      <td>NaN</td>\n",
       "      <td>NaN</td>\n",
       "    </tr>\n",
       "    <tr>\n",
       "      <th>4</th>\n",
       "      <td>2017-08-16</td>\n",
       "      <td>1</td>\n",
       "      <td>BOOKS</td>\n",
       "      <td>0</td>\n",
       "      <td>2017</td>\n",
       "      <td>8</td>\n",
       "      <td>16</td>\n",
       "      <td>46.799999</td>\n",
       "      <td>NaN</td>\n",
       "      <td>NaN</td>\n",
       "      <td>NaN</td>\n",
       "      <td>NaN</td>\n",
       "      <td>NaN</td>\n",
       "    </tr>\n",
       "  </tbody>\n",
       "</table>\n",
       "</div>"
      ],
      "text/plain": [
       "        date  store_nbr      family  onpromotion  year  month  day  \\\n",
       "0 2017-08-16          1  AUTOMOTIVE            0  2017      8   16   \n",
       "1 2017-08-16          1   BABY CARE            0  2017      8   16   \n",
       "2 2017-08-16          1      BEAUTY            2  2017      8   16   \n",
       "3 2017-08-16          1   BEVERAGES           20  2017      8   16   \n",
       "4 2017-08-16          1       BOOKS            0  2017      8   16   \n",
       "\n",
       "   oil_prices  transactions city state type transferred  \n",
       "0   46.799999           NaN  NaN   NaN  NaN         NaN  \n",
       "1   46.799999           NaN  NaN   NaN  NaN         NaN  \n",
       "2   46.799999           NaN  NaN   NaN  NaN         NaN  \n",
       "3   46.799999           NaN  NaN   NaN  NaN         NaN  \n",
       "4   46.799999           NaN  NaN   NaN  NaN         NaN  "
      ]
     },
     "execution_count": 248,
     "metadata": {},
     "output_type": "execute_result"
    }
   ],
   "source": [
    "test.head(5)"
   ]
  },
  {
   "cell_type": "code",
   "execution_count": 249,
   "metadata": {},
   "outputs": [
    {
     "data": {
      "text/plain": [
       "date                0\n",
       "store_nbr           0\n",
       "family              0\n",
       "onpromotion         0\n",
       "year                0\n",
       "month               0\n",
       "day                 0\n",
       "oil_prices       7128\n",
       "transactions    28512\n",
       "city            28512\n",
       "state           28512\n",
       "type            28512\n",
       "transferred     26730\n",
       "dtype: int64"
      ]
     },
     "execution_count": 249,
     "metadata": {},
     "output_type": "execute_result"
    }
   ],
   "source": [
    "test.isnull().sum()"
   ]
  },
  {
   "cell_type": "code",
   "execution_count": 250,
   "metadata": {},
   "outputs": [
    {
     "name": "stdout",
     "output_type": "stream",
     "text": [
      "                    Column  Missing Percentage\n",
      "transactions  transactions              100.00\n",
      "city                  city              100.00\n",
      "state                state              100.00\n",
      "type                  type              100.00\n",
      "transferred    transferred               93.75\n",
      "oil_prices      oil_prices               25.00\n",
      "date                  date                0.00\n",
      "store_nbr        store_nbr                0.00\n",
      "family              family                0.00\n",
      "onpromotion    onpromotion                0.00\n",
      "year                  year                0.00\n",
      "month                month                0.00\n",
      "day                    day                0.00\n"
     ]
    }
   ],
   "source": [
    "# Summary Statistics: Calculate percentage of missing values for each column\n",
    "missing_percentage = (test.isnull().sum() / len(test)) * 100\n",
    "missing_info = pd.DataFrame({'Column': test.columns, 'Missing Percentage': missing_percentage})\n",
    "missing_info = missing_info.sort_values(by='Missing Percentage', ascending=False)\n",
    "print(missing_info)"
   ]
  },
  {
   "cell_type": "code",
   "execution_count": 251,
   "metadata": {},
   "outputs": [
    {
     "name": "stdout",
     "output_type": "stream",
     "text": [
      "        date  store_nbr      family  onpromotion  year  month  day  \\\n",
      "0 2017-08-16          1  AUTOMOTIVE            0  2017      8   16   \n",
      "1 2017-08-16          1   BABY CARE            0  2017      8   16   \n",
      "2 2017-08-16          1      BEAUTY            2  2017      8   16   \n",
      "3 2017-08-16          1   BEVERAGES           20  2017      8   16   \n",
      "4 2017-08-16          1       BOOKS            0  2017      8   16   \n",
      "\n",
      "   oil_prices  transactions  city  state  type transferred  \n",
      "0   46.799999           NaN   NaN    NaN   NaN       False  \n",
      "1   46.799999           NaN   NaN    NaN   NaN       False  \n",
      "2   46.799999           NaN   NaN    NaN   NaN       False  \n",
      "3   46.799999           NaN   NaN    NaN   NaN       False  \n",
      "4   46.799999           NaN   NaN    NaN   NaN       False  \n"
     ]
    }
   ],
   "source": [
    "\n",
    "#imputing the missing value \n",
    "test['oil_prices'].fillna(method='bfill', inplace=True)\n",
    "test['transactions'].fillna(method='bfill', inplace=True)\n",
    "test['city'].fillna(method='bfill', inplace=True)\n",
    "test['state'].fillna(method='bfill', inplace=True)\n",
    "test['transferred'].fillna(method='bfill', inplace=True)\n",
    "test['type'].fillna(method='bfill', inplace=True)\n",
    "\n",
    "\n",
    "# Print the updated DataFrame\n",
    "print(test.head())"
   ]
  },
  {
   "cell_type": "code",
   "execution_count": 252,
   "metadata": {},
   "outputs": [
    {
     "data": {
      "text/plain": [
       "date                0\n",
       "store_nbr           0\n",
       "family              0\n",
       "onpromotion         0\n",
       "year                0\n",
       "month               0\n",
       "day                 0\n",
       "oil_prices          0\n",
       "transactions    28512\n",
       "city            28512\n",
       "state           28512\n",
       "type            28512\n",
       "transferred     12474\n",
       "dtype: int64"
      ]
     },
     "execution_count": 252,
     "metadata": {},
     "output_type": "execute_result"
    }
   ],
   "source": [
    "test.isnull().sum()"
   ]
  },
  {
   "cell_type": "code",
   "execution_count": 253,
   "metadata": {},
   "outputs": [],
   "source": [
    "#saving the train data for Power BI\n",
    "#train.to_csv('train_LP3.csv', index=False)"
   ]
  },
  {
   "cell_type": "code",
   "execution_count": 254,
   "metadata": {},
   "outputs": [
    {
     "name": "stdout",
     "output_type": "stream",
     "text": [
      "<class 'pandas.core.frame.DataFrame'>\n",
      "RangeIndex: 3024054 entries, 0 to 3024053\n",
      "Data columns (total 14 columns):\n",
      " #   Column        Dtype         \n",
      "---  ------        -----         \n",
      " 0   date          datetime64[ns]\n",
      " 1   store_nbr     int64         \n",
      " 2   family        object        \n",
      " 3   sales         float64       \n",
      " 4   onpromotion   int64         \n",
      " 5   year          int32         \n",
      " 6   month         int32         \n",
      " 7   day           int32         \n",
      " 8   oil_prices    float64       \n",
      " 9   transactions  float64       \n",
      " 10  city          object        \n",
      " 11  state         object        \n",
      " 12  type          object        \n",
      " 13  transferred   bool          \n",
      "dtypes: bool(1), datetime64[ns](1), float64(3), int32(3), int64(2), object(4)\n",
      "memory usage: 268.2+ MB\n"
     ]
    }
   ],
   "source": [
    "train.info()"
   ]
  },
  {
   "cell_type": "markdown",
   "metadata": {},
   "source": [
    "## Performing Stationarity tests"
   ]
  },
  {
   "cell_type": "code",
   "execution_count": null,
   "metadata": {},
   "outputs": [],
   "source": []
  },
  {
   "cell_type": "code",
   "execution_count": null,
   "metadata": {},
   "outputs": [],
   "source": []
  },
  {
   "cell_type": "markdown",
   "metadata": {},
   "source": [
    "### Summary Statistics"
   ]
  },
  {
   "cell_type": "code",
   "execution_count": 256,
   "metadata": {},
   "outputs": [
    {
     "name": "stdout",
     "output_type": "stream",
     "text": [
      "              sales   onpromotion    oil_prices  transactions\n",
      "count  3.024054e+06  3.024054e+06  3.024054e+06  3.024054e+06\n",
      "mean   3.587786e+02  2.610785e+00  6.779137e+01  1.665288e+03\n",
      "std    1.106757e+03  1.225598e+01  2.570014e+01  9.562186e+02\n",
      "min    0.000000e+00  0.000000e+00  2.619000e+01  5.000000e+00\n",
      "25%    0.000000e+00  0.000000e+00  4.629000e+01  1.032000e+03\n",
      "50%    1.100000e+01  0.000000e+00  5.319000e+01  1.357000e+03\n",
      "75%    1.960000e+02  0.000000e+00  9.580000e+01  2.028000e+03\n",
      "max    1.247170e+05  7.410000e+02  1.106200e+02  8.359000e+03\n"
     ]
    }
   ],
   "source": [
    "# Select the relevant columns for summary statistics\n",
    "columns_of_interest = ['sales', 'onpromotion', 'oil_prices', 'transactions']\n",
    "\n",
    "# Use the describe() function to get summary statistics\n",
    "summary_stats = train[columns_of_interest].describe()\n",
    "\n",
    "# Print the summary statistics\n",
    "print(summary_stats)"
   ]
  },
  {
   "cell_type": "markdown",
   "metadata": {},
   "source": [
    "### Use the Augmented Dickey-Fuller (ADF) to test for the p-value "
   ]
  },
  {
   "cell_type": "code",
   "execution_count": 257,
   "metadata": {},
   "outputs": [
    {
     "name": "stdout",
     "output_type": "stream",
     "text": [
      "Rolling ADF Test p-values: [0.0006012613025257785, 3.8099800203436035e-06, 1.6778961146024624e-11, 5.642786180018249e-10, 5.99719885719533e-10, 8.104143589662645e-12, 5.8653969775437734e-09, 2.62062481832038e-12, 8.219809798159591e-10, 1.7722406639562147e-11, 5.792290740285398e-08, 6.810130695845276e-10, 1.6335796096306837e-10, 1.0031952561692033e-11, 9.520522798790922e-11, 4.440515316772945e-10, 1.556914630941959e-13, 3.284225542012388e-12, 1.6100679935480174e-11, 6.632985782101102e-10, 3.1530823975640763e-09, 2.520046727608058e-12, 5.620423439339724e-10, 3.3750946436652253e-12, 1.9368329676292886e-11, 6.141743498935832e-14, 1.1513230028152978e-11, 6.707381210055211e-07, 2.034446961232005e-09, 1.1237995829980694e-10, 5.733342199072054e-12, 7.332775867957123e-08, 1.497728733172381e-13, 1.0748663850323856e-08, 5.67220270661304e-13, 2.269869229889308e-10, 2.9768956808559e-10, 1.4252628133253582e-12, 4.588710736493287e-12, 2.2866819271431155e-12, 1.0189587549280832e-10, 3.6008797580840403e-12, 3.3597842944602484e-12, 3.720952682598722e-11, 2.9056370533814904e-11, 6.823959971819333e-08, 1.8868565705785806e-12, 1.155735985665415e-09, 7.407466204781162e-12, 9.578359167445144e-12, 5.576676927512496e-13, 3.93339563233406e-12, 4.0706930419120945e-10, 5.1832434896130046e-11, 2.0310038173382447e-11, 6.661284680208307e-12, 1.5872554009212037e-09, 3.1537978378878263e-12, 5.877810061125653e-10, 1.1979478460524049e-12, 1.7211230178481014e-09, 1.757117081087228e-09, 3.669594190868213e-12, 3.0108041632393664e-10, 4.277405074222114e-12, 8.633078901131032e-11, 1.0434214980685788e-12, 3.710162309958888e-12, 1.3268460862343002e-11, 2.6662542432033277e-16, 4.831687928322564e-11, 1.4098901352685903e-10, 3.730368432824007e-09, 6.070727444024214e-12, 4.8317737525373696e-08, 6.427280230261583e-12, 3.0653004349023534e-10, 1.5471352582917374e-10, 6.976805489856079e-12, 5.857212183539986e-15, 4.4476520507403355e-13, 4.0464889003982635e-11, 3.239098151751165e-13, 8.071011511410364e-11, 5.511245436386005e-13, 9.187457398417872e-11, 8.765090545744983e-11, 3.925390792546645e-12, 7.1796982170186845e-12, 7.474644562182265e-13, 1.5282508866321544e-11, 8.449680821448747e-16, 3.433352499162858e-12, 1.4995501257398546e-08, 1.7426533095917748e-11, 2.087596326215407e-10, 1.1789915885721195e-12, 1.8241005738903139e-10, 1.468849234002949e-13, 1.2583778116296324e-12, 1.0604917143722024e-12, 9.647676457729701e-13, 2.2653054905670728e-10, 3.396904850829213e-12, 5.3357290063046585e-11, 7.856415669652467e-13, 5.278760810314467e-09, 4.862780495990789e-13, 3.890048422703706e-10, 8.869479025081092e-10, 4.734372846733197e-09, 2.6532502137669192e-11, 1.5386898686905043e-12, 1.3629055462799903e-11, 3.7936286045061e-12, 1.0257454576110935e-11, 6.11130598654217e-13, 3.878413381711833e-12, 1.7627875983141512e-09, 7.93438121616575e-14, 6.368489277478076e-10, 4.749439927141273e-13, 1.328306394821225e-10, 7.830765329777277e-14, 2.2906445408649572e-12, 1.6937024824043485e-15, 1.1771665297598105e-11, 1.0978193064949243e-10, 8.221385914343041e-12, 3.3584965183734604e-11, 3.619635420946718e-13, 7.968962219057701e-11, 3.67522330156212e-16, 1.5905898710696359e-10, 4.773204862194935e-10, 1.8349078220024234e-13, 8.99262688970839e-12, 1.2361865223695364e-12, 2.2398167834348833e-12, 2.092478338323839e-14, 4.3680606111805466e-12, 4.198709449153103e-15, 2.9181756832428168e-12, 2.7463233710034653e-10, 5.3344586629907627e-14, 1.2778672393634797e-09, 5.285034356678107e-13, 7.273401015640635e-11, 7.122457663033779e-14, 1.8091612662145782e-12, 1.6972106946593651e-12, 1.9652495674835e-12, 3.4321354342928406e-11, 3.393473104630008e-13, 2.882214051246852e-12, 2.2676983507792306e-13, 1.9031525494294402e-11, 1.471168179049085e-13, 1.0209615697333971e-10, 2.8381837614729936e-08, 7.989471814663268e-13, 6.67556749768465e-11, 2.7037789634998215e-13, 3.0149850192362574e-12, 3.04782328102638e-15, 7.065413935699223e-12, 2.4057811060557373e-12, 3.3729411047186646e-11, 9.508602284598095e-10, 3.3624674515425626e-13, 1.9469134371947591e-10, 7.189743791786892e-13, 8.300180045232087e-11, 4.2574521597447045e-16, 6.864014160385543e-12, 1.7105847105700706e-13, 9.601491043556685e-13, 4.82836029303185e-11, 3.4393188356213955e-13, 5.697269523401639e-14, 4.576787414048067e-13, 5.192079461332917e-12, 5.142508063278526e-13, 4.732831030419739e-11, 2.9224960133836843e-10, 4.006991170825787e-12, 2.0146634093660784e-11, 2.1309189136463895e-13, 1.1574224050212239e-11, 2.2725118877147015e-14, 8.43366011209569e-12, 1.2384440457726947e-13, 9.636486606517745e-12, 9.632827224520184e-11, 5.468948756757772e-13, 4.3002759993374715e-10, 1.2362668988780735e-12, 8.241972586324619e-11, 5.494251174813412e-13, 7.27622316573402e-13, 1.5353743026442826e-10, 5.422641732869329e-13, 2.0048455099678427e-10, 9.311900125837173e-13, 1.6046740954316838e-12, 9.57928547419333e-12, 1.084558114263915e-12, 1.1257604157195762e-11, 5.185352256939783e-11, 1.76286595327988e-10, 5.366852216622319e-12, 2.773878086637092e-15, 2.4416500196091626e-13, 3.0695392459256615e-12, 1.2529099926871281e-15, 7.492582766548612e-10, 4.4787160343512565e-14, 1.869334665553164e-12, 1.611196148009139e-13, 9.512352590945704e-14, 1.0785352417980292e-10, 2.4061449027544343e-13, 3.263815061509246e-11, 1.0305105037723452e-15, 7.662159447541994e-12, 9.553502420539119e-12, 7.903191866177107e-13, 8.773366996681123e-11, 3.936144234354307e-12, 1.3219423275396544e-12, 6.768527585229524e-16, 2.153866180956178e-12, 2.283863759114683e-10, 7.86163262723444e-09, 1.5506960851471744e-06, 9.556233490379599e-08, 9.721985426488884e-07, 4.794952802869364e-15, 3.445168907144484e-13, 2.585138256770161e-13, 8.038941659632697e-13, 2.89886614505783e-11, 2.8907755591561016e-12, 1.845141701624841e-11, 4.397125300181027e-13, 5.6316521623449305e-11, 3.354200281408813e-14, 1.884821191973694e-11, 9.564243525023434e-10, 4.255163145936603e-10, 1.2128759029582667e-12, 7.690574291668112e-12, 9.594136065227996e-14, 5.569731470503088e-13, 3.380422317574683e-12, 4.745610245403186e-13, 5.678862946078863e-13, 2.1139223089981906e-09, 1.0080247861364852e-12, 1.0013553822401288e-10, 1.1583236632031187e-13, 4.98181909723537e-12, 1.3117291687872373e-14, 5.716213307518437e-13, 1.8128087919056533e-14, 5.668213367758336e-12, 8.2015781414315e-12, 1.7298953140267824e-13, 5.047970198102642e-13, 6.987819657857262e-13, 2.16178476047222e-11, 2.2383845487273357e-15, 6.594790138867729e-11, 5.346698085816108e-11, 5.7170516386855566e-11, 1.845640524362764e-11, 1.0078984565133889e-12, 2.5423882232032008e-12, 2.3195333292709397e-15, 3.8002459934920756e-12, 4.1155465701759987e-16, 6.0819580061747814e-12, 1.1434093843314812e-07, 1.7689843377682295e-13, 1.0206895942686917e-10, 1.2704465024326488e-13, 5.594857398794265e-12, 8.10740415495732e-15, 7.804267788498441e-13, 1.9407961018423983e-12, 1.4012401074525932e-13, 9.438521511658541e-11, 1.0461497566640186e-12, 6.0194777505257084e-12, 1.566375851148937e-12, 7.806953484731211e-12, 1.33304149230811e-13, 1.7418435937773673e-10, 3.461965217769545e-11, 4.205196077940899e-13, 8.646877277239816e-12, 1.1072914637803096e-13, 8.289578091034596e-13, 1.2929467923935208e-14, 2.247386489400609e-12, 2.4762918261755186e-12, 3.723486564268933e-12, 2.880632962148158e-10, 7.832357014272876e-14, 1.1348420460540975e-11, 3.407942313519739e-14, 1.4522869800308809e-11, 2.0670461060532488e-14, 1.0944716837998063e-12, 4.674191745921125e-10, 1.910995226877691e-12, 1.1561481104659964e-11, 1.0983686014813552e-12, 6.007370943962478e-13, 2.1639857601100242e-13, 2.836421934985667e-12, 6.390836416778605e-14, 1.5670995411957077e-10, 4.4546178483794057e-11, 1.2178543801720522e-12, 7.893953966739862e-12, 3.2501829840554465e-15, 1.0362992690059455e-12, 1.8770182718620373e-15, 1.2090444476055903e-11, 1.4974373496986264e-14, 1.2346780426630336e-12, 2.803877305657343e-10, 5.501735526691607e-13, 3.754554497673867e-11, 1.655884478675899e-13, 1.5462703272533733e-11, 5.8786949128120775e-16, 4.830447573203749e-12, 3.7073437833427514e-11, 1.961573031243408e-12, 7.966507854945266e-11, 1.2509543197078201e-12, 1.3002868343827021e-12, 8.502333338918719e-15, 2.6994218193101377e-12, 1.2899015889093352e-11, 2.37260607659689e-10, 5.0531822305363624e-12, 6.95709743680295e-13, 4.850616510473171e-12, 2.2982880358230455e-15, 1.0373368137545827e-12, 4.0570201523861193e-16, 6.408038132816568e-12, 5.883392441465205e-11, 1.257425075917629e-13, 2.557234811977237e-10, 1.0542676095861241e-13, 2.4149565441293657e-11, 2.7244324407720173e-13, 7.549282752703438e-12, 5.315416399881106e-16, 3.651909272271209e-12, 8.799485559252564e-12, 3.078930505521947e-15, 3.818849883642171e-11, 3.2517021596371854e-13, 6.817117756237724e-13, 1.4620823604865106e-13, 2.02470370604546e-12, 9.756909007955021e-11, 1.1732870172920212e-11, 5.90239338850818e-12, 2.669373459319534e-13, 1.1152215433528837e-12, 1.3464963941213389e-15, 4.2110877891380937e-13, 7.503138797910936e-16, 1.2696569203969468e-12, 1.6498246489036258e-11, 2.3313964077085215e-12, 2.9189755032920123e-10, 1.6616090424216158e-13, 1.1895099619088652e-11, 5.150640413913465e-14, 4.2135696328812145e-11, 1.055549440049159e-11, 5.425454705218738e-11, 3.491812653582608e-13, 7.028660300010867e-13, 6.653787248339461e-12, 4.551060191834158e-13, 1.744934441048644e-13, 8.63356032335478e-14, 1.1426130481204688e-13, 5.5601886194564245e-11, 2.1579704436458653e-12, 4.6593499400067594e-12, 1.9324383013762464e-14, 1.2408505533424048e-13, 7.493751173454362e-15, 5.230476436240997e-13, 0.0022728992978325183, 2.1051433724035588e-10, 4.3539812557740647e-13, 4.3275601796857306e-13, 3.465293743912853e-11, 4.4356192258581193e-14, 1.2584546123392809e-11, 1.1291700421702357e-14, 1.1700978732532009e-11, 4.038106784673847e-12, 3.7368706766758926e-13, 3.6475764133821266e-13, 8.075685982404687e-13, 1.5218160983570731e-12, 2.2462482854116348e-14, 1.0393748046470488e-13, 2.3074400641709526e-12, 6.784629487912115e-12, 2.9125199788125436e-11, 8.127706961559052e-13, 2.0536675921511547e-11, 1.7441849878822243e-13, 6.353530773722615e-13, 1.3257756557858593e-13, 1.1369046422736238e-12, 7.128941887560313e-11, 2.6882216077493025e-11, 1.406960319124226e-12, 1.1891122688158377e-12, 1.0652413082573897e-10, 9.465953809848252e-14, 1.2717226068774994e-11, 1.732383632846098e-14, 7.27051340412542e-11, 4.6230202761080705e-11, 1.2733488566818864e-12, 1.082022162079833e-11, 1.042518796428073e-12, 1.751636872889951e-11, 6.856870703343415e-16, 2.875816105404746e-12, 1.1358786608045532e-10, 1.8638405199734013e-12, 1.2347971713159837e-10, 9.721553661670277e-13, 4.349001214415904e-11, 1.5734303170109902e-12, 3.758919472050274e-12, 1.632468280203533e-14, 1.282144548817903e-12, 1.229622157339511e-10, 5.224174147583439e-12, 2.469943217102069e-12, 5.392926958602851e-13, 6.219829721447485e-11, 1.0764630477255127e-13, 1.635162740083601e-11, 4.431665908929615e-14, 4.6255926028554925e-11, 9.398587295068747e-13, 7.54602437482435e-13, 5.057872670384985e-13, 1.5883921634746967e-13, 7.858431303956771e-13, 8.440447052096753e-14, 1.4759408083520168e-13, 3.810053610682058e-09, 5.672793442856322e-13, 1.0955583373752816e-11, 2.2789662260694345e-13, 3.5439692565772744e-12, 3.675759492836611e-14, 7.796384467140603e-13, 1.2598689617127817e-13, 3.3026757429394024e-13, 3.34429702499456e-11, 5.177660278697981e-12, 4.391174842491109e-12, 6.328696297161085e-13, 1.0826494414242605e-11, 2.996444496313664e-14, 4.2887320462659104e-11, 3.6772969293721354e-11, 3.908303505592852e-10, 2.8827784891663985e-12, 4.692902057910996e-14, 8.528096437150075e-12, 8.449845356279006e-13, 3.395958562331528e-12, 2.4901689428737246e-15, 1.1735917398905359e-12, 2.217246612941021e-09, 3.00206769732478e-13, 2.067171101259232e-10, 1.2269569214642947e-12, 8.589669740936005e-11, 3.822485242315249e-14, 3.676023398520519e-13, 7.2849317576928e-14, 5.7643932028541165e-12, 1.2119682306306417e-11, 4.138073859271268e-12, 4.382387970187789e-13, 2.804519298831108e-12, 6.076386713464314e-11, 1.8036118681040116e-14, 1.5175780573144425e-11, 2.084955547502467e-11, 2.9735140023315874e-15, 1.9296695613410994e-13, 9.297851675526719e-13, 9.798679683455898e-14, 2.715518220842235e-13, 7.458461263313896e-12, 4.517520546045548e-16, 2.3792173040314392e-11, 3.2916193469935016e-10, 4.964856894951289e-14, 1.1812092662003076e-10, 5.698505152766219e-13, 7.336613410817478e-12, 1.783808113663176e-14, 8.919637824423609e-13, 3.0467710746490955e-12, 4.3376739385529515e-12, 1.2854569602272424e-11, 1.1766334814388436e-11, 2.2964307657964995e-12, 2.6998858834603607e-13, 6.837570136107521e-12, 8.287229964490457e-14, 9.645407022617764e-12, 3.5513562494399603e-09, 9.360296658016785e-12, 1.7030889862253324e-12, 7.404493598291055e-14, 9.97000659431498e-14, 2.0014622620610833e-15, 3.2374973573507946e-12, 3.832230905040565e-13, 3.741339090719998e-12, 1.1616841160447408e-10, 7.989081242183228e-13, 1.2044382261866913e-10, 6.772042343727274e-13, 4.770401758046364e-11, 3.8222924962451354e-14, 3.786139218929667e-12, 2.875755434055993e-10, 4.879543844638543e-12, 4.9503992703900064e-11, 5.8029585261233976e-11, 8.720775919413328e-15, 1.8616284033500563e-11, 1.4233524698039016e-10, 1.2773502403613132e-12, 3.154479332949964e-10, 1.92088313441712e-09, 4.58827359764621e-10, 3.849451679052621e-11, 8.946790445614496e-12, 0.0, 5.425549702098979e-11, 7.941608982576946e-12, 2.1922823509708582e-10, 9.589296458275126e-11, 1.3109487811556602e-08, 1.5248860196940864e-09, 4.417280838711008e-09, 7.304769067306916e-12, 1.9139695916906857e-10, 1.8672553831622055e-12, 5.078941971883767e-12, 4.855624552410232e-11, 4.411359003595088e-12, 1.3777715609964024e-10, 8.984176570521653e-12, 5.363215125991165e-13, 6.595110436814969e-12, 2.1627219960688673e-11, 5.020862302918193e-10, 5.617459592133833e-10, 5.212564191815887e-10, 8.247792553732024e-10, 3.6553218990900295e-12, 2.9913898403861407e-11, 9.30965651837517e-13, 1.1059960363345336e-11, 2.5906105518444337e-10, 8.450044188484725e-10, 1.8288631089928892e-11, 1.0960961684943748e-09, 8.738920484833308e-13, 8.116884245978445e-11, 2.0963165233647194e-12, 3.5315082245131123e-10, 6.229258188102631e-13, 4.937690941807481e-10, 1.8201078670318303e-10, 4.4588908239502645e-12, 1.2994334973302084e-10, 2.9232234104851485e-11, 2.615241591810602e-12, 6.9390327273834205e-12, 5.276251526620871e-10, 1.8340741669013246e-08, 2.794820932797062e-10, 8.845619920076301e-11, 1.4120478700302895e-10, 2.6718654215351077e-11, 1.1870628402571964e-15, 7.950762041424001e-12, 7.401280646299227e-12, 7.962160878295017e-11, 1.0902357173536424e-10, 7.467434262827102e-11, 7.355731432421083e-09, 2.033826878895943e-12, 1.7450823063087814e-10, 1.150571824591968e-12, 3.5690169130275586e-10, 6.447474288151071e-08, 1.6974269572088629e-10, 7.351415483128893e-12, 6.075807618016544e-11, 1.6149996942545e-11, 4.2507079766694555e-12, 2.3120624312211005e-12, 1.1011263154860115e-14, 8.354426524094728e-12, 3.089428521516095e-10, 7.003478542688996e-19, 1.727657983935746e-07, 1.092606903213207e-06, 1.3206829872432976e-08, 1.3125517370248408e-12, 1.278989175103721e-11, 7.072616344673974e-15, 5.206229514542284e-10, 1.7990327789432996e-11, 6.308878515710938e-13, 1.5014114863937615e-09, 6.286499588512813e-12, 2.3212515612554086e-10, 3.0742997924108856e-13, 7.161398769511709e-11, 1.9933814416784327e-08, 7.200334192701191e-09, 4.897235058573307e-12, 0.00010332125843356782, 0.0756416873785008, 7.314776756757076e-09, 6.292349008539391e-06, 2.802562551261431e-07, 1.2367697891594954e-06, 3.7579191720725064e-05, 1.8161037626212621e-07, 1.9597081274154072e-05, 4.395811795424435e-06, 1.8802829135102643e-07, 2.121407400243932e-08, 6.616451408971162e-07, 1.1106578848402169e-05, 5.494613180673181e-07, 1.464343094951449e-06, 1.1190446094687748e-07, 2.365100523648581e-05, 9.86585919789851e-09, 1.3213426275634596e-05, 5.030338991058798e-09, 3.80147433105459e-05, 5.387084813372098e-06, 4.00366668393457e-07, 6.41599707364843e-07, 1.0366854949336353e-07, 7.310037728579526e-07, 1.2753048920807914e-08, 1.6102435712366852e-06, 1.1035093019336468e-08, 1.7115460524808454e-07, 7.765362017755951e-06, 9.64046732027548e-08, 5.304312323656802e-06, 4.8197610911745845e-09, 1.5537630634507166e-06, 3.39150806857147e-09, 1.3817786172897853e-06, 0.00010828579041834373, 6.464823647908009e-07, 5.031679780770123e-07, 2.037734584477187e-07, 1.3114870074521459e-05, 2.778696501109149e-09, 7.655846380256312e-06, 9.334189281122301e-09, 7.88436672148223e-05, 8.614031828884428e-07, 4.2216103414569534e-07, 2.721050717807681e-07, 1.4489204808330597e-07, 3.301899652206374e-07, 3.0668734907492236e-08, 4.0676477816169006e-07, 4.767784636368904e-05, 2.3453796546015606e-07, 1.7798943908327848e-11, 1.3647096075839327e-11, 1.7417020189909507e-11, 1.1561415369005443e-13, 2.7328641549341355e-13, 7.925607085777634e-15, 5.806820552129138e-13, 1.5502119689924099e-10, 5.927700580197594e-12, 9.214855137317304e-12, 3.992629774592388e-12, 8.489503324354957e-12, 1.0904634132802943e-13, 2.248823681649555e-09, 2.3592904945680632e-11, 3.5726346003573453e-10, 1.4196775409314255e-12, 4.24041234575105e-12, 5.686293539422919e-13, 6.40142029956802e-12, 8.532144917483304e-13, 1.4045504502426535e-13, 7.145224482925206e-13, 1.8177340316331314e-07, 2.7519991297757304e-14, 2.8072993081963397e-09, 4.062630806505795e-12, 3.64448586492721e-11, 3.2587936536721263e-13, 1.0996786445833284e-12, 7.248099258606473e-13, 8.058316016991186e-12, 6.032593362533436e-12, 2.0557018563596575e-11, 3.114276949506396e-12, 7.187121216196167e-12, 8.847841633516817e-12, 4.435677109125324e-13, 1.9414861235156323e-10, 2.951420626074384e-10, 4.899166496059413e-11, 5.175833974649594e-13, 2.229206747257942e-12, 1.6575194595923677e-11, 6.492374898911478e-13, 4.004044979463169e-13, 2.2627918982724918e-13, 3.8314051887715166e-14, 6.75803884426075e-09, 8.033439428832198e-09, 2.270370706839223e-06, 3.444021101361368e-07, 1.9568039389950977e-05, 4.473386613678865e-09, 7.534453490479068e-05, 0.0018208957383404982, 8.503155227216499e-06, 5.885782370930643e-07, 5.6671872489077805e-06, 2.647812399715489e-08, 1.1935621215153284e-08, 1.7799476080908458e-07, 7.938352582885383e-09, 1.6957244735358312e-06, 0.00017034606059124568, 4.1912693673354305e-06, 6.10181971611162e-07, 4.256714372282789e-08, 3.218896467822319e-08, 1.420239518163054e-07, 3.6427084573464042e-06, 5.719517006957609e-08, 1.8745769794506854e-07, 1.4170162092633673e-06, 2.199577919481639e-08, 1.088965075376761e-06, 2.5528936310466827e-08, 1.8197013260299063e-05, 1.1965770075263677e-08, 9.24511773313942e-07, 6.527544896941086e-07, 1.1245345643143295e-06, 7.384514732313627e-07, 8.240452089813747e-07, 1.816116022115964e-07, 5.4559636204299433e-08, 5.364310840791956e-07, 3.966629518580046e-08, 1.5412857940297633e-05, 1.863317926238311e-05, 5.2792233467163e-07, 6.842169042699151e-07, 5.6160139956055255e-08, 5.217638237483801e-07, 1.0736916232770415e-07, 4.5709804302333765e-06, 1.2302952060032042e-06, 3.8863870658322785e-07, 1.6751145941819063e-06, 1.1395052925521637e-09, 6.767746801082989e-06, 1.5804359183623223e-08, 7.735661978927937e-06, 2.846581336224953e-09, 2.0259140985974577e-06, 9.798018369032353e-11, 6.2542943173405645e-12, 5.885184799530396e-11, 2.98786741601277e-12, 4.056213913607235e-13, 1.0469756987228612e-12, 1.1215354919708893e-11, 9.9934967884314e-11, 5.856450042312509e-11, 7.054062252710113e-08, 5.847388125297816e-11, 7.521306149619949e-12, 1.0694006845709345e-12, 5.6566795446833986e-14, 8.172146013405205e-13, 4.357886445231926e-12, 4.331283299789296e-10, 9.06347691904131e-13, 5.254056584942941e-09, 7.456185830482457e-13, 4.181692310271594e-09, 5.449354616436507e-12, 3.130358463324738e-09, 8.279116568324827e-13, 4.888383608604669e-12, 1.2220079013066093e-12, 3.868099890108856e-13, 8.565700371744591e-12, 1.2832303911094834e-12, 2.9178632597675506e-14, 1.5458485329237574e-12, 3.881790819709231e-09, 2.194273670497572e-07, 1.3214186923686475e-09, 5.97390433161276e-10, 8.694215126883842e-11, 2.170940671570454e-12, 3.694992021676124e-12, 1.6263831190782283e-11, 5.291816108740152e-12, 5.2977273202201776e-12, 3.8905822734649614e-11, 5.612311825288541e-12, 1.0526115080915752e-08, 4.628514693096569e-12, 3.68073281427977e-11, 8.111484059274883e-12, 1.1445459833072451e-09, 1.428710500766454e-10, 8.094480851527188e-12, 6.478957169726923e-12, 1.2451371502237526e-12, 1.5141287285470025e-11, 2.122727956528327e-11, 4.673384399319294e-10, 2.241890036002262e-12, 8.043824597550703e-12, 3.1989369423848546e-07, 9.969998089554458e-12, 3.7557982281329563e-10, 3.0027192264300245e-11, 1.7788700686642775e-12, 9.236557670637152e-12, 8.576558653628882e-13, 4.2910888485303924e-11, 1.1613057340893542e-10, 1.4088406610321814e-11, 1.711494612885116e-11, 5.950860109721217e-09, 3.4726349676578382e-12, 2.1952945115979084e-09, 4.1009465380330146e-13, 1.4348161062703842e-11, 5.169030775173203e-10, 3.14902989860628e-13, 2.1216408859547833e-12, 6.785051924101972e-12, 6.010112079924786e-12, 5.777180434983967e-12, 7.81205874209986e-11, 5.5297852638747486e-11, 5.861953315834101e-12, 5.1716877570617234e-08, 4.0557506447145135e-11, 9.543651774556107e-11, 4.82293996411133e-11, 4.681039425457059e-13, 4.436097586281074e-13, 4.88727896265869e-13, 1.3783781514956734e-09, 1.236426622157988e-10, 4.508665601802142e-12, 5.6298214904772524e-11, 1.0996010978597044e-08, 4.8120673247352345e-12, 1.583672154641435e-09, 1.2099291310379986e-12, 4.847456067428206e-10, 4.990098493166275e-10, 3.341534322664359e-11, 4.3202142522266824e-12, 3.818153400567897e-12, 1.903032474902378e-12, 3.0185249967439594e-12, 7.009935341373557e-15, 1.8518171771283985e-07, 1.3468059159526267e-11, 4.632317057498535e-10, 2.521759863780706e-12, 6.1000296276521175e-12, 4.658582245920085e-11, 4.123675056639923e-13, 4.129824513468893e-13, 3.4014853816197984e-12, 1.8717037472569343e-09, 1.6965874657504963e-11, 2.863353017532781e-12, 9.484022122517494e-11, 4.1032142183549776e-10, 3.4330380524676916e-12, 5.154541712829442e-11, 4.260820282479118e-12, 3.29804234779505e-10, 1.010831204754405e-10, 5.202031868883386e-12, 9.666979850773134e-13, 5.86829214012396e-11, 1.1841790851239863e-12, 5.211686913079733e-15, 5.80423738054651e-13, 1.6760629536302045e-06, 3.38658228648733e-11, 9.935491183575644e-09, 3.51793589583159e-10, 6.616267133274495e-13, 1.0257630818033463e-12, 7.966952223018246e-13, 1.0202227711974752e-12, 4.731230965500572e-13, 5.95048322635931e-09, 3.253954410384617e-12, 1.6407578938414674e-11, 1.967894312827567e-09, 9.89198452623676e-09, 1.7631878496508363e-12, 1.1869446765437745e-09, 3.92034391078913e-11, 5.23390954953324e-10, 7.948762461779974e-10, 2.007011363653399e-11, 9.364024286223836e-14, 1.3720146641411918e-07, 7.199587070335156e-06, 4.5187083084049896e-07, 2.0785072259406868e-08, 5.688761356290354e-09, 2.0064595453996444e-12, 1.4619006119303509e-08, 5.766217948523235e-12, 1.4940927850918694e-11, 8.451101187189725e-12, 1.5189928311602457e-11, 1.9845987744953883e-12, 2.119096376755958e-14, 1.015727321944864e-06, 1.5880899254654205e-07, 2.4166824244915335e-06, 7.435076297002135e-07, 1.1339777534413246e-07, 1.5230645555194525e-07, 6.30808275107301e-07, 0.0007825059502765269, 1.6197565009023303e-05, 3.308945074271968e-06, 4.880933141261361e-06, 5.2036992629994786e-08, 4.342573150181849e-08, 7.743871768880812e-09, 2.0338112429643817e-07, 1.63548915656011e-06, 4.66053949566123e-06, 1.8963857421588224e-07, 1.7527361614162385e-05, 2.923926117108759e-08, 2.4912830628462456e-06, 1.0111143505799267e-08, 3.962067857846768e-06, 2.4668021707655603e-05, 1.1242697046396427e-07, 3.037886470873845e-07, 4.428454907289425e-07, 2.783393444165709e-06, 1.3869733453775363e-08, 4.419208057856717e-08, 1.546468061335292e-07, 1.9410741154296544e-07, 2.8851166994008498e-05, 7.633650876755115e-07, 5.702781727568432e-07, 6.137707398090085e-08, 1.4691735965229705e-07, 3.620420947923222e-08, 2.3304041875139015e-07, 6.691521870409095e-07, 4.145029213034051e-05, 7.938239274861925e-07, 6.514156635189519e-09, 1.1650089104736761e-05, 4.409820546708159e-09, 3.3156202591759406e-06, 3.4327837323625226e-09, 6.259482396403625e-06, 6.92491716875141e-06, 4.316283365495468e-08, 1.0837580427426876e-07, 4.695812433884257e-08, 5.48768961343848e-07, 1.8114784757199694e-08, 6.70361724719997e-08, 1.2375226471257318e-12, 2.2306762752824782e-10, 2.7125593108990457e-10, 5.695156499701014e-12, 3.2217840099161875e-11, 7.268213175222642e-12, 7.072902214092808e-13, 1.851732262495058e-13, 6.797156068386032e-12, 1.474436799290072e-09, 8.80962206001459e-12, 7.277934822085673e-13, 1.0590122673953401e-11, 5.461748707423135e-10, 8.431874217720459e-13, 2.5919345275900225e-11, 9.84950763936108e-14, 2.91996006779992e-11, 3.009668544136646e-10, 6.2571173343072815e-12, 6.20663602013252e-13, 2.599758387784714e-12, 1.826790770138937e-12, 5.154629571201524e-12, 1.7942594604712852e-12, 7.799501089548891e-11, 3.9113272584940785e-10, 2.1574474001029387e-09, 1.3184193266455206e-11, 3.623893733417098e-11, 1.4615169306809706e-11, 3.1637320737868913e-13, 3.4225380466715017e-13, 4.22456898918051e-12, 6.916270924529801e-10, 6.540000996712785e-12, 8.994675830181884e-12, 2.2143874456251117e-11, 2.5171109770206444e-10, 3.077109553850418e-12, 5.363950566816753e-09, 4.0583318829380715e-13, 5.005681778932004e-10, 9.129054238114653e-10, 2.341072627708551e-12, 4.121469183320438e-12, 1.7346117040524222e-11, 2.4653189361601585e-12, 8.394446261461554e-13, 3.651116965903882e-12, 1.6855154575768892e-07, 8.84646598952365e-12, 5.849579913507809e-11, 4.164874566944272e-11, 7.312844435240235e-11, 2.1495432359533166e-09, 2.776582622742767e-06, 1.3705320991020092e-08, 1.19855595815207e-06, 1.767217665233959e-05, 4.4346356696432016e-07, 6.352507016051227e-07, 1.8554570095950617e-07, 4.3740155811461696e-06, 1.2117885149164536e-07, 5.690712049584468e-06, 1.3908039597621087e-05, 3.7944895749994674e-05, 8.775342340497901e-07, 9.541400024194653e-07, 1.3390659048538265e-07, 1.4747910185204094e-07, 8.483463208146154e-07, 1.2132349973707281e-09, 6.776572514197631e-08, 1.6660032357183406e-05, 5.695030233908555e-09, 2.8993201022369136e-06, 3.066882974819807e-08, 2.8820387974042856e-06, 8.86741231317436e-10, 2.65618844056626e-07, 1.6667393717125217e-08, 3.1535702340196344e-07, 3.0520449970709926e-06, 1.1422464217928144e-06, 2.0131173333129794e-07, 3.8071588093184934e-07, 6.501853020173481e-07, 1.8194499118889052e-08, 5.636856355122853e-06, 2.4314877254193155e-05, 6.08650692822207e-06, 1.0544972423979646e-06, 1.5917719266982585e-07, 2.3354730428672164e-07, 1.8985296226684932e-08, 1.316597240497801e-06, 5.567482812942358e-08, 4.3659803079161966e-07, 2.9150411389247992e-05, 2.2274748805042276e-09, 8.569157996801815e-06, 1.301955760040615e-07, 3.5445565243938235e-06, 1.2037683485228745e-08, 2.3114091388674007e-07, 0.000523986827011088, 8.708989092483571e-08, 5.656840847485396e-06, 8.063429107030182e-07, 1.5974103663937612e-07, 2.83203763076785e-08, 8.095806367256504e-07, 1.9952953585845803e-08, 2.6919265335706038e-06, 9.04708581322782e-05, 7.472739090200581e-06, 9.389597497051659e-07, 4.823447923820907e-08, 1.1920600212200695e-08, 7.043421517226781e-08, 2.121479722411177e-05, 2.175152940758915e-08, 7.812106850557408e-09, 3.644967294049095e-05, 2.5770200690038458e-09, 6.026590695337493e-06, 9.56768707422337e-09, 2.7264422593942006e-06, 2.8623910074524546e-08, 1.586471023899614e-07, 3.1832987764647317e-06, 1.12978231861403e-07, 9.74012866728519e-07, 3.139699146355292e-07, 1.8793233899982824e-07, 2.22918353655004e-08, 1.1941145487258456e-06, 1.5855493852415233e-08, 3.781128610682882e-06, 2.8308540409856347e-06, 2.106938203858789e-07, 7.647285643588814e-07, 1.0592087058112255e-07, 7.245921553870462e-08, 1.2962730211403783e-07, 1.8731356225637707e-06, 2.8092155791637463e-06, 1.1629879804668595e-07, 5.513189751195938e-06, 3.9824031868764465e-10, 5.253740179144307e-06, 9.103531383584054e-09, 2.7446782109179056e-06, 1.9111838885791537e-09, 2.306251119269579e-07, 8.897088988150555e-07, 1.1310623824088864e-07, 2.3663117742692365e-06, 4.404308714000158e-07, 2.53212310793578e-09, 2.2471778867012883e-08, 1.3728582027050345e-07, 4.184300397469978e-10, 1.550869863631449e-05, 9.253372817229377e-06, 2.9017907137020847e-09, 8.958420730820598e-06, 5.624102687479458e-08, 2.2254199671320697e-09, 5.328276677031767e-08, 3.211356408572333e-06, 0.00014720626679652713, 5.2999365940464563e-08, 1.1219657972941579e-05, 9.231105485437665e-09, 3.7430030671892888e-06, 8.619110581897368e-10, 5.126998112544339e-06, 1.3271079270972476e-08, 1.7386539334547483e-06, 8.18660981271744e-07, 1.793062572281791e-08, 1.3226664407725776e-06, 2.6602313012265718e-08, 2.639578020019114e-08, 1.4656506613975951e-08, 3.8223192520905705e-07, 2.881514151981924e-05, 6.557234986987733e-07, 7.295671452434428e-07, 5.114648871663649e-07, 2.299327757450906e-07, 9.865277372926463e-09, 1.2704658696460135e-07, 3.907476491476398e-08, 5.254974311248159e-07, 2.187969290691548e-06, 3.298969649382585e-08, 2.8836218144611717e-06, 2.816246416627256e-08, 2.039918880233641e-06, 1.1715775581749334e-08, 7.175344937836557e-06, 3.694850976021984e-07, 9.503267626126615e-07, 1.1408760603281397e-07, 1.6098085624201077e-07, 1.1366410289410546e-05, 4.807505236184736e-10, 9.196504985814602e-08, 1.6106517293048757e-07, 1.8357030176633334e-07, 1.1691024333907944e-05, 3.6224935696652087e-10, 2.1809958090501447e-06, 4.833028753330925e-08, 5.722545145559528e-07, 1.133858660531427e-08, 1.1418568101565319e-07, 1.1630532593939954e-07, 1.2048077429424858e-05, 6.79909402122213e-07, 1.1086061378379225e-09, 1.3648094046020503e-06, 5.029102984085183e-09, 1.968933580966721e-06, 3.441453321641357e-09, 1.4840700831635892e-05, 1.23263213264287e-13, 1.0390124940425614e-06, 7.46684731619358e-07, 7.249316817959006e-08, 4.282467404373724e-07, 3.0182067157003465e-09, 1.5655692933302214e-07, 1.0286235304709006e-07, 1.0919614674097572e-07, 2.085356797649859e-05, 2.2505225717856996e-09, 1.979319445093721e-06, 1.6707426001227784e-13, 3.412939820473444e-08, 1.4090479603876303e-09, 1.3233782745066172e-07, 6.289886646886979e-05, 9.382608576112493e-07, 6.313308075890617e-08, 5.093912250557501e-07, 3.867773041833179e-08, 7.254686710649257e-10, 2.609062165514245e-08, 3.238357813712335e-09, 1.7283287126895232e-07, 3.3506966967805513e-06, 1.9204425694208126e-07, 2.8274160092138744e-07, 5.7125799923617646e-15, 1.5750417329589552e-09, 4.732364733453818e-10, 2.8704333225529755e-07, 0.00046331150393393787, 3.7800790204640485e-07, 6.257555722289877e-05, 1.3872791897348405e-07, 6.155343336616538e-07, 2.10059076763854e-08, 1.1158109644933598e-06, 1.4114657034091749e-08, 8.503927510517548e-07, 2.7180781080718628e-06, 4.083996249226558e-05, 1.3404714458123424e-08, 0.003245756090357567, 0.0, 2.0420093623578864e-13, 1.3856633131887833e-10, 1.3985567452842468e-13, 1.329795502594559e-10, 7.060196504116801e-10, 2.8400439467485145e-13, 8.801279993198451e-12, 8.342126516401818e-13, 3.145703745202955e-14, 1.379357772369012e-12, 1.4670229540762609e-12, 4.7765314948615815e-11, 3.6271464895368563e-12, 1.1237948611824996e-09, 2.183859117471766e-10, 9.410699664480935e-10, 2.4066789216456592e-12, 4.131755504772103e-11, 5.392401022582278e-14, 9.59397065780122e-14, 4.690618183518626e-11, 3.636542589298716e-15, 1.0999325601135187e-11, 6.287295971882087e-13, 8.478263144472312e-15, 1.4790879300941295e-12, 5.048683811343698e-13, 4.263050924392031e-10, 6.993874903897573e-11, 9.899681833405509e-11, 5.6563856164884914e-12, 5.786972638492123e-14, 1.1532946042332005e-13, 9.157432978566411e-15, 8.611377963720861e-13, 1.3436499986589559e-12, 1.007841633342031e-10, 1.4677843414607874e-13, 1.2715570777856797e-10, 3.428224461413273e-13, 2.4488273450713137e-11, 2.81412211349135e-12, 5.425182619263271e-11, 9.697383336598091e-14, 1.0357290532152219e-12, 2.102960391006458e-13, 7.737179812292458e-14, 1.874068122302366e-12, 8.923992480249218e-14, 5.509174360666171e-15, 1.0276729786974805e-12, 2.88166000584928e-13, 1.0904052927433753e-06, 3.872089525177204e-11, 2.988876604129482e-11, 1.689351678898496e-12, 3.592369717627879e-13, 1.7634019094276137e-13, 5.795143020449171e-14, 2.948976734571504e-13, 6.361554607951543e-13, 7.946428634029492e-12, 1.7892066797853192e-13, 1.0169848529316458e-09, 1.28226394620631e-13, 1.1647704909130692e-11, 4.882079142444464e-13, 4.752301384038344e-11, 3.0928409043085028e-12, 5.455214411810919e-12, 3.892684141793653e-14, 2.0352211927729165e-13, 1.3266872109728202e-13, 7.386886648975647e-14, 1.8986975725194158e-15, 7.491625429840426e-13, 1.8010423002780897e-11, 3.787586762204705e-12, 6.320497226849461e-12, 3.0119543442803498e-12, 8.023731160123049e-13, 3.8081788801316925e-09, 4.633558895898571e-13, 7.529388270857659e-12, 6.352563438875279e-15, 1.8063386963270675e-13, 7.586618017247167e-14, 9.574074900011807e-16, 1.0174704680916952e-11, 8.657577956425488e-14, 2.081045501996071e-12, 9.67679135824216e-14, 9.708430269187254e-11, 1.0436563143891667e-11, 1.1228146068115474e-14, 1.7635917171679044e-13, 5.130403377724401e-14, 1.0582277523505526e-13, 3.037404178524029e-14, 2.8389888980632437e-15, 3.0046125887329944e-13, 8.00113227303579e-15, 2.5563639867300465e-10, 3.973793837420038e-14, 2.334598867465594e-10, 5.254985140715099e-13, 1.6955006911844569e-13, 6.193145123479856e-16, 2.7591734443416493e-13, 9.355560033555037e-12, 3.350780069666381e-12, 1.3802877090973686e-13, 4.1438291983283104e-13, 2.5046674965743107e-11, 9.83120557180852e-14, 1.5230220247967076e-11, 7.017058319642678e-14, 8.097075882592555e-11, 3.5542087364875717e-10, 3.634817203521483e-13, 1.9381610288574624e-12, 1.635081131796188e-13, 1.4748686264328397e-13, 3.5300649372742724e-14, 2.753284918389053e-14, 3.806974658050198e-12, 1.2073992571530563e-13, 8.237255201848029e-10, 2.6310154162382938e-14, 9.686823292024582e-11, 4.727167882266057e-15, 4.8280784696244105e-14, 8.492394042482833e-16, 2.5991747839209096e-13, 3.040747248704704e-11, 1.0648282689217644e-13, 1.185713185103812e-13, 8.892892339162559e-13, 5.220557765130161e-12, 1.2688473574929326e-13, 5.5767493682756343e-11, 6.161933643780514e-14, 1.2957826638357807e-10, 5.285809735233222e-13, 4.400820604120702e-15, 1.9100058355271603e-14, 1.0346539871197719e-14, 2.6102841376349698e-14, 4.11675796957671e-17, 5.296156379746516e-14, 2.064028041495735e-11, 2.2271382752649984e-14, 6.42241839727288e-12, 3.4569423181352203e-13, 1.821933629681286e-11, 5.439078990468334e-15, 1.821671094489677e-14, 1.086377083224325e-16, 8.375614798302708e-16, 2.4037008735572177e-12, 4.274680398079178e-15, 1.5758586665788456e-14, 6.511725184698019e-13, 2.7114163924189127e-11, 1.0941167404337386e-14, 1.3002643729701905e-10, 1.5318682011172115e-11, 2.8531682537703655e-10, 1.2326105112653177e-12, 2.4064160443480823e-14, 2.256032371015615e-13, 4.2992873253975e-16, 6.420122683151321e-14, 6.290829691896239e-16, 6.191082216269178e-14, 1.0638208788123036e-08, 1.8252320056256356e-14, 6.801378159083321e-10, 6.478374452306525e-13, 2.2849945964483102e-11, 7.720652418828589e-15, 1.5557070071730773e-13, 2.4412245233622654e-15, 7.908831914842434e-15, 1.5228442349313076e-12, 4.7133394400415204e-14, 9.351698628742084e-14, 3.413241949319742e-13, 3.696893275662427e-12, 4.52887827378911e-15, 4.7266274965471953e-11, 1.4898087586519722e-09, 2.807623414574877e-10, 3.057380254734524e-13, 2.1484937994292914e-14, 2.2244280137907977e-14, 9.66929141082399e-15, 1.3698661309670917e-13, 4.331704232643889e-15, 4.421203385849464e-14, 3.693602796296324e-09, 7.305015435488114e-15, 2.243164540161967e-09, 1.4758452361326819e-12, 8.787007558670833e-12, 5.019991262711243e-15, 3.8480796819984486e-13, 4.1094584524673024e-11, 3.9105063792956927e-13, 2.820520568039283e-13, 1.1243556951002417e-13, 2.0527559112011694e-13, 6.933663078331353e-13, 6.345336804215283e-11, 1.196377939850923e-15, 6.508449124362958e-11, 4.913479809726334e-10, 1.2579471169123485e-12, 2.835766712250563e-12, 3.1087854175256025e-14, 7.414727927524889e-14, 3.763474129243766e-13, 1.5278289634440921e-12, 4.159218044885113e-14, 1.374405281863115e-12, 5.791058193687813e-09, 1.840675486865619e-14, 1.3503242473083525e-09, 1.1220486088783402e-12, 9.503776030593326e-12, 3.020557669166909e-15, 1.3246740059709971e-12, 1.7237376596488362e-12, 1.1465183741213144e-13, 1.3350889541409807e-10, 1.4658494652919225e-13, 3.0442930234211885e-14, 4.356893599012896e-15, 3.7964751472188055e-10, 2.7529401341311e-13, 2.148566283930497e-09, 7.686040521260305e-09, 2.3234915768952248e-11, 2.939510857407787e-12, 1.1171480140998572e-13, 5.914747111050846e-14, 4.661724108098238e-14, 1.4846435693726461e-12, 2.246816592189478e-12, 1.5595305331221853e-13, 1.397814690803544e-08, 5.577406641668115e-13, 2.20658436336951e-09, 2.031441681825376e-12, 2.779726176795361e-09, 1.3192327811055364e-12, 3.526352454516425e-10, 6.06110951776897e-09, 5.3729361934499986e-11, 2.035911041411584e-09, 1.3304884821030897e-11, 4.2663220072664415e-12, 6.674309709466359e-17, 5.487941980008273e-11, 1.9534519015587104e-17, 2.213817591311445e-09, 3.1617835782149294e-09, 2.2104850240678707e-17, 7.007138921009948e-07, 2.6714771130005235e-10, 4.978488700190062e-09, 1.408790385763816e-08, 2.8795578703315776e-06, 1.7550438209886675e-05, 5.0200014924153395e-09, 1.4069334726081004e-05, 8.002952069886075e-10, 1.1356950993108786e-06, 1.833746554214448e-10, 7.284351480975986e-07, 3.275977425987203e-10, 5.549059867743464e-07, 6.133839530126835e-07, 1.3244029300781562e-08, 4.958682898587475e-07, 2.502310309290769e-08, 5.7177997654247605e-09, 2.9646464648964115e-08, 4.6043478000035547e-07, 2.4119038117720075e-06, 1.7422498670884785e-07, 9.575902997039838e-08, 7.755900523345796e-09, 2.425912265807053e-07, 2.6754047521372556e-09, 1.7621749064660952e-07, 1.5372529694468933e-08, 7.025290986868987e-07, 8.148893526450712e-07, 2.0075374565690958e-10, 1.0478810054934872e-05, 4.0210782832925855e-09, 1.570045753414822e-06, 3.6835533015425015e-10, 1.0808465716882837e-07, 2.2477134633231207e-08, 1.0276752121412885e-06, 8.25234391866939e-08, 1.030534010279011e-08, 1.1711677783426531e-06, 1.6633811166851996e-08, 7.0117608022827174e-09, 1.1086019879124577e-08, 1.1909091120745545e-07, 5.1228425721594355e-06, 1.1032649915247e-08, 2.766574495590858e-07, 1.8217688708937025e-08, 9.306553916232393e-08, 1.6700705877582793e-09, 1.4588105045880956e-09, 6.288016083114939e-09, 5.440334693892442e-06, 1.3467744931233114e-07, 1.570894372035718e-09, 4.206809054793812e-06, 1.318431349811962e-09, 7.569045681484621e-07, 2.8819299787756326e-09, 3.715118716927739e-06, 3.02974213276548e-07, 1.000979511029386e-06, 1.4187056030077053e-07, 1.8799158790965288e-08, 1.6823968951729102e-06, 1.2522920074519645e-09, 9.125022159643569e-08, 5.7482087658350035e-08, 1.146223317847699e-07, 1.0051861609658363e-05, 1.3707395931103271e-09, 4.4557461174771863e-07, 5.890907836015764e-08, 1.8227102163243486e-08, 3.124614430111686e-10, 2.2960846428373797e-08, 5.824074914067597e-06, 6.205290296334044e-07, 7.141868341184976e-08, 1.5332773789847576e-06, 1.3430144623816098e-06, 1.9051999895787733e-09, 2.467852308028027e-06, 9.570608722106573e-10, 1.0462448370141709e-05, 4.661957178836169e-06, 2.2274135598430294e-08, 1.3547987057191778e-08, 1.4148779745357925e-08, 6.789424563782867e-07, 6.924554557051933e-10, 2.6970139695678684e-07, 1.986379811179749e-08, 5.734958844712647e-09, 1.3533084148990114e-06, 1.338524569753168e-09, 4.801684421099984e-07, 3.2174064812021336e-10, 1.2440701427141208e-08, 3.7687912522770035e-11, 1.647945784730533e-07, 2.2656027483794993e-06, 1.0690854844103576e-07, 7.035791244625432e-08, 1.1897257965220334e-09, 2.893714319917582e-07, 2.759556442276436e-12, 4.211933323721517e-06, 8.04679563231003e-11, 2.0871221624185372e-06, 8.444826013948033e-07, 4.676123403777217e-11, 1.590919732190974e-08, 1.8461302976083022e-09, 3.144417985111793e-07, 3.409422803605431e-12, 2.924365168165571e-08, 8.470573545815548e-07, 1.486449303987274e-09, 1.724664700557541e-07, 1.8746002668206136e-10, 4.0799243834151796e-07, 4.084051538046577e-10, 4.15371835541647e-06, 3.802337402111581e-12, 7.060753568806171e-07, 1.9789456301314396e-06, 1.5918245268018674e-08, 2.9766394612561996e-07, 8.589507033673575e-11, 8.55964702763675e-07, 9.803001416567097e-12, 8.432987409256289e-07, 1.4919572550744397e-11, 1.0436350707083815e-06, 9.629371502972757e-08, 3.962805997370916e-11, 1.549906826766099e-08, 2.7655621063512296e-09, 8.080429062702051e-08, 2.0524248056594942e-11, 6.604810546462632e-08, 8.235805270611345e-06, 4.2806915796323285e-10, 1.607321014517525e-07, 3.973891128449773e-09, 2.725977221926459e-07, 1.0343516431782702e-11, 9.303115571117915e-08, 1.5270266541689707e-11, 1.2828332400527333e-07, 1.0777145313557155e-06, 4.773404700679063e-08, 2.5704994850147357e-08, 2.286942592208883e-09, 4.1863146206191757e-07, 6.216109092089425e-11, 8.498925308718059e-07, 6.502583290802662e-07, 7.612093354444374e-07, 1.280186071511854e-07, 1.2851619402124774e-10, 2.669695855590515e-08, 7.024034720717783e-10, 5.05673052807663e-07, 4.713674767967664e-12, 3.717601194778985e-08, 2.3619968901541028e-06, 1.2968519322394613e-11, 1.1450847782200918e-07, 7.587978635302942e-11, 4.333774645658285e-08, 5.197683841727063e-13, 1.5690317547394578e-08, 9.652257829199607e-11, 1.4081422121104214e-08, 1.245584596979927e-07, 1.1208789232142133e-08, 7.585769187632644e-08, 1.416405041100993e-10, 1.0010313790787732e-08, 1.8776814649201226e-12, 2.2378301120778524e-08, 1.0018322677022726e-07, 3.827823706010808e-10, 3.3271523394988867e-10, 7.492830677741861e-11, 8.088123022559887e-10, 4.302519858416566e-10, 2.292132664125694e-07, 1.4207125011178738e-12, 4.337205194580752e-08, 8.072601975724296e-08, 2.036351170000207e-12, 2.6364347628476406e-08, 2.545786232886535e-10, 1.6029297243437024e-08, 6.720900364441874e-13, 3.378556888428227e-08, 6.897406575786662e-09, 1.6731791361267079e-09, 6.659179042229308e-08, 1.2440416826067331e-08, 7.925496128667346e-09, 1.814769246963601e-11, 3.703029122169402e-08, 6.049644942562484e-12, 4.237518208599251e-08, 2.544384214703686e-07, 2.6431634793863155e-09, 4.4322690305695e-09, 2.669466408146316e-09, 6.076190527243563e-10, 2.6069324706103222e-09, 4.230487251170491e-08, 1.9727671212907368e-09, 1.1640300086720598e-07, 1.3498144707384253e-06, 4.2480542025821796e-17, 1.7161945489404498e-06, 3.68826054332072e-12, 2.9945518688734114e-07, 3.689773289159408e-12, 2.2363972727443065e-07, 7.070902316307722e-08, 5.952370178380667e-09, 2.4935490631047294e-07, 6.890566675201136e-09, 1.9195229067258094e-09, 5.429398957511144e-12, 2.951565377112736e-06, 1.3841728866572668e-10, 5.2321710561281926e-08, 1.0173182145043019e-07, 5.076506831573312e-11, 2.790242979596561e-09, 4.784410306041074e-11, 7.816240712890177e-13, 4.623676464894757e-11, 7.022253745077755e-07, 1.9320469943443178e-08, 1.5980128845033189e-10, 8.352731856280325e-07, 9.649366994037557e-11, 9.379044640718383e-07, 1.6984405853182582e-11, 6.748532164625857e-07, 3.205435983139221e-13, 9.219222584691893e-08, 3.9291426865670876e-08, 2.9898049085531955e-11, 2.259712180388313e-07, 3.4072092567422127e-09, 2.3391171534453513e-08, 2.7673108060425394e-09, 4.0900958006110214e-07, 4.4486172588597607e-07, 9.387755483668527e-09, 1.1225941903313063e-07, 1.5633949488580803e-08, 1.785925684456734e-08, 2.9809039995455832e-12, 3.3992372157119255e-08, 3.6635155716124973e-10, 2.8229218093046616e-07, 4.044686182539905e-09, 3.882467175941358e-11, 5.21784774551697e-07, 6.749716955297069e-12, 7.666226498770563e-07, 5.219825359312321e-13, 3.9988023895712185e-06, 3.5909876427793315e-11, 4.041400212470796e-09, 1.8105966026002374e-06, 2.9369786095360536e-10, 1.0992001984655534e-07, 1.1446762915119526e-09, 1.3121311401586934e-09, 7.117521999998065e-10, 6.076450977767046e-08, 6.418793860047205e-06, 2.718039724357675e-08, 1.2415417875929546e-06, 8.212577754623277e-09, 2.5762337702662194e-08, 1.79982429357283e-10, 6.1785201011586066e-09, 1.6890304932146724e-09, 2.2588044713471705e-06, 3.8031508504469154e-08, 4.3396319371010804e-11, 1.0018679105851297e-06, 1.7848007205779734e-10, 2.1548707802107057e-07, 3.218319319996475e-11, 1.4857625763832098e-06, 2.295821785480953e-07, 7.802047284384159e-08, 5.104163423776687e-09, 2.2447641963128284e-08, 6.05659688679638e-07, 1.3677860167436495e-12, 1.7663066193271318e-08, 2.3994224324103404e-09, 8.74628997831567e-08, 3.1102981723648466e-06, 1.9111523344853242e-09, 5.661318324064941e-07, 1.3981103493900919e-08, 1.2684071026290995e-08, 7.203152556990323e-12, 1.657404864360717e-07, 0.0002007439851821927, 1.2368389272648787e-06, 4.034356613837306e-07, 1.300426041712443e-10, 6.683768527999264e-06, 2.24533930461271e-11, 1.1731158723123153e-06, 3.845930996816629e-11, 2.5540053892053623e-06, 2.011659668812791e-06, 1.3288220312380332e-11, 4.069789527449198e-09, 1.408542322285198e-10, 1.0092047929963244e-06, 6.516342192365185e-12, 8.082441371662923e-08, 6.946894608424206e-14, 1.0526140514657877e-08, 1.0169561483404445e-06, 5.97741203146394e-11, 1.0341264565745192e-06, 1.0093083924605377e-08, 1.430260102159621e-07, 3.860116493720241e-12, 1.380933999983276e-07, 6.9117070125585215e-06, 1.816910256010273e-08, 1.5010602703285315e-08, 9.214409741185533e-10, 2.235695317024546e-07, 2.739868720418319e-11, 1.8266725913626553e-06, 7.972228184044088e-12, 1.7153593133274899e-06, 1.212254398760609e-09, 3.368682537429498e-12, 3.200882319820191e-09, 5.970271739712628e-09, 5.879600220450772e-08, 5.899117303554038e-13, 8.360443534108661e-09, 3.5349172727311164e-09, 1.630339182243923e-11, 2.6059000473217682e-08, 2.303453267771545e-13, 1.2533583182532403e-08, 1.7504184439399533e-11, 6.636917761640406e-10, 3.0286215387702296e-08, 6.232149941201152e-08, 2.2981455629085446e-08, 5.356404140608833e-10, 2.3894377534774648e-08, 1.0106348466445184e-13, 5.593924105115607e-09, 1.0431103936185034e-13, 3.4633827647309936e-06, 3.3513878939323495e-13, 4.32094182818869e-07, 1.2504174549973945e-07, 1.3050744776562354e-11, 2.4974644785826167e-08, 4.0225504515376436e-10, 1.9092204691510113e-07, 6.7862975866334464e-12, 0.0008113987000130821, 0.0023978116003833777, 7.065464897666702e-12, 2.459593420120917e-06, 7.552063478610584e-11, 9.52672354803239e-07, 6.198487876826161e-12, 5.884296869597373e-07, 2.8372238697545753e-11, 3.7435663975397866e-07, 5.497351050397183e-06, 1.9016636424076082e-08, 1.198500651652649e-07, 1.4324623062407826e-08, 8.291612988459168e-07, 4.262995414973654e-11, 2.6901166130341345e-06, 4.729871329150752e-07, 8.835916398099475e-06, 8.476360828560188e-08, 2.2076838503115385e-09, 1.1269836966336795e-08, 5.743114229348483e-10, 1.7025723987766672e-07, 2.0697248989058457e-11, 2.5161522724222273e-08, 3.2195559236961683e-06, 7.33537137187605e-12, 1.1738918168090743e-06, 5.794881112540163e-10, 7.565314475159492e-07, 8.325210302957027e-11, 6.542767988809063e-08, 2.853529408029216e-08, 1.0598108171792928e-09, 1.9334224689884747e-07, 5.148099847280752e-08, 3.663025658286794e-08, 4.5875653615669395e-09, 2.5259900271614683e-07, 6.895736092285824e-11, 1.3661324824893091e-06, 5.056319382446719e-07, 2.491034249916658e-07, 1.0133385853962738e-07, 3.593270895856304e-10, 2.082721242704662e-09, 2.858007496181376e-09, 4.348118070160188e-07, 3.119859445561933e-12, 2.276497527112136e-09, 5.597520844142255e-07, 5.722082455221111e-14, 3.723693615396424e-06, 4.776303870578705e-09, 1.9671094884362045e-06, 1.9553322496240253e-13, 4.3517439493438465e-07, 5.014346217392905e-10, 1.0066083805826004e-09, 2.8011817752531337e-07, 1.989883715146253e-09, 2.0196221144390616e-09, 2.233894787043191e-10, 5.22524065357981e-08, 4.411274469594464e-12, 8.238770708090653e-06, 1.5816754268328109e-06, 9.566200388281235e-12, 4.346716616503521e-05, 1.5108362164537313e-08, 2.635839620126497e-05, 7.905339851409748e-11, 2.441013710897027e-07, 2.750611851615397e-06, 5.975112221842584e-09, 3.555076342564697e-07, 2.853273628368066e-12, 1.2557013017361987e-06, 5.709716782091828e-10, 9.090008392356693e-07, 1.5416712121155102e-12, 1.0244223025032754e-07, 4.144417247557076e-08, 4.3067758133699045e-09, 6.534472714522384e-07, 8.319821355429057e-09, 5.172969902682881e-10, 2.764197032405668e-10, 3.9236305390827243e-07, 1.5876102780818108e-10, 2.354676805213064e-06, 4.186360745664731e-06, 4.563984560669225e-10, 4.0845405597425486e-08, 2.36938773150183e-11, 3.065472146252559e-10, 1.0827627945561343e-09, 1.6545532489530154e-06, 1.8711923485689265e-08, 1.1789926257912383e-09, 1.517957079674917e-06, 5.7517869313529663e-11, 1.724268807729387e-06, 2.0449153945009588e-10, 2.1872082547302407e-06, 9.404608984810298e-13, 2.4578373750508086e-10, 3.996252357619515e-09, 2.639026458802934e-12, 3.193232872698975e-07, 3.473303832092117e-09, 7.832907487026854e-10, 4.799629805141745e-10, 1.0937831262856716e-07, 1.987329174981084e-07, 1.8527814620618378e-09, 3.890817407504389e-06, 8.522874590480701e-10, 3.232099016805897e-08, 4.855523584355107e-13, 8.940020918686591e-10, 5.507971656036911e-10, 7.069215411189242e-07, 1.3042620629029409e-08, 4.032096346973197e-09, 1.3590644008425971e-06, 4.97608506445997e-11, 9.92228703339258e-07, 1.7605186802217304e-10, 2.3273235371414497e-06, 2.39893491030399e-12, 3.845125539869828e-09, 7.772294572432148e-10, 4.925880854441874e-12, 2.496365951685978e-07, 8.994108512124366e-11, 2.6309511587837873e-09, 6.472808540269577e-10, 3.968224516934603e-08, 7.0209422011819715e-06, 4.139200223756342e-09, 1.4652375963065397e-06, 2.0271971872116233e-09, 2.2535389948817262e-09, 3.875480025812601e-10, 1.003189211909206e-10, 8.326141888707819e-10, 2.4422549212583317e-07, 1.7325099036556989e-09, 4.8231831596837865e-11, 4.133892623659106e-07, 3.61770967543199e-11, 3.150791854452737e-07, 2.2057371018264104e-10, 2.285233878318924e-06, 4.291355582305669e-08, 2.426599464271904e-08, 7.43898083890763e-09, 1.1839167903515685e-08, 3.4089437431024447e-07, 2.7302941507532553e-11, 3.5733429421500896e-10, 8.849389234522802e-13, 5.623257415265503e-08, 3.6235530962285642e-06, 1.8111461392260938e-09, 5.038485933681545e-06, 4.797258210563792e-08, 1.2031290126135914e-09, 2.6267166738987444e-13, 1.1332262939224712e-08, 7.535664053703877e-07, 7.025123759639998e-07, 3.2897316838310554e-08, 3.639650216999963e-11, 5.317390236515641e-06, 2.7669427667985977e-11, 3.2607340926911866e-07, 2.532495290123305e-10, 3.3583848432611077e-06, 2.2663482309397768e-07, 1.154753992588573e-10, 2.188243317498863e-08, 7.007052194726814e-10, 2.492982985634599e-07, 3.183229301162712e-12, 1.358297240913719e-08, 8.680740994578242e-11, 3.934184453086041e-08, 5.970739984159788e-07, 3.7332704424342584e-14, 2.1953976368098537e-08, 6.133772916451746e-16, 5.852032398526391e-11, 4.731700860030636e-15, 8.478198609535168e-14, 6.853226218543287e-09, 3.885468373903487e-07, 4.750526838865056e-07, 8.092544197740928e-05, 3.34619426916328e-08, 5.800330541684452e-15, 1.1221186381644673e-08, 1.3768495050466441e-12, 5.581914184347414e-08, 3.6968116618944204e-06, 1.0203663774925925e-09, 1.4198178330499613e-08, 0.0, 3.776647567354168e-11, 7.687634474932611e-10, 2.87707587638504e-07, 3.597164960352353e-09, 4.4050677335982115e-12, 2.937866443889106e-06, 1.2719344951362745e-12, 4.3856647801745547e-07, 5.986585122335632e-08, 1.248028973026007e-06, 0.00016860411565012206, 0.0, 1.821488020704488e-07, 5.175507960596178e-10, 3.830132902503476e-10, 4.26573128895213e-10, 7.9780730762489e-08, 9.743812499713337e-13, 6.948177331503603e-10, 4.698523307902029e-07, 3.9761864402877105e-07, 0.0001862173516629452, 7.367731147513022e-07, 1.9185173175050875e-05, 4.751734997499916e-09, 7.583053841135859e-09, 1.128960043993701e-11, 1.3318574979203265e-08, 1.4073024593934292e-09, 3.241802328134623e-11, 3.5290535338437797e-07, 6.374383484778887e-07, 1.7667847456250443e-20, 5.113258689436433e-05, 1.6800275089313434e-08, 1.2319263137149697e-09, 2.405511574876598e-09, 5.635697332865014e-07, 1.9385767353469155e-11, 1.2236217258302904e-07, 1.1273555781232292e-08, 3.7994620623563957e-10, 9.492848866256061e-12, 6.660044252754845e-10, 2.318829966234376e-06, 5.295181272490731e-08, 5.377377268348548e-08, 2.75577067255821e-10, 1.499487140062676e-07, 2.241554935994042e-11, 2.1731222813252438e-07, 2.733956371398022e-11, 2.1699654514278623e-06, 1.3691515145495336e-07, 3.647139936607562e-09, 9.921979097562285e-11, 1.4795697899288635e-09, 8.509325943924924e-08, 5.05577919663012e-12, 4.660269286601756e-09, 5.637736778041772e-10, 2.313049618567049e-08, 1.3714904099862294e-06, 1.9411272211987564e-12, 5.233735729007643e-07, 4.911831238938379e-10, 9.769568104549566e-11, 7.808658767764942e-12, 1.49155499145875e-08, 6.812123254946895e-07, 5.1648875342563376e-09, 8.924696316774868e-10, 4.773509284456194e-10, 8.801351473434945e-08, 9.45594974437572e-11, 1.5920146154891274e-07, 2.380458004074508e-11, 8.574800065079687e-06, 8.274282040025819e-08, 5.832910233168374e-12, 3.5781936653283746e-10, 1.4790097713667216e-09, 1.8808967467237746e-08, 1.4038338053301394e-11, 2.726905591354451e-10, 8.111814615396045e-05, 1.2440443565580416e-11, 3.5661510129034896e-07, 1.3258326782379263e-09, 9.613799151619034e-08, 2.233727552588034e-16, 1.2997957133913778e-09, 3.7895748932747083e-13, 2.798620513692639e-10, 4.1178170775159435e-07, 6.882849436692637e-09, 3.4751270273627588e-09, 1.1968474961841436e-11, 1.0073765439980626e-07, 1.7049076184766532e-09, 3.2716360628945565e-06, 1.9681781056809305e-08, 1.3587525000577004e-07, 6.131988338154199e-08, 5.0394364059763716e-12, 1.373571635847338e-09, 6.694412142952871e-10, 5.253765539325049e-08, 1.820858750609492e-12, 2.4964093281090475e-09, 3.8082330533139927e-06, 2.270734608037304e-11, 3.509256153713204e-07, 1.0414181253801481e-09, 5.25276766831133e-07, 4.376457104177318e-12, 3.326955957228206e-09, 3.344108056910459e-13, 1.833638021573942e-09, 2.49711413054365e-07, 3.6440123592972487e-09, 4.994051795664878e-09, 1.3516381399021288e-11, 6.756526544713086e-08, 9.161809638030978e-13, 1.713623621836628e-06, 1.1530765710196641e-07, 1.6038186953643943e-10, 6.197601363286286e-09, 1.1664193578081393e-11, 2.1883871421362432e-10, 1.1687247014530417e-09, 2.2380788930471826e-07, 2.211533147044886e-12, 3.929865126620912e-10, 7.703488474158573e-06, 9.193190030365253e-14, 4.3572083145176294e-07, 2.074442290732061e-09, 2.004865329255721e-07, 7.240214830940363e-12, 2.9106372825611003e-08, 7.777416855345147e-09, 2.0149926256878906e-11, 3.8545939463199377e-07, 2.5799552001222502e-09, 2.1371726349445163e-09, 8.041176643081313e-10, 2.1110646837521352e-08, 1.0486868247037356e-11, 1.0997727114234079e-06, 2.7378365028166146e-06, 5.2675072184667585e-08, 2.2795403467564138e-09, 1.7182194720151878e-10, 9.036219755025014e-11, 4.591881452257182e-09, 1.9790895908017224e-07, 9.819792566892836e-11, 9.032519288418348e-11, 1.8471923841476967e-06, 8.317956268368234e-14, 1.2196542826808356e-07, 1.870694889032168e-07, 1.8314269839860902e-06, 1.3386243286430298e-05, 7.408642745179174e-08, 1.1847193915486497e-07, 5.510194208429522e-11, 3.0449335916009107e-10, 1.771046071914376e-10, 6.009454227260312e-08, 2.0756289532904623e-11, 4.7301455063326425e-09, 2.868371708908435e-11, 4.788572205635341e-09, 5.778197009997612e-07, 8.902379217800658e-11, 2.0377837774362984e-07, 4.136786571296381e-12, 4.72281040910557e-10, 1.3477552264479894e-13, 7.398020981851367e-10, 7.828733050278155e-07, 1.1019075608304144e-07, 3.3856591684814956e-08, 2.546438297697605e-09, 6.328756601265128e-07, 7.837484914448957e-13, 1.0250324983161183e-07, 1.6953226357532797e-12, 5.501537176628315e-07, 1.0062668563343653e-07, 2.962145587483916e-11, 1.9110800471829106e-10, 2.0630460603568481e-10, 9.76115526169014e-08, 8.879835697123828e-13, 4.514749362096376e-09, 2.163089784539917e-08, 5.8516943725842496e-08, 1.8108355352386614e-08, 3.788183143800677e-12, 2.661300470943034e-08, 3.861007537465129e-11, 2.0090485134615346e-10, 2.243610574651972e-11, 7.612901450578103e-08, 2.7120046971839776e-07, 2.06506823846532e-08, 3.732460247142189e-09, 1.5350267775722166e-10, 3.787981720484332e-07, 2.664771024634015e-11, 6.384866297148819e-07, 3.238703951867136e-12, 2.1345434697921614e-06, 7.498929865179662e-07, 9.975512297455134e-10, 6.720620373405622e-09, 4.313560089993237e-09, 1.7322744706348838e-08, 1.766077037416738e-11, 3.236417234837808e-08, 1.2620531466954768e-05, 4.66519892464803e-09, 2.0405933225471668e-07, 8.80665757967788e-09, 1.8200490909610516e-07, 3.006238441295171e-11, 1.7717538555881517e-08, 1.2897309716058364e-09, 2.0312554491185752e-08, 7.143200582501699e-07, 6.051597913901618e-09, 2.2542838452116027e-10, 7.016319169476587e-10, 1.2982946935400183e-06, 4.193360439807638e-11, 2.8814810227351006e-07, 1.5970052632314556e-06, 1.4999251451111283e-06, 1.5277840476830066e-07, 1.9916548152740556e-09, 2.2217899457487254e-08, 3.428964074336373e-09, 3.0335600518184696e-07, 1.3979669855176639e-09, 2.8332604983340996e-07, 6.39075572660991e-06, 1.2648402628003133e-09, 4.03142380559246e-07, 1.2213845032605822e-09, 3.463294839646615e-07, 2.7105364077354874e-11, 3.292782258318304e-08, 1.2774382271190427e-10, 2.3602973746213e-09, 1.5160003965891738e-06, 7.213714507180707e-09, 9.306564791812196e-09, 6.063832988966481e-09, 4.166567860971744e-08, 7.985820619040499e-10, 9.71270726768232e-07, 3.7985183397141374e-07, 4.307712442198233e-08, 2.1756338119654447e-08, 4.341356414632583e-09, 6.410413734523088e-10, 2.749282710519268e-08, 7.153706352911177e-08, 2.0352183427707402e-10, 1.0797301203963008e-08, 3.3897725458623706e-06, 4.514592361061445e-11, 5.948384958709717e-07, 6.238117384290617e-09, 2.510142607859636e-07, 7.653331463225325e-11, 4.338483748841686e-08, 5.805897309520247e-08, 1.6687225090983377e-10, 7.2908606675153e-07, 9.645501936739406e-10, 2.8158477279153247e-08, 2.8673349906684417e-09, 1.114474340243032e-08, 1.3938210407491593e-10, 7.42858986303175e-07, 1.3598447151862476e-05, 5.365805261946254e-07, 5.826997786810059e-08, 2.015850977993715e-09, 3.4911659684551575e-10, 8.7127111021755e-09, 2.5022377430362156e-07, 1.7775249930101332e-11, 6.741293164611095e-09, 0.0, 1.7565237548235242e-10, 1.46799835986423e-06, 1.1171515473473553e-09, 4.526136420019172e-07, 8.629656063387877e-12, 1.372313442038872e-07, 7.38235285945245e-08, 4.894988462409387e-10, 4.0763364543076484e-07, 3.671967861226736e-09, 1.581140386755522e-08, 1.445463384697392e-09, 7.265922717672452e-08, 7.469893730398222e-11, 7.263739683723869e-08, 7.505767046940749e-07, 1.0737364257261226e-07, 1.4760693863427504e-08, 7.726437038423695e-09, 7.829307876143953e-11, 1.7199228171280016e-09, 3.264951380447388e-07, 7.084013590175246e-07, 6.8342880474630315e-09, 2.4210108704460992e-06, 1.2687220122217629e-09, 6.546620642149285e-07, 5.805203545765669e-10, 1.0130951847791418e-06, 6.1054452580683606e-12, 2.0698397503711093e-07, 3.752983015609501e-08, 6.6833086303124e-09, 3.60343879116218e-07, 5.1749833004623895e-09, 6.00883417106781e-09, 7.480650732342663e-08, 4.684180756196425e-08, 2.2342249944787474e-09, 4.166225762994812e-08, 2.8173121295190088e-08, 2.481908277695848e-09, 1.0224103966805553e-09, 7.919551696828994e-11, 3.281747571120121e-10, 3.7816492263089e-10, 2.2233401003441717e-06, 7.740476156803127e-08, 1.6770367334888715e-10, 1.0197395605140079e-06, 2.9734218555039615e-11, 1.1708475069286932e-07, 1.7955601065372692e-10, 2.700658055483747e-07, 6.155832824967019e-12, 1.0580142883326558e-07, 8.355987531449387e-08, 4.663726661247154e-10, 2.2117553634453225e-07, 9.231660749323966e-08, 5.428310292249182e-09, 1.2224892001532567e-09, 2.841015155708177e-07, 1.4590078194440797e-06, 1.691454933876734e-05, 0.00014805357899345996, 1.303690430991041e-08, 1.0731026770835486e-07, 7.713846285979048e-12, 4.2752984358707535e-08, 1.3113401299491993e-11, 1.896941621718252e-08, 1.5026881465620494e-06, 2.465746224307872e-09, 5.462418162070442e-08, 4.701048636421846e-09, 6.873340943906601e-08, 8.224544064248542e-11, 1.8756982872533773e-07, 1.3582013398735708e-06, 6.485358341649455e-07, 3.84323984314388e-08, 2.4618934303815428e-08, 1.3444170955835362e-08, 2.496528093504353e-09, 1.4640668788852896e-07, 7.277241097296589e-11, 6.8521807969028626e-09, 3.286962469842863e-07, 3.656063911200967e-10, 2.0808629529681153e-08, 1.204090792928969e-10, 1.2796121908097383e-07, 3.545707151887693e-12, 6.208520846597128e-08, 7.862836015977562e-12, 1.1575501444875975e-08, 2.876945656629226e-07, 2.8389369730540087e-10, 3.717519397131421e-09, 1.030089892311558e-09, 2.4714120525075142e-08, 3.126460467739643e-13, 4.711331983956544e-08, 1.0672411447614994e-07, 1.0706473014840667e-07, 1.1139039577665085e-10, 4.2770334070742815e-10, 2.300438930982832e-06, 7.151488503795055e-10, 3.594205607088206e-07, 7.509291739938422e-12, 6.341089887118518e-08, 1.9036216140504532e-06, 5.571274358564499e-13, 1.1417049553791764e-07, 8.708426149855527e-11, 9.221215707160289e-08, 2.256897186997493e-16, 2.3684109445658537e-08, 2.310062332513549e-08, 4.699902406693854e-10, 1.4037761885673315e-07, 5.727319210526486e-11, 7.637704609958818e-10, 1.858840059202661e-10, 2.8102777752869693e-08, 1.9673469091015865e-12, 1.98129460733206e-07, 5.53778381016141e-07, 9.2144213913893e-09, 8.215039033554718e-09, 6.362322647492223e-13, 4.5544776721337395e-10, 6.376505802595772e-12, 3.129155457005487e-08, 5.634737959995383e-08, 1.6252608140754973e-07, 4.1783767843877327e-08, 2.0101582279038658e-12, 1.1200272768419857e-09, 3.9578519662683036e-15, 2.793927452020748e-09, 2.484806020166694e-12, 4.550883610907474e-06, 1.8484371828150385e-07, 4.577240620538337e-10, 7.402746334341033e-08, 3.1224952835357775e-10, 2.0963278708889467e-08, 9.156580617225576e-11, 1.3851578879667601e-06, 1.6581295072095216e-15, 0.000735245389888779, 0.0023664025757910126, 1.323958632525153e-07, 3.3147259732866354e-07, 1.0121088060505147e-09, 1.8379571052951132e-08, 1.6840953453078256e-10, 1.219787352837953e-06, 7.376371134645337e-08, 4.92944925166224e-08, 2.296906239120844e-06, 2.339898884284579e-10, 2.453723029019224e-07, 5.8077294670890926e-11, 1.9268708989265326e-07, 8.89462541667664e-12, 8.395580448867756e-08, 3.281607527263724e-08, 3.0465806615347e-09, 1.1095220976986719e-06, 1.6732525485983445e-08, 4.695929642391833e-09, 1.5311934366957365e-09, 6.270541639994849e-08, 7.3016285549990045e-09, 9.828128154150827e-08, 1.8905549183635723e-08, 3.7310553384002015e-10, 6.170353019961774e-08, 4.556360089346012e-13, 3.310068879959697e-09, 1.2893219547620733e-10, 6.266396942365154e-07, 7.6230665167353e-09, 2.429091252935992e-10, 2.2432564604349692e-07, 4.838205014783012e-11, 5.0121333887107346e-08, 8.683526859117866e-11, 5.845519992986972e-08, 1.760142817625159e-13, 1.539284007433951e-07, 4.336627912788615e-09, 2.409958017977611e-11, 1.1845067825884595e-07, 1.8012725452533227e-08, 1.8408029830994275e-09, 1.7855433280497668e-09, 1.3277500008746655e-07, 3.7498806642109255e-07, 3.4037940860602782e-09, 2.05967190222355e-07, 1.9429813463248534e-09, 4.5887496434863756e-09, 3.799435491098454e-12, 3.330505308135273e-10, 3.940709306555621e-12, 2.261276398472072e-06, 1.8541905949404976e-08, 6.937922867697187e-13, 3.2293328985390597e-06, 1.2147026635002292e-11, 1.3325887075427653e-07, 1.301872252337819e-10, 1.5896163816201884e-06, 3.056538509636316e-08, 8.882447374628565e-10, 2.3506729596542497e-09, 1.3674556104910717e-09, 2.4953920519517796e-07, 1.0126180873786505e-12, 9.136096900367402e-09, 1.8293461529070721e-10, 8.586197564332435e-08, 6.17853134409541e-07, 5.245035051341073e-10, 3.179258435003616e-07, 1.6727796949380951e-09, 2.744830462874361e-08, 1.1447009244746277e-12, 7.346966470204215e-10, 3.95664833259936e-09, 6.145492176314965e-07, 3.2571146998674516e-07, 2.2164922271790746e-11, 5.853320934124574e-07, 3.0189500625916865e-10, 4.7672163859563247e-07, 4.565635947159528e-12, 3.716040942030256e-08, 2.4009430082395227e-08, 1.3693766617007004e-10, 1.8769690903745488e-08, 5.337560609704681e-10, 1.3447383033264184e-07, 1.5778483560417027e-13, 1.0893763755571663e-08, 5.93779932346552e-12, 1.0406107991844014e-08, 2.099152734161986e-08, 9.44263984754559e-10, 9.438608830816048e-07, 5.992707501546016e-10, 1.5345075325444943e-06, 6.040901767251476e-09, 1.1868761215408887e-06, 1.2745132402510786e-07, 7.132497362461571e-08, 3.0853952719879846e-08, 1.9042864661968186e-08, 1.2316766981039235e-06, 3.2578372445087847e-12, 1.2105463991685113e-07, 1.0548981912894303e-10, 1.59141455407535e-06, 2.183486213059494e-07, 3.8316503955531255e-12, 7.298722443046331e-10, 2.2396394692126586e-11, 9.495870694022759e-08, 2.3173918286387594e-12, 6.6317373358723376e-09, 2.672821210281469e-11, 1.1995318048725103e-10, 2.019748575659092e-08, 3.899081550853205e-11, 2.7139396956322312e-08, 5.126828715119016e-09, 3.782830428012746e-09, 1.9560900801849046e-12, 7.187782582386864e-09, 3.625760588343291e-07, 1.0853540102410503e-08, 2.2931678784425422e-10, 2.2871099428530113e-10, 4.610047773615744e-08, 2.2785053863837976e-12, 1.0651339986034157e-08, 9.659877638939289e-12, 5.0838939621010285e-08, 2.1121228364066087e-08, 4.3923681643015435e-11, 2.177104405051545e-09, 4.499027056361815e-10, 4.0110161204037745e-08, 2.670414187252588e-14, 2.4414641309343236e-09, 2.4061116269210555e-07, 3.037482570718757e-10, 3.533262602104204e-09, 6.301001069128885e-11, 5.391503294495625e-09, 9.459601103513126e-14, 2.203938035812778e-09, 3.0893564846824597e-14, 2.965019968812332e-11, 1.3557927406696242e-07, 8.618815604499308e-09, 4.2374972398625807e-08, 8.12757620540924e-11, 4.0966700338282863e-07, 8.075711081813793e-12, 4.791980043377757e-07, 5.964620822570821e-10, 7.890266079197595e-11, 2.0301566318556716e-10, 2.2125757332312337e-12, 1.952235533678921e-08, 1.0252556417900241e-10, 5.677090537883549e-08, 1.4333077048688614e-14, 8.871371302518637e-09, 7.820001721620411e-08, 9.238358672277033e-12, 9.885513630589449e-08, 6.454362921653828e-11, 2.4289167639041476e-07, 6.8915935883273204e-15, 1.0829869482235801e-08, 9.154738515071347e-15, 4.138537077490834e-10, 1.8842113386149458e-10, 1.4892731428168815e-12, 1.7792999696172022e-09, 3.708973844056989e-11, 6.049037192010154e-09, 6.326735030658013e-13, 2.7046738866027492e-08, 4.737013973472685e-07, 3.925459503845021e-10, 9.181483500109927e-09, 3.2789893127007784e-10, 2.668241605484486e-09, 9.91698563633254e-10, 1.9121411786748533e-07, 6.582872562672041e-13, 1.7416058775669408e-10, 1.5799371308152518e-06, 8.861688156241226e-13, 8.046331703642033e-09, 1.795414685777301e-10, 4.538737726446685e-09, 1.1544654725955218e-13, 1.35130961003769e-09, 8.903657601566527e-10, 2.808392881423251e-13, 3.553580758109096e-08, 1.818308981915278e-10, 3.230728547238592e-10, 1.5489101201399552e-12, 7.42084335385847e-09, 4.1623738331296304e-14, 6.075468381285496e-08, 6.880915074870436e-07, 1.795845380131769e-11, 6.914289516653273e-08, 6.377899641111189e-10, 1.7957791435636023e-11, 5.15896689713016e-12, 6.670693365623116e-08, 3.490661780890091e-14, 1.0971095876103396e-10, 1.1290463297800688e-06, 2.9621553465823067e-15, 2.1565214486536913e-08, 4.11173450693746e-11, 1.9906268943332463e-08, 9.814791335303872e-13, 5.290775290207675e-09, 1.3723914330615504e-09, 6.52909383690585e-14, 9.318594233718136e-08, 1.1295536922508751e-10, 1.2911995759045432e-12, 1.513545467673229e-10, 1.3839832134778396e-09, 1.4308941738329135e-12, 2.345103062966447e-06, 3.873690051933724e-08, 1.8999362378343018e-13, 2.772055199580346e-10, 7.072586816164792e-12, 1.0715376631455677e-11, 9.490348860682113e-11, 1.0145937523798294e-07, 3.772578457985515e-09, 4.398760770526317e-13, 1.2896038166853604e-06, 2.883050871924308e-12, 1.1002675718617865e-07, 6.200996454510278e-11, 8.987315261671568e-08, 1.405872990992772e-14, 9.516238791072594e-09, 8.588809807479e-10, 1.4679648738678484e-12, 5.8564300751569506e-08, 1.5398378905879712e-09, 5.05140600749106e-10, 1.1290150569697078e-10, 1.0369020200003355e-06, 8.376034541537464e-11, 4.248247572868493e-09, 3.188718363121263e-08, 3.1588036464049776e-10, 2.01747592360881e-10, 6.229183089463827e-13, 3.7231226816417685e-13, 1.4236905931272575e-13, 2.464381586963143e-08, 5.076309475762717e-09, 1.1267482777272899e-13, 3.45369522643367e-07, 4.098906192686381e-12, 2.541217144329825e-08, 8.596579317226595e-12, 3.9600421517161415e-08, 1.6883344353756467e-13, 4.6521578845783873e-10, 2.25706647995041e-09, 4.89217553727578e-14, 7.490755800081975e-08, 1.2382563147612306e-09, 7.434111257052138e-12, 3.4326585542350564e-11, 5.520751187714803e-08, 2.673355509184525e-08, 1.4644929369051047e-10, 1.0006424302238536e-08, 2.003461785995181e-10, 4.724630274212552e-10, 1.8746312270511852e-11, 6.294609554677914e-12, 3.668930413134228e-11, 2.462909539152907e-07, 3.8892424578550586e-08, 2.631740397158174e-14, 1.6032880311355825e-06, 3.5382507072622867e-10, 8.14777692278473e-08, 1.0427005519512186e-12, 2.915798759215067e-09, 1.1674540345198243e-07, 1.7715430956537855e-10, 1.3944629783330578e-08, 1.1096172483021786e-12, 5.353400893631102e-08, 3.6654967693349125e-12, 1.3754850072300987e-11, 3.1386527536608007e-10, 2.824124621987024e-08, 1.9130344314230958e-07, 1.8212765838268545e-09, 7.693443075170854e-08, 4.8109980408914284e-11, 4.056270411155738e-11, 2.8626344580397186e-12, 9.261266219530964e-11, 1.317708703192191e-10, 2.1192796500212464e-06, 1.6156329479452489e-09, 1.6870798499094684e-15, 2.6955109093404553e-07, 1.1178752686107267e-11, 4.214364199230375e-08, 3.293202008711748e-11, 7.717468897048622e-07, 2.8550179751652367e-08, 5.495888163967189e-10, 7.99994194146256e-10, 1.6990938394916915e-10, 3.234230722373461e-08, 5.12548968774562e-14, 3.4045797093226026e-11, 1.3434308062898314e-10, 6.188469877604168e-09, 2.6328754674777447e-08, 3.3060637140282497e-11, 1.823404318091e-08, 1.655428884245025e-11, 1.7370589270946828e-10, 1.0460574669879304e-12, 4.234249587360572e-10, 2.626408890241921e-08, 9.292418266860025e-09, 1.4030975420581776e-09, 2.9680451826276296e-12, 3.773217210437661e-08, 6.548427539485456e-12, 9.783451402194675e-10, 6.204224128509114e-13, 8.150262178205533e-08, 5.473288166384892e-09, 2.5181894328331822e-09, 3.6734283551971283e-10, 4.1213679277621956e-10, 5.480299928193452e-08, 6.92540983057978e-13, 1.8734219523200594e-09, 3.0759951113347814e-12, 1.6296910266175814e-08, 1.0365941093405135e-08, 8.1385937819979e-11, 6.789408682682715e-08, 2.5326256091549337e-11, 1.7930063916247614e-09, 1.1399141744066142e-12, 1.0594566710196633e-08, 1.5999318602068906e-06, 4.329905993191699e-10, 2.1818852141947644e-10, 4.5420961841983303e-13, 1.4455817224350613e-08, 4.012068072262984e-14, 3.346807799689535e-09, 1.5053838599149326e-13, 5.104076065590151e-08, 1.4113060056843539e-08, 2.964727586473046e-15, 1.611091195438704e-11, 1.6975215622576265e-12, 7.701996912241429e-10, 1.7926934242636908e-14, 7.4089909056482365e-09, 1.5222013193410504e-08, 1.5459162166177363e-09, 2.231066428433924e-08, 2.1992302622255005e-11, 4.155121186262673e-08, 8.9835967292289e-14, 8.511187872148734e-11, 9.257313026204583e-14, 2.908664169684551e-09, 2.633916218968995e-07, 2.8741498932093183e-09, 1.2031743552462395e-10, 7.936140815527244e-12, 3.2626874590092454e-07, 1.3484071168310698e-13, 8.659104611723252e-08, 2.6050049549598423e-10, 2.894758115639544e-07, 1.0271139253004327e-08, 4.486057914447419e-14, 6.58934388155163e-11, 7.725181213034613e-14]\n"
     ]
    }
   ],
   "source": [
    "\n",
    "# Assuming 'sales' is the column you want to test for stationarity\n",
    "sales_data = train['sales']\n",
    "\n",
    "# Define the window size\n",
    "window_size = 1000  # Adjust as needed\n",
    "\n",
    "# Initialize a list to store p-values\n",
    "p_values = []\n",
    "\n",
    "# Perform rolling ADF test\n",
    "for i in range(0, len(sales_data), window_size):\n",
    "    window = sales_data[i:i + window_size]\n",
    "    result = adfuller(window)\n",
    "    p_value = result[1]\n",
    "    p_values.append(p_value)\n",
    "\n",
    "# Print the p-values\n",
    "print(\"Rolling ADF Test p-values:\", p_values)\n",
    "\n",
    "# Print the DataFrame with the p-values\n",
    "\n"
   ]
  }
 ],
 "metadata": {
  "kernelspec": {
   "display_name": "Python 3",
   "language": "python",
   "name": "python3"
  },
  "language_info": {
   "codemirror_mode": {
    "name": "ipython",
    "version": 3
   },
   "file_extension": ".py",
   "mimetype": "text/x-python",
   "name": "python",
   "nbconvert_exporter": "python",
   "pygments_lexer": "ipython3",
   "version": "3.11.2"
  },
  "orig_nbformat": 4
 },
 "nbformat": 4,
 "nbformat_minor": 2
}
